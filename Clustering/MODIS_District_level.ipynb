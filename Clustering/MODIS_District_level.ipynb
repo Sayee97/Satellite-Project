{
 "cells": [
  {
   "cell_type": "code",
   "execution_count": 166,
   "metadata": {},
   "outputs": [],
   "source": [
    "import pandas as pd\n",
    "from sklearn.cluster import KMeans\n",
    "import numpy as np\n",
    "from ggplot import *\n",
    "\n",
    "#from sklearn.cluster import KMeans\n",
    "from sklearn import metrics\n",
    "from scipy.spatial.distance import cdist\n",
    "import matplotlib.pyplot as plt"
   ]
  },
  {
   "cell_type": "code",
   "execution_count": 167,
   "metadata": {},
   "outputs": [],
   "source": [
    "#import re"
   ]
  },
  {
   "cell_type": "code",
   "execution_count": 168,
   "metadata": {},
   "outputs": [],
   "source": [
    "df=pd.read_csv('Dist_Modis.csv')"
   ]
  },
  {
   "cell_type": "code",
   "execution_count": 169,
   "metadata": {},
   "outputs": [
    {
     "data": {
      "text/html": [
       "<div>\n",
       "<style scoped>\n",
       "    .dataframe tbody tr th:only-of-type {\n",
       "        vertical-align: middle;\n",
       "    }\n",
       "\n",
       "    .dataframe tbody tr th {\n",
       "        vertical-align: top;\n",
       "    }\n",
       "\n",
       "    .dataframe thead th {\n",
       "        text-align: right;\n",
       "    }\n",
       "</style>\n",
       "<table border=\"1\" class=\"dataframe\">\n",
       "  <thead>\n",
       "    <tr style=\"text-align: right;\">\n",
       "      <th></th>\n",
       "      <th>DISTRICT</th>\n",
       "      <th>PK</th>\n",
       "      <th>Water</th>\n",
       "      <th>Evergreen Needleleaf forest</th>\n",
       "      <th>Evergreen Broadleaf forest</th>\n",
       "      <th>Deciduous Needleleaf forest</th>\n",
       "      <th>Deciduous Broadleaf forest</th>\n",
       "      <th>Mixed forest</th>\n",
       "      <th>Closed shrublands</th>\n",
       "      <th>Open shrublands</th>\n",
       "      <th>Woody savannas</th>\n",
       "      <th>Savannas</th>\n",
       "      <th>Grasslands</th>\n",
       "      <th>Permanent wetlands</th>\n",
       "      <th>Croplands</th>\n",
       "      <th>Urban and built-up</th>\n",
       "      <th>Cropland/Natural vegetation mosaic</th>\n",
       "      <th>Snow and ice</th>\n",
       "      <th>Barren or sparsely vegetated</th>\n",
       "    </tr>\n",
       "  </thead>\n",
       "  <tbody>\n",
       "    <tr>\n",
       "      <th>0</th>\n",
       "      <td>South Andaman</td>\n",
       "      <td>640</td>\n",
       "      <td>94.9</td>\n",
       "      <td>0.558938</td>\n",
       "      <td>1920.0</td>\n",
       "      <td>1.489138</td>\n",
       "      <td>3.624205</td>\n",
       "      <td>27.7</td>\n",
       "      <td>0.184983</td>\n",
       "      <td>0.000000</td>\n",
       "      <td>11.600000</td>\n",
       "      <td>1.800511</td>\n",
       "      <td>0.933582</td>\n",
       "      <td>282.000000</td>\n",
       "      <td>10.600000</td>\n",
       "      <td>13.100000</td>\n",
       "      <td>59.6</td>\n",
       "      <td>0.075611</td>\n",
       "      <td>0.491767</td>\n",
       "    </tr>\n",
       "    <tr>\n",
       "      <th>1</th>\n",
       "      <td>Nicobar</td>\n",
       "      <td>638</td>\n",
       "      <td>99.6</td>\n",
       "      <td>0.374300</td>\n",
       "      <td>1230.0</td>\n",
       "      <td>0.695424</td>\n",
       "      <td>0.403167</td>\n",
       "      <td>17.9</td>\n",
       "      <td>0.000000</td>\n",
       "      <td>0.000000</td>\n",
       "      <td>4.116979</td>\n",
       "      <td>0.000000</td>\n",
       "      <td>2.631591</td>\n",
       "      <td>241.000000</td>\n",
       "      <td>5.819983</td>\n",
       "      <td>0.882904</td>\n",
       "      <td>88.9</td>\n",
       "      <td>0.112488</td>\n",
       "      <td>3.827191</td>\n",
       "    </tr>\n",
       "    <tr>\n",
       "      <th>2</th>\n",
       "      <td>North &amp; Middle Andaman</td>\n",
       "      <td>639</td>\n",
       "      <td>104.0</td>\n",
       "      <td>1.850700</td>\n",
       "      <td>2640.0</td>\n",
       "      <td>1.946545</td>\n",
       "      <td>5.453928</td>\n",
       "      <td>38.6</td>\n",
       "      <td>0.406758</td>\n",
       "      <td>0.231974</td>\n",
       "      <td>64.500000</td>\n",
       "      <td>3.050149</td>\n",
       "      <td>1.000333</td>\n",
       "      <td>340.000000</td>\n",
       "      <td>7.759433</td>\n",
       "      <td>0.000000</td>\n",
       "      <td>161.0</td>\n",
       "      <td>0.447024</td>\n",
       "      <td>0.094551</td>\n",
       "    </tr>\n",
       "    <tr>\n",
       "      <th>3</th>\n",
       "      <td>Lawangtlai</td>\n",
       "      <td>287</td>\n",
       "      <td>0.0</td>\n",
       "      <td>0.000000</td>\n",
       "      <td>1070.0</td>\n",
       "      <td>0.000000</td>\n",
       "      <td>0.000000</td>\n",
       "      <td>20.6</td>\n",
       "      <td>0.000000</td>\n",
       "      <td>0.000000</td>\n",
       "      <td>868.000000</td>\n",
       "      <td>1.335548</td>\n",
       "      <td>0.000000</td>\n",
       "      <td>0.184118</td>\n",
       "      <td>2.711483</td>\n",
       "      <td>0.000000</td>\n",
       "      <td>29.0</td>\n",
       "      <td>0.000000</td>\n",
       "      <td>0.000000</td>\n",
       "    </tr>\n",
       "    <tr>\n",
       "      <th>4</th>\n",
       "      <td>Lunglei</td>\n",
       "      <td>286</td>\n",
       "      <td>0.0</td>\n",
       "      <td>0.000000</td>\n",
       "      <td>3890.0</td>\n",
       "      <td>0.000000</td>\n",
       "      <td>0.000000</td>\n",
       "      <td>44.3</td>\n",
       "      <td>0.000000</td>\n",
       "      <td>0.000000</td>\n",
       "      <td>565.000000</td>\n",
       "      <td>0.819342</td>\n",
       "      <td>0.000000</td>\n",
       "      <td>0.230629</td>\n",
       "      <td>1.947699</td>\n",
       "      <td>0.000000</td>\n",
       "      <td>17.3</td>\n",
       "      <td>0.000000</td>\n",
       "      <td>0.000000</td>\n",
       "    </tr>\n",
       "  </tbody>\n",
       "</table>\n",
       "</div>"
      ],
      "text/plain": [
       "                 DISTRICT   PK  Water  Evergreen Needleleaf forest  \\\n",
       "0           South Andaman  640   94.9                     0.558938   \n",
       "1                 Nicobar  638   99.6                     0.374300   \n",
       "2  North & Middle Andaman  639  104.0                     1.850700   \n",
       "3              Lawangtlai  287    0.0                     0.000000   \n",
       "4                 Lunglei  286    0.0                     0.000000   \n",
       "\n",
       "   Evergreen Broadleaf forest  Deciduous Needleleaf forest  \\\n",
       "0                      1920.0                     1.489138   \n",
       "1                      1230.0                     0.695424   \n",
       "2                      2640.0                     1.946545   \n",
       "3                      1070.0                     0.000000   \n",
       "4                      3890.0                     0.000000   \n",
       "\n",
       "   Deciduous Broadleaf forest  Mixed forest  Closed shrublands  \\\n",
       "0                    3.624205          27.7           0.184983   \n",
       "1                    0.403167          17.9           0.000000   \n",
       "2                    5.453928          38.6           0.406758   \n",
       "3                    0.000000          20.6           0.000000   \n",
       "4                    0.000000          44.3           0.000000   \n",
       "\n",
       "   Open shrublands  Woody savannas  Savannas  Grasslands  Permanent wetlands  \\\n",
       "0         0.000000       11.600000  1.800511    0.933582          282.000000   \n",
       "1         0.000000        4.116979  0.000000    2.631591          241.000000   \n",
       "2         0.231974       64.500000  3.050149    1.000333          340.000000   \n",
       "3         0.000000      868.000000  1.335548    0.000000            0.184118   \n",
       "4         0.000000      565.000000  0.819342    0.000000            0.230629   \n",
       "\n",
       "   Croplands  Urban and built-up  Cropland/Natural vegetation mosaic  \\\n",
       "0  10.600000           13.100000                                59.6   \n",
       "1   5.819983            0.882904                                88.9   \n",
       "2   7.759433            0.000000                               161.0   \n",
       "3   2.711483            0.000000                                29.0   \n",
       "4   1.947699            0.000000                                17.3   \n",
       "\n",
       "   Snow and ice  Barren or sparsely vegetated  \n",
       "0      0.075611                      0.491767  \n",
       "1      0.112488                      3.827191  \n",
       "2      0.447024                      0.094551  \n",
       "3      0.000000                      0.000000  \n",
       "4      0.000000                      0.000000  "
      ]
     },
     "execution_count": 169,
     "metadata": {},
     "output_type": "execute_result"
    }
   ],
   "source": [
    "df.head()"
   ]
  },
  {
   "cell_type": "code",
   "execution_count": 170,
   "metadata": {},
   "outputs": [
    {
     "data": {
      "text/plain": [
       "(640,)"
      ]
     },
     "execution_count": 170,
     "metadata": {},
     "output_type": "execute_result"
    }
   ],
   "source": [
    "X=df['Urban and built-up']\n",
    "X.shape"
   ]
  },
  {
   "cell_type": "code",
   "execution_count": 175,
   "metadata": {
    "scrolled": true
   },
   "outputs": [
    {
     "data": {
      "text/html": [
       "<div>\n",
       "<style scoped>\n",
       "    .dataframe tbody tr th:only-of-type {\n",
       "        vertical-align: middle;\n",
       "    }\n",
       "\n",
       "    .dataframe tbody tr th {\n",
       "        vertical-align: top;\n",
       "    }\n",
       "\n",
       "    .dataframe thead th {\n",
       "        text-align: right;\n",
       "    }\n",
       "</style>\n",
       "<table border=\"1\" class=\"dataframe\">\n",
       "  <thead>\n",
       "    <tr style=\"text-align: right;\">\n",
       "      <th></th>\n",
       "      <th>DISTRICT</th>\n",
       "      <th>PK</th>\n",
       "      <th>Water</th>\n",
       "      <th>Evergreen Needleleaf forest</th>\n",
       "      <th>Evergreen Broadleaf forest</th>\n",
       "      <th>Deciduous Needleleaf forest</th>\n",
       "      <th>Deciduous Broadleaf forest</th>\n",
       "      <th>Mixed forest</th>\n",
       "      <th>Closed shrublands</th>\n",
       "      <th>Open shrublands</th>\n",
       "      <th>Woody savannas</th>\n",
       "      <th>Savannas</th>\n",
       "      <th>Grasslands</th>\n",
       "      <th>Permanent wetlands</th>\n",
       "      <th>Croplands</th>\n",
       "      <th>Urban and built-up</th>\n",
       "      <th>Cropland/Natural vegetation mosaic</th>\n",
       "      <th>Snow and ice</th>\n",
       "      <th>Barren or sparsely vegetated</th>\n",
       "    </tr>\n",
       "  </thead>\n",
       "  <tbody>\n",
       "    <tr>\n",
       "      <th>0</th>\n",
       "      <td>South Andaman</td>\n",
       "      <td>640</td>\n",
       "      <td>94.900000</td>\n",
       "      <td>0.558938</td>\n",
       "      <td>1920.0</td>\n",
       "      <td>1.489138</td>\n",
       "      <td>3.624205</td>\n",
       "      <td>27.7</td>\n",
       "      <td>0.184983</td>\n",
       "      <td>0.0</td>\n",
       "      <td>11.600000</td>\n",
       "      <td>1.800511</td>\n",
       "      <td>0.933582</td>\n",
       "      <td>282.000000</td>\n",
       "      <td>10.600000</td>\n",
       "      <td>13.100000</td>\n",
       "      <td>59.6</td>\n",
       "      <td>0.075611</td>\n",
       "      <td>0.491767</td>\n",
       "    </tr>\n",
       "    <tr>\n",
       "      <th>1</th>\n",
       "      <td>Nicobar</td>\n",
       "      <td>638</td>\n",
       "      <td>99.600000</td>\n",
       "      <td>0.374300</td>\n",
       "      <td>1230.0</td>\n",
       "      <td>0.695424</td>\n",
       "      <td>0.403167</td>\n",
       "      <td>17.9</td>\n",
       "      <td>0.000000</td>\n",
       "      <td>0.0</td>\n",
       "      <td>4.116979</td>\n",
       "      <td>0.000000</td>\n",
       "      <td>2.631591</td>\n",
       "      <td>241.000000</td>\n",
       "      <td>5.819983</td>\n",
       "      <td>0.882904</td>\n",
       "      <td>88.9</td>\n",
       "      <td>0.112488</td>\n",
       "      <td>3.827191</td>\n",
       "    </tr>\n",
       "    <tr>\n",
       "      <th>8</th>\n",
       "      <td>Lower Dibang Valley</td>\n",
       "      <td>258</td>\n",
       "      <td>10.500000</td>\n",
       "      <td>286.000000</td>\n",
       "      <td>877.0</td>\n",
       "      <td>0.236435</td>\n",
       "      <td>1.574910</td>\n",
       "      <td>3350.0</td>\n",
       "      <td>5.824916</td>\n",
       "      <td>80.1</td>\n",
       "      <td>232.000000</td>\n",
       "      <td>16.800000</td>\n",
       "      <td>392.000000</td>\n",
       "      <td>19.900000</td>\n",
       "      <td>109.000000</td>\n",
       "      <td>2.960215</td>\n",
       "      <td>278.0</td>\n",
       "      <td>24.600000</td>\n",
       "      <td>1.824287</td>\n",
       "    </tr>\n",
       "    <tr>\n",
       "      <th>12</th>\n",
       "      <td>Sivasagar</td>\n",
       "      <td>311</td>\n",
       "      <td>0.084482</td>\n",
       "      <td>0.000000</td>\n",
       "      <td>142.0</td>\n",
       "      <td>0.000000</td>\n",
       "      <td>0.000000</td>\n",
       "      <td>10.9</td>\n",
       "      <td>0.642406</td>\n",
       "      <td>16.0</td>\n",
       "      <td>454.000000</td>\n",
       "      <td>9.667729</td>\n",
       "      <td>6.067683</td>\n",
       "      <td>3.975134</td>\n",
       "      <td>1460.000000</td>\n",
       "      <td>9.204755</td>\n",
       "      <td>517.0</td>\n",
       "      <td>0.000000</td>\n",
       "      <td>2.053434</td>\n",
       "    </tr>\n",
       "    <tr>\n",
       "      <th>14</th>\n",
       "      <td>Lohit</td>\n",
       "      <td>259</td>\n",
       "      <td>2.833850</td>\n",
       "      <td>86.900000</td>\n",
       "      <td>0.0</td>\n",
       "      <td>0.194127</td>\n",
       "      <td>2.141042</td>\n",
       "      <td>1130.0</td>\n",
       "      <td>12.300000</td>\n",
       "      <td>23.8</td>\n",
       "      <td>305.000000</td>\n",
       "      <td>37.100000</td>\n",
       "      <td>94.500000</td>\n",
       "      <td>36.900000</td>\n",
       "      <td>138.000000</td>\n",
       "      <td>2.631680</td>\n",
       "      <td>404.0</td>\n",
       "      <td>0.473582</td>\n",
       "      <td>0.893446</td>\n",
       "    </tr>\n",
       "  </tbody>\n",
       "</table>\n",
       "</div>"
      ],
      "text/plain": [
       "               DISTRICT   PK      Water  Evergreen Needleleaf forest  \\\n",
       "0         South Andaman  640  94.900000                     0.558938   \n",
       "1               Nicobar  638  99.600000                     0.374300   \n",
       "8   Lower Dibang Valley  258  10.500000                   286.000000   \n",
       "12            Sivasagar  311   0.084482                     0.000000   \n",
       "14                Lohit  259   2.833850                    86.900000   \n",
       "\n",
       "    Evergreen Broadleaf forest  Deciduous Needleleaf forest  \\\n",
       "0                       1920.0                     1.489138   \n",
       "1                       1230.0                     0.695424   \n",
       "8                        877.0                     0.236435   \n",
       "12                       142.0                     0.000000   \n",
       "14                         0.0                     0.194127   \n",
       "\n",
       "    Deciduous Broadleaf forest  Mixed forest  Closed shrublands  \\\n",
       "0                     3.624205          27.7           0.184983   \n",
       "1                     0.403167          17.9           0.000000   \n",
       "8                     1.574910        3350.0           5.824916   \n",
       "12                    0.000000          10.9           0.642406   \n",
       "14                    2.141042        1130.0          12.300000   \n",
       "\n",
       "    Open shrublands  Woody savannas   Savannas  Grasslands  \\\n",
       "0               0.0       11.600000   1.800511    0.933582   \n",
       "1               0.0        4.116979   0.000000    2.631591   \n",
       "8              80.1      232.000000  16.800000  392.000000   \n",
       "12             16.0      454.000000   9.667729    6.067683   \n",
       "14             23.8      305.000000  37.100000   94.500000   \n",
       "\n",
       "    Permanent wetlands    Croplands  Urban and built-up  \\\n",
       "0           282.000000    10.600000           13.100000   \n",
       "1           241.000000     5.819983            0.882904   \n",
       "8            19.900000   109.000000            2.960215   \n",
       "12            3.975134  1460.000000            9.204755   \n",
       "14           36.900000   138.000000            2.631680   \n",
       "\n",
       "    Cropland/Natural vegetation mosaic  Snow and ice  \\\n",
       "0                                 59.6      0.075611   \n",
       "1                                 88.9      0.112488   \n",
       "8                                278.0     24.600000   \n",
       "12                               517.0      0.000000   \n",
       "14                               404.0      0.473582   \n",
       "\n",
       "    Barren or sparsely vegetated  \n",
       "0                       0.491767  \n",
       "1                       3.827191  \n",
       "8                       1.824287  \n",
       "12                      2.053434  \n",
       "14                      0.893446  "
      ]
     },
     "execution_count": 175,
     "metadata": {},
     "output_type": "execute_result"
    }
   ],
   "source": [
    "#X1=df.dropna(subset=['Urban and built-up'])\n",
    "urban='Urban and built-up'\n",
    "#X1 = df.drop(df['Urban and built-up']==0)\n",
    "X1 = df[df['Urban and built-up'] > 0]\n",
    "\n",
    "#X1=df[df['Urban and built-up'!=0.0]]\n",
    "#m=df.drop(df['Urban and built-up'] is 0)\n"
   ]
  },
  {
   "cell_type": "code",
   "execution_count": 177,
   "metadata": {},
   "outputs": [],
   "source": [
    "df_mod=X1"
   ]
  },
  {
   "cell_type": "code",
   "execution_count": 181,
   "metadata": {},
   "outputs": [],
   "source": [
    "Input=df_mod['Urban and built-up']\n",
    "#Input.shape\n",
    "Xreshaped=Input.values.reshape(-1,1)\n",
    "#Xreshaped.shape\n",
    "#Xreshaped"
   ]
  },
  {
   "cell_type": "code",
   "execution_count": 182,
   "metadata": {},
   "outputs": [
    {
     "data": {
      "text/plain": [
       "array([13.1])"
      ]
     },
     "execution_count": 182,
     "metadata": {},
     "output_type": "execute_result"
    }
   ],
   "source": [
    "Xreshaped[0]"
   ]
  },
  {
   "cell_type": "code",
   "execution_count": 183,
   "metadata": {},
   "outputs": [
    {
     "data": {
      "image/png": "[encoded data removed]",
      "text/plain": [
       "<matplotlib.figure.Figure at 0x215c5f3dbe0>"
      ]
     },
     "metadata": {},
     "output_type": "display_data"
    }
   ],
   "source": [
    "K = range(1,12)\n",
    "\n",
    "#X.values.reshape(-1,1)\n",
    "distortions=[]\n",
    "for k in K:\n",
    "    kmeanModel = KMeans(n_clusters=k).fit(Xreshaped)\n",
    "    kmeanModel.fit(Xreshaped)\n",
    "    distortions.append(sum(np.min(cdist(Xreshaped, kmeanModel.cluster_centers_, 'euclidean'), axis=1)))\n",
    " #distortions.append(sum(np.min(cdist(X, kmeanModel.cluster_centers_, 'euclidean'), axis=1)) / X.shape[0])   \n",
    "###Plot the elbow\n",
    "plt.plot(K, distortions, 'bx-')\n",
    "plt.xlabel('k')\n",
    "plt.ylabel('Distortion')\n",
    "plt.title('The Elbow Method showing the optimal k')\n",
    "plt.show()\n"
   ]
  },
  {
   "cell_type": "code",
   "execution_count": 185,
   "metadata": {},
   "outputs": [],
   "source": [
    "kmeanModel = KMeans(n_clusters=3).fit(Xreshaped)\n",
    "df_labels= pd.DataFrame(data={'DIST_CODE':df_mod.PK,'DISTRICT':df_mod.DISTRICT, 'LABELS' :kmeanModel.labels_})\n",
    "#df_labels.groupby('DISTRICT_CDF_Labels_avg_rad').count()"
   ]
  },
  {
   "cell_type": "code",
   "execution_count": 129,
   "metadata": {},
   "outputs": [],
   "source": [
    "#df_labels"
   ]
  },
  {
   "cell_type": "code",
   "execution_count": 186,
   "metadata": {},
   "outputs": [
    {
     "data": {
      "text/plain": [
       "LABELS\n",
       "0    414\n",
       "1     40\n",
       "2    132\n",
       "dtype: int64"
      ]
     },
     "execution_count": 186,
     "metadata": {},
     "output_type": "execute_result"
    }
   ],
   "source": [
    "df_labels.groupby('LABELS').size()"
   ]
  },
  {
   "cell_type": "code",
   "execution_count": 125,
   "metadata": {},
   "outputs": [],
   "source": [
    "df_labels.to_csv('MODIS_DIST_LEVEL_CLUSTERING.csv')\n"
   ]
  },
  {
   "cell_type": "code",
   "execution_count": 187,
   "metadata": {},
   "outputs": [
    {
     "data": {
      "image/png": "[encoded data removed]",
      "text/plain": [
       "<matplotlib.figure.Figure at 0x215c8b17550>"
      ]
     },
     "metadata": {},
     "output_type": "display_data"
    }
   ],
   "source": [
    "df_cdfVill=df_mod.merge(df_labels, left_on= 'PK' ,right_on='DIST_CODE', how='left')\n",
    "#df_cdfVill.dropna()\n",
    "#plt.hist(df_cdfVill)\n",
    "#plt.hist(df_cdfVill)\n",
    "plot= ggplot(df_cdfVill, aes(x='Urban and built-up'))+geom_histogram(binwidth=1, color='blue')+facet_wrap('LABELS', scales='free_y')\n",
    "#del df_cdfVill\n",
    "plot\n",
    "plot.save('MODIS_with_zeros_Urban_Built.png')"
   ]
  },
  {
   "cell_type": "code",
   "execution_count": null,
   "metadata": {},
   "outputs": [],
   "source": []
  }
 ],
 "metadata": {
  "kernelspec": {
   "display_name": "Python 3",
   "language": "python",
   "name": "python3"
  },
  "language_info": {
   "codemirror_mode": {
    "name": "ipython",
    "version": 3
   },
   "file_extension": ".py",
   "mimetype": "text/x-python",
   "name": "python",
   "nbconvert_exporter": "python",
   "pygments_lexer": "ipython3",
   "version": "3.6.4"
  }
 },
 "nbformat": 4,
 "nbformat_minor": 2
}
