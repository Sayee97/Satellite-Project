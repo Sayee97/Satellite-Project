{
 "cells": [
  {
   "cell_type": "markdown",
   "metadata": {},
   "source": [
    "## IMPORT FILES"
   ]
  },
  {
   "cell_type": "code",
   "execution_count": 1,
   "metadata": {},
   "outputs": [
    {
     "name": "stderr",
     "output_type": "stream",
     "text": [
      "C:\\Users\\HP\\Anaconda3\\lib\\site-packages\\ggplot\\utils.py:81: FutureWarning: pandas.tslib is deprecated and will be removed in a future version.\n",
      "You can access Timestamp as pandas.Timestamp\n",
      "  pd.tslib.Timestamp,\n",
      "C:\\Users\\HP\\Anaconda3\\lib\\site-packages\\ggplot\\stats\\smoothers.py:4: FutureWarning: The pandas.lib module is deprecated and will be removed in a future version. These are private functions and can be accessed from pandas._libs.lib instead\n",
      "  from pandas.lib import Timestamp\n",
      "C:\\Users\\HP\\Anaconda3\\lib\\site-packages\\statsmodels\\compat\\pandas.py:56: FutureWarning: The pandas.core.datetools module is deprecated and will be removed in a future version. Please use the pandas.tseries module instead.\n",
      "  from pandas.core import datetools\n"
     ]
    }
   ],
   "source": [
    "###Import Libraries\n",
    "#import geopandas as gpd\n",
    "import pandas as pd\n",
    "#from haversine import haversine\n",
    "import math\n",
    "import numpy as np\n",
    "from ggplot import *\n",
    "\n",
    "from sklearn.cluster import KMeans\n",
    "from sklearn import metrics\n",
    "from scipy.spatial.distance import cdist\n",
    "import matplotlib.pyplot as plt\n",
    "#import folium\n",
    "#import folium.colormap as cm\n",
    "#from branca.colormap import linear\n",
    "from sklearn.preprocessing import scale\n",
    "import seaborn as sns\n",
    "from pandas.plotting import table"
   ]
  },
  {
   "cell_type": "markdown",
   "metadata": {},
   "source": [
    "\n",
    "\n",
    "## CDF CLUSTERING"
   ]
  },
  {
   "cell_type": "code",
   "execution_count": 2,
   "metadata": {},
   "outputs": [],
   "source": [
    "###Function for binning\n",
    "def binit(start,end,size):\n",
    "    bins=[]\n",
    "    j=start\n",
    "    k=(end-start)/size\n",
    "    for i in range(size-1):\n",
    "        j=j+k\n",
    "        bins=bins+[j]\n",
    "    return bins\n",
    "\n",
    "###Function for CDF \n",
    "def cdf(row,df,value,ref):\n",
    "    df_temp1=df.loc[(df[ref]==row[var_scale])&(df[value]<=row['Cutoff']),ref]\n",
    "    df_temp2=df.loc[(df[ref]==row[var_scale]),ref]\n",
    "    return float(len(df_temp1))/((float(len(df_temp2)))+0.0000000001)\n",
    "\n",
    "###Function for creating cut_off bins\n",
    "def cob(df,var_study,var_scale,bins):\n",
    "    df_1=pd.DataFrame(data={'Cutoff':bins})\n",
    "    #print(df_1)\n",
    "    df_2=pd.DataFrame(data={var_scale:df[var_scale].unique()})\n",
    "    #print(df_2)\n",
    "    df_1['key']=1\n",
    "    df_2['key']=1\n",
    "    df_cluster=df_1.merge(df_2, right_on='key', left_on='key', how='inner')\n",
    "    del df_cluster['key'], df_1, df_2\n",
    "    df_cluster[var_study]=df_cluster.apply( lambda row: cdf(row,df_Vill,var_study,var_scale), axis=1)\n",
    "    return df_cluster"
   ]
  },
  {
   "cell_type": "markdown",
   "metadata": {},
   "source": [
    "#### Main"
   ]
  },
  {
   "cell_type": "code",
   "execution_count": 3,
   "metadata": {},
   "outputs": [
    {
     "name": "stderr",
     "output_type": "stream",
     "text": [
      "C:\\Users\\HP\\Anaconda3\\lib\\site-packages\\IPython\\core\\interactiveshell.py:2728: DtypeWarning: Columns (4,7,8,9,10,18,21,25,26,27) have mixed types. Specify dtype option on import or set low_memory=False.\n",
      "  interactivity=interactivity, compiler=compiler, result=result)\n"
     ]
    }
   ],
   "source": [
    "###Import Village, District, State Files\n",
    "df_Vill=pd.read_csv('FINALSUM.csv')\n",
    "df_VillDEMO=pd.read_csv('FINALSUM.csv')\n",
    "\n",
    "\n",
    "\n",
    "df_Vill = df_Vill[df_Vill.avg_rad != 0]\n",
    "#df_Vill['MSW_ADV']\n",
    "df_Vill=df_Vill.dropna(subset=['DISTRICT'])\n"
   ]
  },
  {
   "cell_type": "code",
   "execution_count": 4,
   "metadata": {},
   "outputs": [
    {
     "data": {
      "text/plain": [
       "(197909, 28)"
      ]
     },
     "execution_count": 4,
     "metadata": {},
     "output_type": "execute_result"
    }
   ],
   "source": [
    "###Preprocess Literacy Here\n",
    "#df_Vill.groupby('DISTRICT').size()\n",
    "\n",
    "df_Vill.shape"
   ]
  },
  {
   "cell_type": "code",
   "execution_count": 5,
   "metadata": {},
   "outputs": [],
   "source": [
    "#df_VillDEMO.groupby('DISTRICT').size()\n"
   ]
  },
  {
   "cell_type": "code",
   "execution_count": 5,
   "metadata": {},
   "outputs": [
    {
     "data": {
      "text/plain": [
       "(array([149125.,  24177.,   9101.,   4623.,   2703.,   1690.,   1145.,\n",
       "           802.,    636.,    451.]),\n",
       " array([    0.,  2000.,  4000.,  6000.,  8000., 10000., 12000., 14000.,\n",
       "        16000., 18000., 20000.]),\n",
       " <a list of 10 Patch objects>)"
      ]
     },
     "execution_count": 5,
     "metadata": {},
     "output_type": "execute_result"
    },
    {
     "data": {
      "image/png": "[encoded data removed]",
      "text/plain": [
       "<matplotlib.figure.Figure at 0x1f73e62bda0>"
      ]
     },
     "metadata": {},
     "output_type": "display_data"
    }
   ],
   "source": [
    "###Declare variable and scale\n",
    "var_study='avg_rad'\n",
    "var_scale='DISTRICT'\n",
    "plt.hist(df_Vill[var_study],range=[0,20000])\n"
   ]
  },
  {
   "cell_type": "code",
   "execution_count": null,
   "metadata": {},
   "outputs": [],
   "source": []
  },
  {
   "cell_type": "code",
   "execution_count": 6,
   "metadata": {},
   "outputs": [],
   "source": [
    "\n",
    "df_Vill = df_Vill.drop(df_Vill[df_Vill.avg_rad >13000].index)\n",
    "\n"
   ]
  },
  {
   "cell_type": "code",
   "execution_count": 7,
   "metadata": {},
   "outputs": [
    {
     "data": {
      "text/plain": [
       "(192035, 28)"
      ]
     },
     "execution_count": 7,
     "metadata": {},
     "output_type": "execute_result"
    }
   ],
   "source": [
    "df_Vill.shape\n"
   ]
  },
  {
   "cell_type": "code",
   "execution_count": 8,
   "metadata": {},
   "outputs": [
    {
     "data": {
      "text/plain": [
       "(197962, 28)"
      ]
     },
     "execution_count": 8,
     "metadata": {},
     "output_type": "execute_result"
    }
   ],
   "source": [
    "df_VillDEMO.shape"
   ]
  },
  {
   "cell_type": "code",
   "execution_count": 8,
   "metadata": {},
   "outputs": [],
   "source": [
    "OldMin=df_Vill[var_study].min()\n",
    "OldMax=df_Vill[var_study].max()\n",
    "OldRange = (OldMax - OldMin)  \n",
    "#print(OldRange)\n",
    "NewMin=0\n",
    "NewMax=100\n",
    "NewRange = (100 - 0) \n",
    "NewValue=[]\n",
    "j=0\n",
    "for i in df_Vill['avg_rad']:\n",
    "    temp=(((i - OldMin) * NewRange) / OldRange) + NewMin\n",
    "    NewValue.append(temp)\n",
    "se = pd.Series(NewValue)\n",
    "df_Vill['Norm_avg']=se.values\n",
    "var_study1='Norm_avg'\n",
    "\n",
    "#print(df_Vill['Norm_avg'])"
   ]
  },
  {
   "cell_type": "code",
   "execution_count": 13,
   "metadata": {},
   "outputs": [
    {
     "name": "stdout",
     "output_type": "stream",
     "text": [
      "12999.474031818609\n",
      "0.002494144673440971\n",
      "[649.9760710283701, 1299.949647912067, 1949.9232247957636, 2599.8968016794606, 3249.8703785631574, 3899.843955446854, 4549.817532330551, 5199.791109214248, 5849.764686097944, 6499.73826298164, 7149.7118398653365, 7799.685416749033, 8449.65899363273, 9099.632570516425, 9749.606147400122, 10399.579724283818, 11049.553301167514, 11699.52687805121, 12349.500454934907]\n"
     ]
    }
   ],
   "source": [
    "###Creating bins for CDF\n",
    "print(df_Vill[var_study].max())\n",
    "print(df_Vill[var_study].min())\n",
    "bins=binit(df_Vill[var_study].min(),df_Vill[var_study].max(),20)\n",
    "print(bins)\n",
    "###creating dataframe with CDF\n",
    "df_cluster=cob(df_Vill, var_study, var_scale,bins)\n",
    "#print(df_cluster)"
   ]
  },
  {
   "cell_type": "code",
   "execution_count": 18,
   "metadata": {},
   "outputs": [
    {
     "data": {
      "text/plain": [
       "175"
      ]
     },
     "execution_count": 18,
     "metadata": {},
     "output_type": "execute_result"
    }
   ],
   "source": [
    "df_cluster=df_cluster.dropna()\n",
    "len(df_cluster['DISTRICT'].unique())"
   ]
  },
  {
   "cell_type": "code",
   "execution_count": 20,
   "metadata": {},
   "outputs": [
    {
     "name": "stdout",
     "output_type": "stream",
     "text": [
      "(175, 19)\n",
      "(175, 9)\n"
     ]
    },
    {
     "data": {
      "image/png": "[encoded data removed]",
      "text/plain": [
       "<matplotlib.figure.Figure at 0x1f7421e8128>"
      ]
     },
     "metadata": {},
     "output_type": "display_data"
    }
   ],
   "source": [
    "###Creating CDF for a variable\n",
    "df1=df_cluster.pivot(index=var_scale, columns='Cutoff')[var_study]\n",
    "print(df1.shape)\n",
    "X=np.array(df1)\n",
    "X=scale(X[:,0:9], axis=0)\n",
    "print(X.shape)\n",
    "###k means determine k\n",
    "distortions = []\n",
    "K = range(1,12)\n",
    "for k in K:\n",
    "    kmeanModel = KMeans(n_clusters=k).fit(X)\n",
    "    kmeanModel.fit(X)\n",
    "    distortions.append(sum(np.min(cdist(X, kmeanModel.cluster_centers_, 'euclidean'), axis=1)) / X.shape[0])\n",
    "\n",
    "###Plot the elbow\n",
    "plt.plot(K, distortions, 'bx-')\n",
    "plt.xlabel('k')\n",
    "plt.ylabel('Distortion')\n",
    "plt.title('The Elbow Method showing the optimal k')\n",
    "plt.show()\n"
   ]
  },
  {
   "cell_type": "code",
   "execution_count": 13,
   "metadata": {},
   "outputs": [
    {
     "data": {
      "text/html": [
       "<div>\n",
       "<style scoped>\n",
       "    .dataframe tbody tr th:only-of-type {\n",
       "        vertical-align: middle;\n",
       "    }\n",
       "\n",
       "    .dataframe tbody tr th {\n",
       "        vertical-align: top;\n",
       "    }\n",
       "\n",
       "    .dataframe thead th {\n",
       "        text-align: right;\n",
       "    }\n",
       "</style>\n",
       "<table border=\"1\" class=\"dataframe\">\n",
       "  <thead>\n",
       "    <tr style=\"text-align: right;\">\n",
       "      <th></th>\n",
       "      <th>DISTRICT</th>\n",
       "    </tr>\n",
       "    <tr>\n",
       "      <th>DISTRICT_CDF_Labels_avg_rad</th>\n",
       "      <th></th>\n",
       "    </tr>\n",
       "  </thead>\n",
       "  <tbody>\n",
       "    <tr>\n",
       "      <th>0</th>\n",
       "      <td>55</td>\n",
       "    </tr>\n",
       "    <tr>\n",
       "      <th>1</th>\n",
       "      <td>17</td>\n",
       "    </tr>\n",
       "    <tr>\n",
       "      <th>2</th>\n",
       "      <td>103</td>\n",
       "    </tr>\n",
       "  </tbody>\n",
       "</table>\n",
       "</div>"
      ],
      "text/plain": [
       "                             DISTRICT\n",
       "DISTRICT_CDF_Labels_avg_rad          \n",
       "0                                  55\n",
       "1                                  17\n",
       "2                                 103"
      ]
     },
     "execution_count": 13,
     "metadata": {},
     "output_type": "execute_result"
    }
   ],
   "source": [
    "### The Clustering model and label generation\n",
    "kmeanModel = KMeans(n_clusters=3).fit(X)\n",
    "\n",
    "df_labels= pd.DataFrame(data={var_scale:df1.index, var_scale+'_CDF_Labels_'+var_study :kmeanModel.labels_})\n",
    "df_labels.groupby('DISTRICT_CDF_Labels_avg_rad').count()"
   ]
  },
  {
   "cell_type": "code",
   "execution_count": 14,
   "metadata": {},
   "outputs": [
    {
     "data": {
      "text/html": [
       "<div>\n",
       "<style scoped>\n",
       "    .dataframe tbody tr th:only-of-type {\n",
       "        vertical-align: middle;\n",
       "    }\n",
       "\n",
       "    .dataframe tbody tr th {\n",
       "        vertical-align: top;\n",
       "    }\n",
       "\n",
       "    .dataframe thead th {\n",
       "        text-align: right;\n",
       "    }\n",
       "</style>\n",
       "<table border=\"1\" class=\"dataframe\">\n",
       "  <thead>\n",
       "    <tr style=\"text-align: right;\">\n",
       "      <th></th>\n",
       "      <th>DISTRICT</th>\n",
       "      <th>DISTRICT_CDF_Labels_avg_rad</th>\n",
       "    </tr>\n",
       "  </thead>\n",
       "  <tbody>\n",
       "    <tr>\n",
       "      <th>0</th>\n",
       "      <td>Ahmadabad</td>\n",
       "      <td>1</td>\n",
       "    </tr>\n",
       "    <tr>\n",
       "      <th>1</th>\n",
       "      <td>Ahmadnagar</td>\n",
       "      <td>0</td>\n",
       "    </tr>\n",
       "    <tr>\n",
       "      <th>2</th>\n",
       "      <td>Akola</td>\n",
       "      <td>2</td>\n",
       "    </tr>\n",
       "    <tr>\n",
       "      <th>3</th>\n",
       "      <td>Alappuzha</td>\n",
       "      <td>1</td>\n",
       "    </tr>\n",
       "    <tr>\n",
       "      <th>4</th>\n",
       "      <td>Amravati</td>\n",
       "      <td>2</td>\n",
       "    </tr>\n",
       "    <tr>\n",
       "      <th>5</th>\n",
       "      <td>Amreli</td>\n",
       "      <td>0</td>\n",
       "    </tr>\n",
       "    <tr>\n",
       "      <th>6</th>\n",
       "      <td>Anand</td>\n",
       "      <td>0</td>\n",
       "    </tr>\n",
       "    <tr>\n",
       "      <th>7</th>\n",
       "      <td>Anugul</td>\n",
       "      <td>2</td>\n",
       "    </tr>\n",
       "    <tr>\n",
       "      <th>8</th>\n",
       "      <td>Araria</td>\n",
       "      <td>2</td>\n",
       "    </tr>\n",
       "    <tr>\n",
       "      <th>9</th>\n",
       "      <td>Aurangabad</td>\n",
       "      <td>2</td>\n",
       "    </tr>\n",
       "    <tr>\n",
       "      <th>10</th>\n",
       "      <td>Bagalkot</td>\n",
       "      <td>0</td>\n",
       "    </tr>\n",
       "    <tr>\n",
       "      <th>11</th>\n",
       "      <td>Balangir</td>\n",
       "      <td>2</td>\n",
       "    </tr>\n",
       "    <tr>\n",
       "      <th>12</th>\n",
       "      <td>Baleshwar</td>\n",
       "      <td>2</td>\n",
       "    </tr>\n",
       "    <tr>\n",
       "      <th>13</th>\n",
       "      <td>Banas Kantha</td>\n",
       "      <td>0</td>\n",
       "    </tr>\n",
       "    <tr>\n",
       "      <th>14</th>\n",
       "      <td>Bangalore</td>\n",
       "      <td>1</td>\n",
       "    </tr>\n",
       "    <tr>\n",
       "      <th>15</th>\n",
       "      <td>Bangalore Rural</td>\n",
       "      <td>0</td>\n",
       "    </tr>\n",
       "    <tr>\n",
       "      <th>16</th>\n",
       "      <td>Banka</td>\n",
       "      <td>2</td>\n",
       "    </tr>\n",
       "    <tr>\n",
       "      <th>17</th>\n",
       "      <td>Bargarh</td>\n",
       "      <td>2</td>\n",
       "    </tr>\n",
       "    <tr>\n",
       "      <th>18</th>\n",
       "      <td>Baudh</td>\n",
       "      <td>2</td>\n",
       "    </tr>\n",
       "    <tr>\n",
       "      <th>19</th>\n",
       "      <td>Beed</td>\n",
       "      <td>0</td>\n",
       "    </tr>\n",
       "    <tr>\n",
       "      <th>20</th>\n",
       "      <td>Begusarai</td>\n",
       "      <td>2</td>\n",
       "    </tr>\n",
       "    <tr>\n",
       "      <th>21</th>\n",
       "      <td>Belgaum</td>\n",
       "      <td>0</td>\n",
       "    </tr>\n",
       "    <tr>\n",
       "      <th>22</th>\n",
       "      <td>Bellary</td>\n",
       "      <td>1</td>\n",
       "    </tr>\n",
       "    <tr>\n",
       "      <th>23</th>\n",
       "      <td>Bhadrak</td>\n",
       "      <td>2</td>\n",
       "    </tr>\n",
       "    <tr>\n",
       "      <th>24</th>\n",
       "      <td>Bhagalpur</td>\n",
       "      <td>2</td>\n",
       "    </tr>\n",
       "    <tr>\n",
       "      <th>25</th>\n",
       "      <td>Bhandara</td>\n",
       "      <td>2</td>\n",
       "    </tr>\n",
       "    <tr>\n",
       "      <th>26</th>\n",
       "      <td>Bharuch</td>\n",
       "      <td>0</td>\n",
       "    </tr>\n",
       "    <tr>\n",
       "      <th>27</th>\n",
       "      <td>Bhavnagar</td>\n",
       "      <td>0</td>\n",
       "    </tr>\n",
       "    <tr>\n",
       "      <th>28</th>\n",
       "      <td>Bhojpur</td>\n",
       "      <td>2</td>\n",
       "    </tr>\n",
       "    <tr>\n",
       "      <th>29</th>\n",
       "      <td>Bidar</td>\n",
       "      <td>0</td>\n",
       "    </tr>\n",
       "    <tr>\n",
       "      <th>...</th>\n",
       "      <td>...</td>\n",
       "      <td>...</td>\n",
       "    </tr>\n",
       "    <tr>\n",
       "      <th>145</th>\n",
       "      <td>Satara</td>\n",
       "      <td>2</td>\n",
       "    </tr>\n",
       "    <tr>\n",
       "      <th>146</th>\n",
       "      <td>Sheikhpura</td>\n",
       "      <td>2</td>\n",
       "    </tr>\n",
       "    <tr>\n",
       "      <th>147</th>\n",
       "      <td>Sheohar</td>\n",
       "      <td>2</td>\n",
       "    </tr>\n",
       "    <tr>\n",
       "      <th>148</th>\n",
       "      <td>Shimoga</td>\n",
       "      <td>2</td>\n",
       "    </tr>\n",
       "    <tr>\n",
       "      <th>149</th>\n",
       "      <td>Sindhudurg</td>\n",
       "      <td>2</td>\n",
       "    </tr>\n",
       "    <tr>\n",
       "      <th>150</th>\n",
       "      <td>Sitamarhi</td>\n",
       "      <td>2</td>\n",
       "    </tr>\n",
       "    <tr>\n",
       "      <th>151</th>\n",
       "      <td>Siwan</td>\n",
       "      <td>2</td>\n",
       "    </tr>\n",
       "    <tr>\n",
       "      <th>152</th>\n",
       "      <td>Solapur</td>\n",
       "      <td>1</td>\n",
       "    </tr>\n",
       "    <tr>\n",
       "      <th>153</th>\n",
       "      <td>Sonapur</td>\n",
       "      <td>2</td>\n",
       "    </tr>\n",
       "    <tr>\n",
       "      <th>154</th>\n",
       "      <td>South Goa</td>\n",
       "      <td>0</td>\n",
       "    </tr>\n",
       "    <tr>\n",
       "      <th>155</th>\n",
       "      <td>South Sikkim</td>\n",
       "      <td>2</td>\n",
       "    </tr>\n",
       "    <tr>\n",
       "      <th>156</th>\n",
       "      <td>Sundargarh</td>\n",
       "      <td>2</td>\n",
       "    </tr>\n",
       "    <tr>\n",
       "      <th>157</th>\n",
       "      <td>Supaul</td>\n",
       "      <td>2</td>\n",
       "    </tr>\n",
       "    <tr>\n",
       "      <th>158</th>\n",
       "      <td>Surat</td>\n",
       "      <td>0</td>\n",
       "    </tr>\n",
       "    <tr>\n",
       "      <th>159</th>\n",
       "      <td>Surendranagar</td>\n",
       "      <td>0</td>\n",
       "    </tr>\n",
       "    <tr>\n",
       "      <th>160</th>\n",
       "      <td>Thane</td>\n",
       "      <td>0</td>\n",
       "    </tr>\n",
       "    <tr>\n",
       "      <th>161</th>\n",
       "      <td>The Dangs</td>\n",
       "      <td>2</td>\n",
       "    </tr>\n",
       "    <tr>\n",
       "      <th>162</th>\n",
       "      <td>Thiruvananthapuram</td>\n",
       "      <td>1</td>\n",
       "    </tr>\n",
       "    <tr>\n",
       "      <th>163</th>\n",
       "      <td>Thrissur</td>\n",
       "      <td>0</td>\n",
       "    </tr>\n",
       "    <tr>\n",
       "      <th>164</th>\n",
       "      <td>Tumkur</td>\n",
       "      <td>2</td>\n",
       "    </tr>\n",
       "    <tr>\n",
       "      <th>165</th>\n",
       "      <td>Udupi</td>\n",
       "      <td>0</td>\n",
       "    </tr>\n",
       "    <tr>\n",
       "      <th>166</th>\n",
       "      <td>Uttar Kannad</td>\n",
       "      <td>2</td>\n",
       "    </tr>\n",
       "    <tr>\n",
       "      <th>167</th>\n",
       "      <td>Vadodara</td>\n",
       "      <td>0</td>\n",
       "    </tr>\n",
       "    <tr>\n",
       "      <th>168</th>\n",
       "      <td>Vaishali</td>\n",
       "      <td>2</td>\n",
       "    </tr>\n",
       "    <tr>\n",
       "      <th>169</th>\n",
       "      <td>Valsad</td>\n",
       "      <td>0</td>\n",
       "    </tr>\n",
       "    <tr>\n",
       "      <th>170</th>\n",
       "      <td>Wardha</td>\n",
       "      <td>2</td>\n",
       "    </tr>\n",
       "    <tr>\n",
       "      <th>171</th>\n",
       "      <td>Washim</td>\n",
       "      <td>2</td>\n",
       "    </tr>\n",
       "    <tr>\n",
       "      <th>172</th>\n",
       "      <td>Wayanad</td>\n",
       "      <td>1</td>\n",
       "    </tr>\n",
       "    <tr>\n",
       "      <th>173</th>\n",
       "      <td>West Sikkim</td>\n",
       "      <td>2</td>\n",
       "    </tr>\n",
       "    <tr>\n",
       "      <th>174</th>\n",
       "      <td>Yavatmal</td>\n",
       "      <td>2</td>\n",
       "    </tr>\n",
       "  </tbody>\n",
       "</table>\n",
       "<p>175 rows × 2 columns</p>\n",
       "</div>"
      ],
      "text/plain": [
       "               DISTRICT  DISTRICT_CDF_Labels_avg_rad\n",
       "0             Ahmadabad                            1\n",
       "1            Ahmadnagar                            0\n",
       "2                 Akola                            2\n",
       "3             Alappuzha                            1\n",
       "4              Amravati                            2\n",
       "5                Amreli                            0\n",
       "6                 Anand                            0\n",
       "7                Anugul                            2\n",
       "8                Araria                            2\n",
       "9            Aurangabad                            2\n",
       "10             Bagalkot                            0\n",
       "11             Balangir                            2\n",
       "12            Baleshwar                            2\n",
       "13         Banas Kantha                            0\n",
       "14            Bangalore                            1\n",
       "15      Bangalore Rural                            0\n",
       "16                Banka                            2\n",
       "17              Bargarh                            2\n",
       "18                Baudh                            2\n",
       "19                 Beed                            0\n",
       "20            Begusarai                            2\n",
       "21              Belgaum                            0\n",
       "22              Bellary                            1\n",
       "23              Bhadrak                            2\n",
       "24            Bhagalpur                            2\n",
       "25             Bhandara                            2\n",
       "26              Bharuch                            0\n",
       "27            Bhavnagar                            0\n",
       "28              Bhojpur                            2\n",
       "29                Bidar                            0\n",
       "..                  ...                          ...\n",
       "145              Satara                            2\n",
       "146          Sheikhpura                            2\n",
       "147             Sheohar                            2\n",
       "148             Shimoga                            2\n",
       "149          Sindhudurg                            2\n",
       "150           Sitamarhi                            2\n",
       "151               Siwan                            2\n",
       "152             Solapur                            1\n",
       "153             Sonapur                            2\n",
       "154           South Goa                            0\n",
       "155        South Sikkim                            2\n",
       "156          Sundargarh                            2\n",
       "157              Supaul                            2\n",
       "158               Surat                            0\n",
       "159       Surendranagar                            0\n",
       "160               Thane                            0\n",
       "161           The Dangs                            2\n",
       "162  Thiruvananthapuram                            1\n",
       "163            Thrissur                            0\n",
       "164              Tumkur                            2\n",
       "165               Udupi                            0\n",
       "166        Uttar Kannad                            2\n",
       "167            Vadodara                            0\n",
       "168            Vaishali                            2\n",
       "169              Valsad                            0\n",
       "170              Wardha                            2\n",
       "171              Washim                            2\n",
       "172             Wayanad                            1\n",
       "173         West Sikkim                            2\n",
       "174            Yavatmal                            2\n",
       "\n",
       "[175 rows x 2 columns]"
      ]
     },
     "execution_count": 14,
     "metadata": {},
     "output_type": "execute_result"
    }
   ],
   "source": [
    "df_labels"
   ]
  },
  {
   "cell_type": "code",
   "execution_count": null,
   "metadata": {},
   "outputs": [],
   "source": [
    "#df_cdfVill=df_Vill.merge(df_labels, left_on= var_scale ,right_on=var_scale, how='left')\n"
   ]
  },
  {
   "cell_type": "code",
   "execution_count": null,
   "metadata": {},
   "outputs": [],
   "source": [
    "#df_cdfVill=df_cdfVill.dropna\n",
    "#print(var_scale)\n"
   ]
  },
  {
   "cell_type": "code",
   "execution_count": 84,
   "metadata": {},
   "outputs": [
    {
     "data": {
      "image/png": "[encoded data removed]",
      "text/plain": [
       "<matplotlib.figure.Figure at 0x24adb0b3cf8>"
      ]
     },
     "metadata": {},
     "output_type": "display_data"
    }
   ],
   "source": [
    "### Displaying plot for correct labelling\n",
    "\n",
    "df_cdfVill=df_Vill.merge(df_labels, left_on= var_scale ,right_on=var_scale, how='left')\n",
    "#df_cdfVill.dropna()\n",
    "#plt.hist(df_cdfVill)\n",
    "#plt.hist(df_cdfVill)\n",
    "plot= ggplot(df_cdfVill, aes(x=var_study))+geom_histogram(binwidth=1, color='blue')+facet_wrap(var_scale+'_CDF_Labels_'+var_study, scales='free_y')\n",
    "del df_cdfVill\n",
    "plot\n",
    "plot.save('SUM_VIIRS_Results_3_Clusters.png')\n"
   ]
  },
  {
   "cell_type": "code",
   "execution_count": null,
   "metadata": {},
   "outputs": [],
   "source": []
  },
  {
   "cell_type": "code",
   "execution_count": 83,
   "metadata": {},
   "outputs": [],
   "source": [
    "### Correcting the labels\n",
    "df_labels.loc[df_labels[var_scale+'_CDF_Labels_'+var_study]==1,var_scale+'_CDF_Labels_'+var_study]=\"1. LOW\"\n",
    "df_labels.loc[df_labels[var_scale+'_CDF_Labels_'+var_study]==0,var_scale+'_CDF_Labels_'+var_study]=\"2. MED\"\n",
    "df_labels.loc[df_labels[var_scale+'_CDF_Labels_'+var_study]==2,var_scale+'_CDF_Labels_'+var_study]=\"3. HIGH\"\n"
   ]
  },
  {
   "cell_type": "code",
   "execution_count": 85,
   "metadata": {},
   "outputs": [],
   "source": [
    "#Saving the labels\n",
    "df_labels.to_csv(\"cdf_viirs_sumMAIN26_6.csv\")"
   ]
  },
  {
   "cell_type": "code",
   "execution_count": null,
   "metadata": {},
   "outputs": [],
   "source": []
  }
 ],
 "metadata": {
  "kernelspec": {
   "display_name": "Python 3",
   "language": "python",
   "name": "python3"
  },
  "language_info": {
   "codemirror_mode": {
    "name": "ipython",
    "version": 3
   },
   "file_extension": ".py",
   "mimetype": "text/x-python",
   "name": "python",
   "nbconvert_exporter": "python",
   "pygments_lexer": "ipython3",
   "version": "3.6.4"
  }
 },
 "nbformat": 4,
 "nbformat_minor": 2
}
