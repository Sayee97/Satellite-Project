{
 "cells": [
  {
   "cell_type": "code",
   "execution_count": 118,
   "metadata": {},
   "outputs": [],
   "source": [
    "import pandas as pd\n",
    "from sklearn.cluster import KMeans\n",
    "import numpy as np\n",
    "from ggplot import *\n",
    "\n",
    "#from sklearn.cluster import KMeans\n",
    "from sklearn import metrics\n",
    "from scipy.spatial.distance import cdist\n",
    "import matplotlib.pyplot as plt"
   ]
  },
  {
   "cell_type": "code",
   "execution_count": 119,
   "metadata": {},
   "outputs": [],
   "source": [
    "#import re"
   ]
  },
  {
   "cell_type": "code",
   "execution_count": 120,
   "metadata": {},
   "outputs": [],
   "source": [
    "df=pd.read_csv('VIIRS_2012_DIST640Upd.csv')"
   ]
  },
  {
   "cell_type": "code",
   "execution_count": 121,
   "metadata": {},
   "outputs": [
    {
     "data": {
      "text/html": [
       "<div>\n",
       "<style scoped>\n",
       "    .dataframe tbody tr th:only-of-type {\n",
       "        vertical-align: middle;\n",
       "    }\n",
       "\n",
       "    .dataframe tbody tr th {\n",
       "        vertical-align: top;\n",
       "    }\n",
       "\n",
       "    .dataframe thead th {\n",
       "        text-align: right;\n",
       "    }\n",
       "</style>\n",
       "<table border=\"1\" class=\"dataframe\">\n",
       "  <thead>\n",
       "    <tr style=\"text-align: right;\">\n",
       "      <th></th>\n",
       "      <th>system:index</th>\n",
       "      <th>DISTRICT</th>\n",
       "      <th>DT_CEN_CD</th>\n",
       "      <th>ST_CEN_CD</th>\n",
       "      <th>ST_NM</th>\n",
       "      <th>avg_rad</th>\n",
       "      <th>censuscode</th>\n",
       "      <th>cf_cvg</th>\n",
       "      <th>.geo</th>\n",
       "    </tr>\n",
       "  </thead>\n",
       "  <tbody>\n",
       "    <tr>\n",
       "      <th>0</th>\n",
       "      <td>00003bd7c3e2c7d7516c</td>\n",
       "      <td>South Andaman</td>\n",
       "      <td>3</td>\n",
       "      <td>35</td>\n",
       "      <td>Andaman &amp; Nicobar Island</td>\n",
       "      <td>375029.795590</td>\n",
       "      <td>640</td>\n",
       "      <td>1.217171e+07</td>\n",
       "      <td>NaN</td>\n",
       "    </tr>\n",
       "    <tr>\n",
       "      <th>1</th>\n",
       "      <td>000084ec554a8f8ed361</td>\n",
       "      <td>Nicobar</td>\n",
       "      <td>1</td>\n",
       "      <td>35</td>\n",
       "      <td>Andaman &amp; Nicobar Island</td>\n",
       "      <td>87785.512044</td>\n",
       "      <td>638</td>\n",
       "      <td>6.448612e+06</td>\n",
       "      <td>NaN</td>\n",
       "    </tr>\n",
       "    <tr>\n",
       "      <th>2</th>\n",
       "      <td>00009d2c76346cbd9821</td>\n",
       "      <td>North &amp; Middle Andaman</td>\n",
       "      <td>2</td>\n",
       "      <td>35</td>\n",
       "      <td>Andaman &amp; Nicobar Island</td>\n",
       "      <td>93056.695237</td>\n",
       "      <td>639</td>\n",
       "      <td>2.084087e+07</td>\n",
       "      <td>NaN</td>\n",
       "    </tr>\n",
       "    <tr>\n",
       "      <th>3</th>\n",
       "      <td>0000fb446706308b4932</td>\n",
       "      <td>Lawangtlai</td>\n",
       "      <td>7</td>\n",
       "      <td>15</td>\n",
       "      <td>Mizoram</td>\n",
       "      <td>326053.190881</td>\n",
       "      <td>287</td>\n",
       "      <td>1.775158e+07</td>\n",
       "      <td>NaN</td>\n",
       "    </tr>\n",
       "    <tr>\n",
       "      <th>4</th>\n",
       "      <td>000020d0d5f1113b6a5a</td>\n",
       "      <td>Lunglei</td>\n",
       "      <td>6</td>\n",
       "      <td>15</td>\n",
       "      <td>Mizoram</td>\n",
       "      <td>649239.358299</td>\n",
       "      <td>286</td>\n",
       "      <td>4.061732e+07</td>\n",
       "      <td>NaN</td>\n",
       "    </tr>\n",
       "  </tbody>\n",
       "</table>\n",
       "</div>"
      ],
      "text/plain": [
       "           system:index                DISTRICT  DT_CEN_CD  ST_CEN_CD  \\\n",
       "0  00003bd7c3e2c7d7516c           South Andaman          3         35   \n",
       "1  000084ec554a8f8ed361                 Nicobar          1         35   \n",
       "2  00009d2c76346cbd9821  North & Middle Andaman          2         35   \n",
       "3  0000fb446706308b4932              Lawangtlai          7         15   \n",
       "4  000020d0d5f1113b6a5a                 Lunglei          6         15   \n",
       "\n",
       "                      ST_NM        avg_rad  censuscode        cf_cvg  .geo  \n",
       "0  Andaman & Nicobar Island  375029.795590         640  1.217171e+07   NaN  \n",
       "1  Andaman & Nicobar Island   87785.512044         638  6.448612e+06   NaN  \n",
       "2  Andaman & Nicobar Island   93056.695237         639  2.084087e+07   NaN  \n",
       "3                   Mizoram  326053.190881         287  1.775158e+07   NaN  \n",
       "4                   Mizoram  649239.358299         286  4.061732e+07   NaN  "
      ]
     },
     "execution_count": 121,
     "metadata": {},
     "output_type": "execute_result"
    }
   ],
   "source": [
    "df.head()"
   ]
  },
  {
   "cell_type": "code",
   "execution_count": 122,
   "metadata": {},
   "outputs": [
    {
     "data": {
      "text/plain": [
       "39992395.33193046"
      ]
     },
     "execution_count": 122,
     "metadata": {},
     "output_type": "execute_result"
    }
   ],
   "source": [
    "X=df['avg_rad']\n",
    "#X.shape\n",
    "X.max()\n",
    "#X.min()"
   ]
  },
  {
   "cell_type": "code",
   "execution_count": 105,
   "metadata": {
    "scrolled": true
   },
   "outputs": [
    {
     "data": {
      "text/plain": [
       "(array([477., 120.,  28.,   9.,   2.,   3.,   1.,   0.,   0.,   1.]),\n",
       " array([1.12515715e+04, 4.00936595e+06, 8.00748032e+06, 1.20055947e+07,\n",
       "        1.60037091e+07, 2.00018235e+07, 2.39999378e+07, 2.79980522e+07,\n",
       "        3.19961666e+07, 3.59942810e+07, 3.99923953e+07]),\n",
       " <a list of 10 Patch objects>)"
      ]
     },
     "execution_count": 105,
     "metadata": {},
     "output_type": "execute_result"
    },
    {
     "data": {
      "image/png": "[encoded data removed]",
      "text/plain": [
       "<matplotlib.figure.Figure at 0x16e46d18828>"
      ]
     },
     "metadata": {},
     "output_type": "display_data"
    }
   ],
   "source": [
    "plt.hist(X)\n",
    "\n",
    "\n",
    "#X1=df.dropna(subset=['Urban and built-up'])\n",
    "\n",
    "#urban='Urban and built-up'\n",
    "#X1 = df.drop(df['Urban and built-up']==0)\n",
    "#X1 = df[df['Urban and built-up'] > 0]\n",
    "\n",
    "#X1=df[df['Urban and built-up'!=0.0]]\n",
    "#m=df.drop(df['Urban and built-up'] is 0)\n"
   ]
  },
  {
   "cell_type": "code",
   "execution_count": 177,
   "metadata": {},
   "outputs": [],
   "source": [
    "#df_mod=X1"
   ]
  },
  {
   "cell_type": "code",
   "execution_count": 181,
   "metadata": {},
   "outputs": [],
   "source": []
  },
  {
   "cell_type": "code",
   "execution_count": 123,
   "metadata": {},
   "outputs": [
    {
     "data": {
      "text/plain": [
       "(641, 1)"
      ]
     },
     "execution_count": 123,
     "metadata": {},
     "output_type": "execute_result"
    }
   ],
   "source": [
    "Xreshaped=X.values.reshape(-1,1)\n",
    "Xreshaped.shape\n",
    "#Xreshaped"
   ]
  },
  {
   "cell_type": "code",
   "execution_count": 124,
   "metadata": {},
   "outputs": [],
   "source": [
    "df['LOG_avg']=np.log(df.avg_rad)"
   ]
  },
  {
   "cell_type": "code",
   "execution_count": 125,
   "metadata": {},
   "outputs": [],
   "source": [
    "M=df['LOG_avg']"
   ]
  },
  {
   "cell_type": "code",
   "execution_count": 126,
   "metadata": {},
   "outputs": [
    {
     "data": {
      "text/plain": [
       "(641, 1)"
      ]
     },
     "execution_count": 126,
     "metadata": {},
     "output_type": "execute_result"
    }
   ],
   "source": [
    "M=M.values.reshape(-1,1)\n",
    "M.shape"
   ]
  },
  {
   "cell_type": "code",
   "execution_count": 111,
   "metadata": {},
   "outputs": [
    {
     "data": {
      "text/plain": [
       "17.504199877302"
      ]
     },
     "execution_count": 111,
     "metadata": {},
     "output_type": "execute_result"
    }
   ],
   "source": [
    "M.max()"
   ]
  },
  {
   "cell_type": "code",
   "execution_count": 112,
   "metadata": {},
   "outputs": [
    {
     "data": {
      "text/plain": [
       "9.328263083125396"
      ]
     },
     "execution_count": 112,
     "metadata": {},
     "output_type": "execute_result"
    }
   ],
   "source": [
    "M.min()"
   ]
  },
  {
   "cell_type": "code",
   "execution_count": null,
   "metadata": {},
   "outputs": [],
   "source": []
  },
  {
   "cell_type": "code",
   "execution_count": null,
   "metadata": {},
   "outputs": [],
   "source": []
  },
  {
   "cell_type": "code",
   "execution_count": null,
   "metadata": {},
   "outputs": [],
   "source": []
  },
  {
   "cell_type": "code",
   "execution_count": null,
   "metadata": {},
   "outputs": [],
   "source": []
  },
  {
   "cell_type": "code",
   "execution_count": null,
   "metadata": {},
   "outputs": [],
   "source": []
  },
  {
   "cell_type": "code",
   "execution_count": 127,
   "metadata": {},
   "outputs": [
    {
     "data": {
      "image/png": "[encoded data removed]",
      "text/plain": [
       "<matplotlib.figure.Figure at 0x16e3fc02438>"
      ]
     },
     "metadata": {},
     "output_type": "display_data"
    }
   ],
   "source": [
    "K = range(1,12)\n",
    "\n",
    "#X.values.reshape(-1,1)\n",
    "distortions=[]\n",
    "for k in K:\n",
    "    kmeanModel = KMeans(n_clusters=k).fit(M)\n",
    "    kmeanModel.fit(M)\n",
    "    distortions.append(sum(np.min(cdist(M, kmeanModel.cluster_centers_, 'euclidean'), axis=1)))\n",
    " #distortions.append(sum(np.min(cdist(X, kmeanModel.cluster_centers_, 'euclidean'), axis=1)) / X.shape[0])   \n",
    "###Plot the elbow\n",
    "plt.plot(K, distortions, 'bx-')\n",
    "plt.xlabel('k')\n",
    "plt.ylabel('Distortion')\n",
    "plt.title('The Elbow Method showing the optimal k')\n",
    "plt.show()\n"
   ]
  },
  {
   "cell_type": "code",
   "execution_count": 132,
   "metadata": {},
   "outputs": [],
   "source": [
    "kmeanModel = KMeans(n_clusters=3).fit(M)\n",
    "df_labels= pd.DataFrame(data={'censuscode':df.censuscode,'DISTRICT':df.DISTRICT, 'LABELS' :kmeanModel.labels_})\n",
    "#df_labels.groupby('DISTRICT_CDF_Labels_avg_rad').count()"
   ]
  },
  {
   "cell_type": "code",
   "execution_count": 129,
   "metadata": {},
   "outputs": [],
   "source": [
    "#df_labels"
   ]
  },
  {
   "cell_type": "code",
   "execution_count": 133,
   "metadata": {},
   "outputs": [
    {
     "data": {
      "text/plain": [
       "LABELS\n",
       "0    285\n",
       "1    190\n",
       "2    166\n",
       "dtype: int64"
      ]
     },
     "execution_count": 133,
     "metadata": {},
     "output_type": "execute_result"
    }
   ],
   "source": [
    "df_labels.groupby('LABELS').size()"
   ]
  },
  {
   "cell_type": "code",
   "execution_count": 49,
   "metadata": {},
   "outputs": [],
   "source": [
    "df_labels.to_csv('MODIS_DIST_LEVEL_CLUSTERING_3_07_18.csv')\n"
   ]
  },
  {
   "cell_type": "code",
   "execution_count": 134,
   "metadata": {},
   "outputs": [
    {
     "data": {
      "text/html": [
       "<div>\n",
       "<style scoped>\n",
       "    .dataframe tbody tr th:only-of-type {\n",
       "        vertical-align: middle;\n",
       "    }\n",
       "\n",
       "    .dataframe tbody tr th {\n",
       "        vertical-align: top;\n",
       "    }\n",
       "\n",
       "    .dataframe thead th {\n",
       "        text-align: right;\n",
       "    }\n",
       "</style>\n",
       "<table border=\"1\" class=\"dataframe\">\n",
       "  <thead>\n",
       "    <tr style=\"text-align: right;\">\n",
       "      <th></th>\n",
       "      <th>DISTRICT</th>\n",
       "      <th>LABELS</th>\n",
       "      <th>censuscode</th>\n",
       "    </tr>\n",
       "  </thead>\n",
       "  <tbody>\n",
       "    <tr>\n",
       "      <th>0</th>\n",
       "      <td>South Andaman</td>\n",
       "      <td>2</td>\n",
       "      <td>640</td>\n",
       "    </tr>\n",
       "    <tr>\n",
       "      <th>1</th>\n",
       "      <td>Nicobar</td>\n",
       "      <td>2</td>\n",
       "      <td>638</td>\n",
       "    </tr>\n",
       "    <tr>\n",
       "      <th>2</th>\n",
       "      <td>North &amp; Middle Andaman</td>\n",
       "      <td>2</td>\n",
       "      <td>639</td>\n",
       "    </tr>\n",
       "    <tr>\n",
       "      <th>3</th>\n",
       "      <td>Lawangtlai</td>\n",
       "      <td>2</td>\n",
       "      <td>287</td>\n",
       "    </tr>\n",
       "    <tr>\n",
       "      <th>4</th>\n",
       "      <td>Lunglei</td>\n",
       "      <td>2</td>\n",
       "      <td>286</td>\n",
       "    </tr>\n",
       "    <tr>\n",
       "      <th>5</th>\n",
       "      <td>Saiha</td>\n",
       "      <td>2</td>\n",
       "      <td>288</td>\n",
       "    </tr>\n",
       "    <tr>\n",
       "      <th>6</th>\n",
       "      <td>Dibang Valley</td>\n",
       "      <td>2</td>\n",
       "      <td>257</td>\n",
       "    </tr>\n",
       "    <tr>\n",
       "      <th>7</th>\n",
       "      <td>Upper Siang</td>\n",
       "      <td>2</td>\n",
       "      <td>252</td>\n",
       "    </tr>\n",
       "    <tr>\n",
       "      <th>8</th>\n",
       "      <td>Lower Dibang Valley</td>\n",
       "      <td>2</td>\n",
       "      <td>258</td>\n",
       "    </tr>\n",
       "    <tr>\n",
       "      <th>9</th>\n",
       "      <td>Tuensang</td>\n",
       "      <td>2</td>\n",
       "      <td>267</td>\n",
       "    </tr>\n",
       "    <tr>\n",
       "      <th>10</th>\n",
       "      <td>Mon</td>\n",
       "      <td>2</td>\n",
       "      <td>261</td>\n",
       "    </tr>\n",
       "    <tr>\n",
       "      <th>11</th>\n",
       "      <td>Tirap</td>\n",
       "      <td>2</td>\n",
       "      <td>254</td>\n",
       "    </tr>\n",
       "    <tr>\n",
       "      <th>12</th>\n",
       "      <td>Sivasagar</td>\n",
       "      <td>0</td>\n",
       "      <td>311</td>\n",
       "    </tr>\n",
       "    <tr>\n",
       "      <th>13</th>\n",
       "      <td>Changlang</td>\n",
       "      <td>2</td>\n",
       "      <td>253</td>\n",
       "    </tr>\n",
       "    <tr>\n",
       "      <th>14</th>\n",
       "      <td>Lohit</td>\n",
       "      <td>2</td>\n",
       "      <td>259</td>\n",
       "    </tr>\n",
       "    <tr>\n",
       "      <th>15</th>\n",
       "      <td>Anjaw</td>\n",
       "      <td>2</td>\n",
       "      <td>260</td>\n",
       "    </tr>\n",
       "    <tr>\n",
       "      <th>16</th>\n",
       "      <td>Tinsukia</td>\n",
       "      <td>1</td>\n",
       "      <td>309</td>\n",
       "    </tr>\n",
       "    <tr>\n",
       "      <th>17</th>\n",
       "      <td>Dhemaji</td>\n",
       "      <td>2</td>\n",
       "      <td>308</td>\n",
       "    </tr>\n",
       "    <tr>\n",
       "      <th>18</th>\n",
       "      <td>Dibrugarh</td>\n",
       "      <td>1</td>\n",
       "      <td>310</td>\n",
       "    </tr>\n",
       "    <tr>\n",
       "      <th>19</th>\n",
       "      <td>East Siang</td>\n",
       "      <td>2</td>\n",
       "      <td>251</td>\n",
       "    </tr>\n",
       "    <tr>\n",
       "      <th>20</th>\n",
       "      <td>West Siang</td>\n",
       "      <td>2</td>\n",
       "      <td>250</td>\n",
       "    </tr>\n",
       "    <tr>\n",
       "      <th>21</th>\n",
       "      <td>Upper Subansiri</td>\n",
       "      <td>2</td>\n",
       "      <td>249</td>\n",
       "    </tr>\n",
       "    <tr>\n",
       "      <th>22</th>\n",
       "      <td>Jorhat</td>\n",
       "      <td>0</td>\n",
       "      <td>312</td>\n",
       "    </tr>\n",
       "    <tr>\n",
       "      <th>23</th>\n",
       "      <td>Lakhimpur</td>\n",
       "      <td>2</td>\n",
       "      <td>307</td>\n",
       "    </tr>\n",
       "    <tr>\n",
       "      <th>24</th>\n",
       "      <td>Lower Subansiri</td>\n",
       "      <td>2</td>\n",
       "      <td>255</td>\n",
       "    </tr>\n",
       "    <tr>\n",
       "      <th>25</th>\n",
       "      <td>Papum Pare</td>\n",
       "      <td>2</td>\n",
       "      <td>248</td>\n",
       "    </tr>\n",
       "    <tr>\n",
       "      <th>26</th>\n",
       "      <td>Kurung Kumey</td>\n",
       "      <td>2</td>\n",
       "      <td>256</td>\n",
       "    </tr>\n",
       "    <tr>\n",
       "      <th>27</th>\n",
       "      <td>East Kameng</td>\n",
       "      <td>2</td>\n",
       "      <td>247</td>\n",
       "    </tr>\n",
       "    <tr>\n",
       "      <th>28</th>\n",
       "      <td>West Kameng</td>\n",
       "      <td>2</td>\n",
       "      <td>246</td>\n",
       "    </tr>\n",
       "    <tr>\n",
       "      <th>29</th>\n",
       "      <td>Tawang</td>\n",
       "      <td>2</td>\n",
       "      <td>245</td>\n",
       "    </tr>\n",
       "    <tr>\n",
       "      <th>...</th>\n",
       "      <td>...</td>\n",
       "      <td>...</td>\n",
       "      <td>...</td>\n",
       "    </tr>\n",
       "    <tr>\n",
       "      <th>611</th>\n",
       "      <td>Bidar</td>\n",
       "      <td>0</td>\n",
       "      <td>558</td>\n",
       "    </tr>\n",
       "    <tr>\n",
       "      <th>612</th>\n",
       "      <td>Rangareddy</td>\n",
       "      <td>1</td>\n",
       "      <td>537</td>\n",
       "    </tr>\n",
       "    <tr>\n",
       "      <th>613</th>\n",
       "      <td>Medak</td>\n",
       "      <td>1</td>\n",
       "      <td>535</td>\n",
       "    </tr>\n",
       "    <tr>\n",
       "      <th>614</th>\n",
       "      <td>Hyderabad</td>\n",
       "      <td>1</td>\n",
       "      <td>536</td>\n",
       "    </tr>\n",
       "    <tr>\n",
       "      <th>615</th>\n",
       "      <td>Nizamabad</td>\n",
       "      <td>1</td>\n",
       "      <td>533</td>\n",
       "    </tr>\n",
       "    <tr>\n",
       "      <th>616</th>\n",
       "      <td>Nanded</td>\n",
       "      <td>1</td>\n",
       "      <td>511</td>\n",
       "    </tr>\n",
       "    <tr>\n",
       "      <th>617</th>\n",
       "      <td>Hingoli</td>\n",
       "      <td>0</td>\n",
       "      <td>512</td>\n",
       "    </tr>\n",
       "    <tr>\n",
       "      <th>618</th>\n",
       "      <td>Jalna</td>\n",
       "      <td>0</td>\n",
       "      <td>514</td>\n",
       "    </tr>\n",
       "    <tr>\n",
       "      <th>619</th>\n",
       "      <td>Buldana</td>\n",
       "      <td>0</td>\n",
       "      <td>500</td>\n",
       "    </tr>\n",
       "    <tr>\n",
       "      <th>620</th>\n",
       "      <td>Washim</td>\n",
       "      <td>0</td>\n",
       "      <td>502</td>\n",
       "    </tr>\n",
       "    <tr>\n",
       "      <th>621</th>\n",
       "      <td>Akola</td>\n",
       "      <td>0</td>\n",
       "      <td>501</td>\n",
       "    </tr>\n",
       "    <tr>\n",
       "      <th>622</th>\n",
       "      <td>Yavatmal</td>\n",
       "      <td>1</td>\n",
       "      <td>510</td>\n",
       "    </tr>\n",
       "    <tr>\n",
       "      <th>623</th>\n",
       "      <td>Amravati</td>\n",
       "      <td>1</td>\n",
       "      <td>503</td>\n",
       "    </tr>\n",
       "    <tr>\n",
       "      <th>624</th>\n",
       "      <td>Wardha</td>\n",
       "      <td>0</td>\n",
       "      <td>504</td>\n",
       "    </tr>\n",
       "    <tr>\n",
       "      <th>625</th>\n",
       "      <td>Burhanpur</td>\n",
       "      <td>2</td>\n",
       "      <td>467</td>\n",
       "    </tr>\n",
       "    <tr>\n",
       "      <th>626</th>\n",
       "      <td>Jalgaon</td>\n",
       "      <td>1</td>\n",
       "      <td>499</td>\n",
       "    </tr>\n",
       "    <tr>\n",
       "      <th>627</th>\n",
       "      <td>Dhule</td>\n",
       "      <td>0</td>\n",
       "      <td>498</td>\n",
       "    </tr>\n",
       "    <tr>\n",
       "      <th>628</th>\n",
       "      <td>Aurangabad</td>\n",
       "      <td>1</td>\n",
       "      <td>515</td>\n",
       "    </tr>\n",
       "    <tr>\n",
       "      <th>629</th>\n",
       "      <td>Nashik</td>\n",
       "      <td>1</td>\n",
       "      <td>516</td>\n",
       "    </tr>\n",
       "    <tr>\n",
       "      <th>630</th>\n",
       "      <td>Thane</td>\n",
       "      <td>1</td>\n",
       "      <td>517</td>\n",
       "    </tr>\n",
       "    <tr>\n",
       "      <th>631</th>\n",
       "      <td>The Dangs</td>\n",
       "      <td>2</td>\n",
       "      <td>489</td>\n",
       "    </tr>\n",
       "    <tr>\n",
       "      <th>632</th>\n",
       "      <td>Valsad</td>\n",
       "      <td>0</td>\n",
       "      <td>491</td>\n",
       "    </tr>\n",
       "    <tr>\n",
       "      <th>633</th>\n",
       "      <td>Navsari</td>\n",
       "      <td>0</td>\n",
       "      <td>490</td>\n",
       "    </tr>\n",
       "    <tr>\n",
       "      <th>634</th>\n",
       "      <td>Tapi</td>\n",
       "      <td>0</td>\n",
       "      <td>493</td>\n",
       "    </tr>\n",
       "    <tr>\n",
       "      <th>635</th>\n",
       "      <td>Surat</td>\n",
       "      <td>1</td>\n",
       "      <td>492</td>\n",
       "    </tr>\n",
       "    <tr>\n",
       "      <th>636</th>\n",
       "      <td>Dadra &amp; Nagar Haveli</td>\n",
       "      <td>0</td>\n",
       "      <td>496</td>\n",
       "    </tr>\n",
       "    <tr>\n",
       "      <th>637</th>\n",
       "      <td>Daman</td>\n",
       "      <td>2</td>\n",
       "      <td>495</td>\n",
       "    </tr>\n",
       "    <tr>\n",
       "      <th>638</th>\n",
       "      <td>Diu</td>\n",
       "      <td>2</td>\n",
       "      <td>494</td>\n",
       "    </tr>\n",
       "    <tr>\n",
       "      <th>639</th>\n",
       "      <td>Mumbai Suburban</td>\n",
       "      <td>1</td>\n",
       "      <td>518</td>\n",
       "    </tr>\n",
       "    <tr>\n",
       "      <th>640</th>\n",
       "      <td>Mumbai</td>\n",
       "      <td>0</td>\n",
       "      <td>519</td>\n",
       "    </tr>\n",
       "  </tbody>\n",
       "</table>\n",
       "<p>641 rows × 3 columns</p>\n",
       "</div>"
      ],
      "text/plain": [
       "                   DISTRICT  LABELS  censuscode\n",
       "0             South Andaman       2         640\n",
       "1                   Nicobar       2         638\n",
       "2    North & Middle Andaman       2         639\n",
       "3                Lawangtlai       2         287\n",
       "4                   Lunglei       2         286\n",
       "5                     Saiha       2         288\n",
       "6             Dibang Valley       2         257\n",
       "7               Upper Siang       2         252\n",
       "8       Lower Dibang Valley       2         258\n",
       "9                  Tuensang       2         267\n",
       "10                      Mon       2         261\n",
       "11                    Tirap       2         254\n",
       "12                Sivasagar       0         311\n",
       "13                Changlang       2         253\n",
       "14                    Lohit       2         259\n",
       "15                    Anjaw       2         260\n",
       "16                 Tinsukia       1         309\n",
       "17                  Dhemaji       2         308\n",
       "18                Dibrugarh       1         310\n",
       "19               East Siang       2         251\n",
       "20               West Siang       2         250\n",
       "21          Upper Subansiri       2         249\n",
       "22                   Jorhat       0         312\n",
       "23                Lakhimpur       2         307\n",
       "24          Lower Subansiri       2         255\n",
       "25               Papum Pare       2         248\n",
       "26             Kurung Kumey       2         256\n",
       "27              East Kameng       2         247\n",
       "28              West Kameng       2         246\n",
       "29                   Tawang       2         245\n",
       "..                      ...     ...         ...\n",
       "611                   Bidar       0         558\n",
       "612              Rangareddy       1         537\n",
       "613                   Medak       1         535\n",
       "614               Hyderabad       1         536\n",
       "615               Nizamabad       1         533\n",
       "616                  Nanded       1         511\n",
       "617                 Hingoli       0         512\n",
       "618                   Jalna       0         514\n",
       "619                 Buldana       0         500\n",
       "620                  Washim       0         502\n",
       "621                   Akola       0         501\n",
       "622                Yavatmal       1         510\n",
       "623                Amravati       1         503\n",
       "624                  Wardha       0         504\n",
       "625               Burhanpur       2         467\n",
       "626                 Jalgaon       1         499\n",
       "627                   Dhule       0         498\n",
       "628              Aurangabad       1         515\n",
       "629                  Nashik       1         516\n",
       "630                   Thane       1         517\n",
       "631               The Dangs       2         489\n",
       "632                  Valsad       0         491\n",
       "633                 Navsari       0         490\n",
       "634                    Tapi       0         493\n",
       "635                   Surat       1         492\n",
       "636    Dadra & Nagar Haveli       0         496\n",
       "637                   Daman       2         495\n",
       "638                     Diu       2         494\n",
       "639         Mumbai Suburban       1         518\n",
       "640                  Mumbai       0         519\n",
       "\n",
       "[641 rows x 3 columns]"
      ]
     },
     "execution_count": 134,
     "metadata": {},
     "output_type": "execute_result"
    }
   ],
   "source": [
    "df_labels"
   ]
  },
  {
   "cell_type": "code",
   "execution_count": 93,
   "metadata": {},
   "outputs": [],
   "source": [
    "#df_labels[df_labels[\"LABELS\"] == 0]"
   ]
  },
  {
   "cell_type": "code",
   "execution_count": null,
   "metadata": {},
   "outputs": [],
   "source": []
  },
  {
   "cell_type": "code",
   "execution_count": null,
   "metadata": {},
   "outputs": [],
   "source": []
  },
  {
   "cell_type": "code",
   "execution_count": null,
   "metadata": {},
   "outputs": [],
   "source": []
  },
  {
   "cell_type": "code",
   "execution_count": null,
   "metadata": {},
   "outputs": [],
   "source": []
  },
  {
   "cell_type": "code",
   "execution_count": 139,
   "metadata": {},
   "outputs": [
    {
     "data": {
      "image/png": "[encoded data removed]",
      "text/plain": [
       "<matplotlib.figure.Figure at 0x16e42e4f7f0>"
      ]
     },
     "metadata": {},
     "output_type": "display_data"
    }
   ],
   "source": [
    "df_cdfVill=df.merge(df_labels, left_on= 'censuscode' ,right_on='censuscode', how='left')\n",
    "\n",
    "plot= ggplot(df_cdfVill, aes(x='LOG_avg'))+geom_histogram(binwidth=0.05, color='blue')+facet_wrap('LABELS', scales='free_y')\n",
    "\n",
    "plot\n",
    "plot.save('VIIRS_2011_BEST.png')"
   ]
  },
  {
   "cell_type": "code",
   "execution_count": 140,
   "metadata": {},
   "outputs": [
    {
     "data": {
      "image/png": "[encoded data removed]",
      "text/plain": [
       "<matplotlib.figure.Figure at 0x16e3c8870b8>"
      ]
     },
     "metadata": {},
     "output_type": "display_data"
    }
   ],
   "source": [
    "LABEL_COLOR_MAP = {0 : 'r',\n",
    "                   1 : 'g',\n",
    "                   2 :  'b'\n",
    "                   }\n",
    "\n",
    "label_color = [LABEL_COLOR_MAP[l] for l in df_cdfVill['LABELS']]\n",
    "plt.scatter(df_cdfVill['censuscode'], df_cdfVill['LOG_avg'], c=label_color)\n",
    "plt.savefig('dist_wise_colorBEST.png')"
   ]
  },
  {
   "cell_type": "code",
   "execution_count": null,
   "metadata": {},
   "outputs": [],
   "source": []
  },
  {
   "cell_type": "code",
   "execution_count": 142,
   "metadata": {},
   "outputs": [],
   "source": [
    "df_labels.loc[df_labels['LABELS']==0,'LABELS']=\"1\"\n",
    "df_labels.loc[df_labels['LABELS']==1,'LABELS']=\"2\"\n",
    "df_labels.loc[df_labels['LABELS']==2,'LABELS']=\"0\"\n",
    "#df.loc[df_labels['LABELS']==3,'LABELS']=\"4\"\n",
    "#df.loc[df_labels['LABELS']==4,'LABELS']=\"3\"\n",
    "\n"
   ]
  },
  {
   "cell_type": "code",
   "execution_count": 143,
   "metadata": {},
   "outputs": [],
   "source": [
    "df_labels.to_csv('FINAL_VIIRS_CLUSTERS.csv')"
   ]
  },
  {
   "cell_type": "code",
   "execution_count": 141,
   "metadata": {},
   "outputs": [
    {
     "data": {
      "image/png": "[encoded data removed]",
      "text/plain": [
       "<matplotlib.figure.Figure at 0x16e42e582e8>"
      ]
     },
     "metadata": {},
     "output_type": "display_data"
    }
   ],
   "source": [
    "m=ggplot(df_cdfVill, aes(x='LABELS', y='LOG_avg')) + geom_boxplot()#+facet_wrap('LABELS', scales='free_y')\n",
    "m.save('BOX_plot_VIIRS_logBEST.png')"
   ]
  },
  {
   "cell_type": "code",
   "execution_count": null,
   "metadata": {},
   "outputs": [],
   "source": []
  }
 ],
 "metadata": {
  "kernelspec": {
   "display_name": "Python 3",
   "language": "python",
   "name": "python3"
  },
  "language_info": {
   "codemirror_mode": {
    "name": "ipython",
    "version": 3
   },
   "file_extension": ".py",
   "mimetype": "text/x-python",
   "name": "python",
   "nbconvert_exporter": "python",
   "pygments_lexer": "ipython3",
   "version": "3.6.4"
  }
 },
 "nbformat": 4,
 "nbformat_minor": 2
}
