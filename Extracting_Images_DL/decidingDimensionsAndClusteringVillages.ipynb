{
  "nbformat": 4,
  "nbformat_minor": 0,
  "metadata": {
    "colab": {
      "name": "MinedecidingDimensionsAndClusteringVillages.ipynb",
      "version": "0.3.2",
      "views": {},
      "default_view": {},
      "provenance": [
        {
          "file_id": "1Ok8Ks3DU-28-IdZgn2CSn15BgR4FjC_0",
          "timestamp": 1524588201464
        }
      ],
      "collapsed_sections": []
    },
    "kernelspec": {
      "name": "python2",
      "display_name": "Python 2"
    }
  },
  "cells": [
    {
      "metadata": {
        "id": "pFoNnGkzw1Bf",
        "colab_type": "text"
      },
      "cell_type": "markdown",
      "source": [
        "Download the dataset"
      ]
    },
    {
      "metadata": {
        "id": "STSrtaZoWq1q",
        "colab_type": "code",
        "colab": {
          "autoexec": {
            "startup": false,
            "wait_interval": 0
          },
          "base_uri": "https://localhost:8080/",
          "height": 581
        },
        "outputId": "0e3f279d-a65c-40e8-d4a6-97578d944b8d",
        "executionInfo": {
          "status": "ok",
          "timestamp": 1525980998889,
          "user_tz": -330,
          "elapsed": 141208,
          "user": {
            "displayName": "ayush gupta",
            "photoUrl": "//lh3.googleusercontent.com/-H_gav6iJTDo/AAAAAAAAAAI/AAAAAAAA9Yk/99uj7UZOMbk/s50-c-k-no/photo.jpg",
            "userId": "116069087946857344241"
          }
        }
      },
      "cell_type": "code",
      "source": [
        "!wget http://www.cse.iitd.ac.in/~cs5140281/combinedSingleVillageFile.csv\n",
        "!wget http://www.cse.iitd.ac.in/~cs5140281/Vill.csv\n",
        "censusLabels=pd.read_csv(\"Vill.csv\")\n",
        "import matplotlib.pyplot as plt\n",
        "import numpy as np\n",
        "import pandas as pd\n",
        "df = pd.read_csv('combinedSingleVillageFile.csv')\n",
        "df=df.drop(['Unnamed: 0', 'Unnamed: 0.1'], axis=1)\n",
        "df.columns"
      ],
      "execution_count": 91,
      "outputs": [
        {
          "output_type": "stream",
          "text": [
            "--2018-05-10 19:34:19--  http://www.cse.iitd.ac.in/~cs5140281/combinedSingleVillageFile.csv\n",
            "Resolving www.cse.iitd.ac.in (www.cse.iitd.ac.in)... 103.27.9.152\n",
            "Connecting to www.cse.iitd.ac.in (www.cse.iitd.ac.in)|103.27.9.152|:80... connected.\n",
            "HTTP request sent, awaiting response... 200 OK\n",
            "Length: 37978563 (36M) [text/csv]\n",
            "Saving to: ‘combinedSingleVillageFile.csv.2’\n",
            "\n",
            "combinedSingleVilla 100%[===================>]  36.22M  4.56MB/s    in 19s     \n",
            "\n",
            "2018-05-10 19:34:39 (1.88 MB/s) - ‘combinedSingleVillageFile.csv.2’ saved [37978563/37978563]\n",
            "\n",
            "--2018-05-10 19:34:40--  http://www.cse.iitd.ac.in/~cs5140281/Vill.csv\n",
            "Resolving www.cse.iitd.ac.in (www.cse.iitd.ac.in)... 103.27.9.152\n",
            "Connecting to www.cse.iitd.ac.in (www.cse.iitd.ac.in)|103.27.9.152|:80... connected.\n",
            "HTTP request sent, awaiting response... 200 OK\n",
            "Length: 290123394 (277M) [text/csv]\n",
            "Saving to: ‘Vill.csv.2’\n",
            "\n",
            "Vill.csv.2           14%[=>                  ]  41.12M  4.79MB/s    eta 2m 2s  "
          ],
          "name": "stdout"
        },
        {
          "output_type": "stream",
          "text": [
            "Vill.csv.2          100%[===================>] 276.68M  5.75MB/s    in 1m 49s  \n",
            "\n",
            "2018-05-10 19:36:29 (2.55 MB/s) - ‘Vill.csv.2’ saved [290123394/290123394]\n",
            "\n"
          ],
          "name": "stdout"
        },
        {
          "output_type": "execute_result",
          "data": {
            "text/plain": [
              "Index([u'tifImage', u'village_2001', u'village_id', u'village_2011', u'rowH',\n",
              "       u'colH', u'B0', u'B1', u'B2', u'B3', u'B4', u'B5', u'B6', u'B7', u'B8',\n",
              "       u'B9', u'B10', u'B11', u'B12', u'B13', u'B14', u'B15', u'B16', u'B17',\n",
              "       u'B18', u'B19', u'B20', u'B21', u'B22', u'B23', u'B24', u'B25', u'B26',\n",
              "       u'B27', u'B28', u'B29', u'B30', u'B31', u'B32', u'B33', u'B34', u'B35',\n",
              "       u'B36', u'B37', u'B38', u'B39', u'B40', u'B41', u'B42', u'B43', u'B44',\n",
              "       u'B45', u'B46', u'B47', u'B48', u'B49', u'B50', u'B51', u'B52', u'B53',\n",
              "       u'B54', u'B55', u'B56', u'B57', u'B58', u'B59', u'B60', u'B61', u'B62',\n",
              "       u'B63', u'B64'],\n",
              "      dtype='object')"
            ]
          },
          "metadata": {
            "tags": []
          },
          "execution_count": 91
        }
      ]
    },
    {
      "metadata": {
        "id": "2nrdBVhZ9cZ5",
        "colab_type": "code",
        "colab": {
          "autoexec": {
            "startup": false,
            "wait_interval": 0
          }
        }
      },
      "cell_type": "code",
      "source": [
        "# Confusion matrix code\n",
        "from sklearn.metrics import confusion_matrix\n",
        "from itertools import product\n",
        "def plot_confusion_matrix(cm, classes,\n",
        "                          normalize=False,\n",
        "                          title='Confusion matrix',\n",
        "                          cmap=plt.cm.Blues):\n",
        "    \"\"\"\n",
        "    This function prints and plots the confusion matrix.\n",
        "    Normalization can be applied by setting normalize=True.\n",
        "    \"\"\"\n",
        "    if normalize:\n",
        "        cm = cm.astype('float') / cm.sum(axis=1)[:, np.newaxis]\n",
        "        print(\"Normalized confusion matrix\")\n",
        "    else:\n",
        "        print('Confusion matrix, without normalization')\n",
        "\n",
        "    print(cm)\n",
        "\n",
        "    plt.imshow(cm, interpolation='nearest', cmap=cmap)\n",
        "    plt.title(title)\n",
        "    plt.colorbar()\n",
        "    tick_marks = np.arange(len(classes))\n",
        "    plt.xticks(tick_marks, classes, rotation=45)\n",
        "    plt.yticks(tick_marks, classes)\n",
        "\n",
        "    fmt = '.2f' if normalize else 'd'\n",
        "    thresh = cm.max() / 2.\n",
        "    for i, j in product(range(cm.shape[0]), range(cm.shape[1])):\n",
        "        plt.text(j, i, format(cm[i, j], fmt),\n",
        "                 horizontalalignment=\"center\",\n",
        "                 color=\"white\" if cm[i, j] > thresh else \"black\")\n",
        "\n",
        "    plt.tight_layout()\n",
        "    plt.ylabel('True label')\n",
        "    plt.xlabel('Predicted label')\n",
        "    \n"
      ],
      "execution_count": 0,
      "outputs": []
    },
    {
      "metadata": {
        "id": "xQ2uP4W5w_Ej",
        "colab_type": "text"
      },
      "cell_type": "markdown",
      "source": [
        "Try to cluster using the 64 dimensional night light vector but the cluster is highly skewed for 3 clusters, in 1st clustering 0 NL pixels are also in the cluster, but in the 2nd Clustering NL pixels with DN>0 are considered which makes the clusters a bit less skewed"
      ]
    },
    {
      "metadata": {
        "id": "djV0kRCjp4Va",
        "colab_type": "code",
        "colab": {
          "autoexec": {
            "startup": false,
            "wait_interval": 0
          },
          "base_uri": "https://localhost:8080/",
          "height": 34
        },
        "outputId": "e3d5d039-1e9c-461f-eb96-6e2fa887452c",
        "executionInfo": {
          "status": "ok",
          "timestamp": 1525964578046,
          "user_tz": -330,
          "elapsed": 22859,
          "user": {
            "displayName": "ayush gupta",
            "photoUrl": "//lh3.googleusercontent.com/-H_gav6iJTDo/AAAAAAAAAAI/AAAAAAAA9Yk/99uj7UZOMbk/s50-c-k-no/photo.jpg",
            "userId": "116069087946857344241"
          }
        }
      },
      "cell_type": "code",
      "source": [
        "########### Taking a 64 length vector from DN0 to DN63\n",
        "listNL=[\"B\"+str(x) for x in range(1,65)]\n",
        "nlValues = df[listNL]\n",
        "from sklearn.cluster import KMeans\n",
        "kmeans = KMeans(n_clusters=3)\n",
        "kmeans.fit(nlValues)\n",
        "labels = kmeans.predict(nlValues)\n",
        "centroids = kmeans.cluster_centers_\n",
        "from collections import Counter\n",
        "temp=Counter(labels)\n",
        "print(temp)"
      ],
      "execution_count": 3,
      "outputs": [
        {
          "output_type": "stream",
          "text": [
            "Counter({0: 172745, 1: 5996, 2: 19})\n"
          ],
          "name": "stdout"
        }
      ]
    },
    {
      "metadata": {
        "id": "9fv0kMW7r-KL",
        "colab_type": "code",
        "colab": {
          "autoexec": {
            "startup": false,
            "wait_interval": 0
          },
          "base_uri": "https://localhost:8080/",
          "height": 34
        },
        "outputId": "166dbf7e-fdc0-4e85-d3f0-eecae3454b7c",
        "executionInfo": {
          "status": "ok",
          "timestamp": 1525964593636,
          "user_tz": -330,
          "elapsed": 12651,
          "user": {
            "displayName": "ayush gupta",
            "photoUrl": "//lh3.googleusercontent.com/-H_gav6iJTDo/AAAAAAAAAAI/AAAAAAAA9Yk/99uj7UZOMbk/s50-c-k-no/photo.jpg",
            "userId": "116069087946857344241"
          }
        }
      },
      "cell_type": "code",
      "source": [
        "########### Taking a 63 length vector from DN1 to DN63\n",
        "listNL=[\"B\"+str(x) for x in range(2,65)]\n",
        "nlValues = df[listNL]\n",
        "from sklearn.cluster import KMeans\n",
        "kmeans = KMeans(n_clusters=3)\n",
        "kmeans.fit(nlValues)\n",
        "labels = kmeans.predict(nlValues)\n",
        "centroids = kmeans.cluster_centers_\n",
        "from collections import Counter\n",
        "temp=Counter(labels)\n",
        "print(temp)"
      ],
      "execution_count": 4,
      "outputs": [
        {
          "output_type": "stream",
          "text": [
            "Counter({0: 158837, 2: 11316, 1: 8607})\n"
          ],
          "name": "stdout"
        }
      ]
    },
    {
      "metadata": {
        "id": "tNK4a6fgS3ca",
        "colab_type": "code",
        "colab": {
          "autoexec": {
            "startup": false,
            "wait_interval": 0
          },
          "base_uri": "https://localhost:8080/",
          "height": 4318
        },
        "outputId": "aae3c990-cceb-4afc-9412-aa029207e736",
        "executionInfo": {
          "status": "ok",
          "timestamp": 1525964605973,
          "user_tz": -330,
          "elapsed": 9375,
          "user": {
            "displayName": "ayush gupta",
            "photoUrl": "//lh3.googleusercontent.com/-H_gav6iJTDo/AAAAAAAAAAI/AAAAAAAA9Yk/99uj7UZOMbk/s50-c-k-no/photo.jpg",
            "userId": "116069087946857344241"
          }
        }
      },
      "cell_type": "code",
      "source": [
        "########### Taking a 64 length vector from DN0 to DN63 and normalizing it\n",
        "listNL=[\"B\"+str(x) for x in range(1,65)]\n",
        "nlValues = df[listNL]\n",
        "nlValues[\"sum\"] = nlValues.sum(axis=1)\n",
        "nlValues[\"sum\"]+=1;\n",
        "nlValues_new = nlValues.loc[:,\"B1\":\"B64\"].div(nlValues[\"sum\"], axis=0)\n",
        "# nlValues_new.drop('sum', axis = 1, inplace = True)\n",
        "print(nlValues_new)\n",
        "from sklearn.cluster import KMeans\n",
        "kmeans = KMeans(n_clusters=3)\n",
        "kmeans.fit(nlValues_new)\n",
        "labels = kmeans.predict(nlValues_new)\n",
        "centroids = kmeans.cluster_centers_\n",
        "print(\"centroids\")\n",
        "print(centroids)\n",
        "print(\"centroids\")\n",
        "from collections import Counter\n",
        "temp=Counter(labels)\n",
        "print(temp)"
      ],
      "execution_count": 5,
      "outputs": [
        {
          "output_type": "stream",
          "text": [
            "/usr/local/lib/python2.7/dist-packages/ipykernel_launcher.py:3: SettingWithCopyWarning: \n",
            "A value is trying to be set on a copy of a slice from a DataFrame.\n",
            "Try using .loc[row_indexer,col_indexer] = value instead\n",
            "\n",
            "See the caveats in the documentation: http://pandas.pydata.org/pandas-docs/stable/indexing.html#indexing-view-versus-copy\n",
            "  This is separate from the ipykernel package so we can avoid doing imports until\n",
            "/usr/local/lib/python2.7/dist-packages/ipykernel_launcher.py:4: SettingWithCopyWarning: \n",
            "A value is trying to be set on a copy of a slice from a DataFrame.\n",
            "Try using .loc[row_indexer,col_indexer] = value instead\n",
            "\n",
            "See the caveats in the documentation: http://pandas.pydata.org/pandas-docs/stable/indexing.html#indexing-view-versus-copy\n",
            "  after removing the cwd from sys.path.\n"
          ],
          "name": "stderr"
        },
        {
          "output_type": "stream",
          "text": [
            "              B1   B2   B3   B4        B5        B6        B7        B8  \\\n",
            "0       0.000000  0.0  0.0  0.0  0.000000  0.000000  0.000000  0.280435   \n",
            "1       0.998285  0.0  0.0  0.0  0.000000  0.000000  0.000000  0.000000   \n",
            "2       0.000000  0.0  0.0  0.0  0.000000  0.000000  0.302250  0.697424   \n",
            "3       0.999772  0.0  0.0  0.0  0.000000  0.000000  0.000000  0.000000   \n",
            "4       0.997222  0.0  0.0  0.0  0.000000  0.000000  0.000000  0.000000   \n",
            "5       0.605938  0.0  0.0  0.0  0.000000  0.393773  0.000000  0.000000   \n",
            "6       0.998675  0.0  0.0  0.0  0.000000  0.000000  0.000000  0.000000   \n",
            "7       0.000000  0.0  0.0  0.0  0.000000  0.000000  0.874567  0.111804   \n",
            "8       0.999611  0.0  0.0  0.0  0.000000  0.000000  0.000000  0.000000   \n",
            "9       0.999850  0.0  0.0  0.0  0.000000  0.000000  0.000000  0.000000   \n",
            "10      0.686772  0.0  0.0  0.0  0.000000  0.291295  0.021247  0.000000   \n",
            "11      0.001082  0.0  0.0  0.0  0.000000  0.000000  0.997835  0.000000   \n",
            "12      0.999670  0.0  0.0  0.0  0.000000  0.000000  0.000000  0.000000   \n",
            "13      0.000000  0.0  0.0  0.0  0.000000  0.000000  0.997462  0.000000   \n",
            "14      0.999770  0.0  0.0  0.0  0.000000  0.000000  0.000000  0.000000   \n",
            "15      0.167939  0.0  0.0  0.0  0.000000  0.826718  0.004580  0.000000   \n",
            "16      0.253540  0.0  0.0  0.0  0.000000  0.240238  0.432710  0.073462   \n",
            "17      0.422485  0.0  0.0  0.0  0.000000  0.515385  0.061538  0.000000   \n",
            "18      0.999153  0.0  0.0  0.0  0.000000  0.000000  0.000000  0.000000   \n",
            "19      0.573164  0.0  0.0  0.0  0.000000  0.313406  0.113312  0.000000   \n",
            "20      0.493374  0.0  0.0  0.0  0.000000  0.087866  0.153207  0.183407   \n",
            "21      0.999576  0.0  0.0  0.0  0.000000  0.000000  0.000000  0.000000   \n",
            "22      0.999481  0.0  0.0  0.0  0.000000  0.000000  0.000000  0.000000   \n",
            "23      0.000000  0.0  0.0  0.0  0.000000  0.205008  0.793427  0.000000   \n",
            "24      0.000000  0.0  0.0  0.0  0.000000  0.000000  0.989362  0.000000   \n",
            "25      0.000000  0.0  0.0  0.0  0.000000  0.548798  0.378004  0.072833   \n",
            "26      0.000000  0.0  0.0  0.0  0.000000  0.000000  0.000000  0.000000   \n",
            "27      0.995283  0.0  0.0  0.0  0.000000  0.000000  0.000000  0.000000   \n",
            "28      0.000000  0.0  0.0  0.0  0.000000  0.000000  0.000000  0.000000   \n",
            "29      0.999641  0.0  0.0  0.0  0.000000  0.000000  0.000000  0.000000   \n",
            "...          ...  ...  ...  ...       ...       ...       ...       ...   \n",
            "178730  0.999530  0.0  0.0  0.0  0.000000  0.000000  0.000000  0.000000   \n",
            "178731  0.999491  0.0  0.0  0.0  0.000000  0.000000  0.000000  0.000000   \n",
            "178732  0.000000  0.0  0.0  0.0  0.000000  0.000000  0.997727  0.000000   \n",
            "178733  0.066038  0.0  0.0  0.0  0.000000  0.932914  0.000000  0.000000   \n",
            "178734  0.976190  0.0  0.0  0.0  0.000000  0.000000  0.000000  0.000000   \n",
            "178735  0.999945  0.0  0.0  0.0  0.000000  0.000000  0.000000  0.000000   \n",
            "178736  0.999789  0.0  0.0  0.0  0.000000  0.000000  0.000000  0.000000   \n",
            "178737  0.000000  0.0  0.0  0.0  0.000000  0.000000  0.000000  0.000000   \n",
            "178738  0.999851  0.0  0.0  0.0  0.000000  0.000000  0.000000  0.000000   \n",
            "178739  0.999847  0.0  0.0  0.0  0.000000  0.000000  0.000000  0.000000   \n",
            "178740  0.000000  0.0  0.0  0.0  0.000000  0.139138  0.285105  0.420828   \n",
            "178741  0.999038  0.0  0.0  0.0  0.000000  0.000000  0.000000  0.000000   \n",
            "178742  0.567625  0.0  0.0  0.0  0.000000  0.432164  0.000000  0.000000   \n",
            "178743  0.995633  0.0  0.0  0.0  0.000000  0.000000  0.000000  0.000000   \n",
            "178744  0.999537  0.0  0.0  0.0  0.000000  0.000000  0.000000  0.000000   \n",
            "178745  0.181734  0.0  0.0  0.0  0.000000  0.811486  0.006647  0.000000   \n",
            "178746  0.999528  0.0  0.0  0.0  0.000000  0.000000  0.000000  0.000000   \n",
            "178747  0.945402  0.0  0.0  0.0  0.054405  0.000000  0.000000  0.000000   \n",
            "178748  0.119608  0.0  0.0  0.0  0.000000  0.847059  0.032353  0.000000   \n",
            "178749  0.999184  0.0  0.0  0.0  0.000000  0.000000  0.000000  0.000000   \n",
            "178750  0.999905  0.0  0.0  0.0  0.000000  0.000000  0.000000  0.000000   \n",
            "178751  0.524590  0.0  0.0  0.0  0.000000  0.474824  0.000000  0.000000   \n",
            "178752  0.240184  0.0  0.0  0.0  0.000000  0.681795  0.077511  0.000000   \n",
            "178753  0.000000  0.0  0.0  0.0  0.000000  0.000000  0.000000  0.095492   \n",
            "178754  0.999322  0.0  0.0  0.0  0.000000  0.000000  0.000000  0.000000   \n",
            "178755  0.998901  0.0  0.0  0.0  0.000000  0.000000  0.000000  0.000000   \n",
            "178756  0.999505  0.0  0.0  0.0  0.000000  0.000000  0.000000  0.000000   \n",
            "178757  0.998211  0.0  0.0  0.0  0.000000  0.000000  0.000000  0.000000   \n",
            "178758  0.999552  0.0  0.0  0.0  0.000000  0.000000  0.000000  0.000000   \n",
            "178759  0.000000  0.0  0.0  0.0  0.000000  0.000000  0.000000  0.000000   \n",
            "\n",
            "              B9       B10 ...   B55  B56  B57  B58  B59  B60  B61  B62  B63  \\\n",
            "0       0.019565  0.482609 ...   0.0  0.0  0.0  0.0  0.0  0.0  0.0  0.0  0.0   \n",
            "1       0.000000  0.000000 ...   0.0  0.0  0.0  0.0  0.0  0.0  0.0  0.0  0.0   \n",
            "2       0.000000  0.000000 ...   0.0  0.0  0.0  0.0  0.0  0.0  0.0  0.0  0.0   \n",
            "3       0.000000  0.000000 ...   0.0  0.0  0.0  0.0  0.0  0.0  0.0  0.0  0.0   \n",
            "4       0.000000  0.000000 ...   0.0  0.0  0.0  0.0  0.0  0.0  0.0  0.0  0.0   \n",
            "5       0.000000  0.000000 ...   0.0  0.0  0.0  0.0  0.0  0.0  0.0  0.0  0.0   \n",
            "6       0.000000  0.000000 ...   0.0  0.0  0.0  0.0  0.0  0.0  0.0  0.0  0.0   \n",
            "7       0.013398  0.000000 ...   0.0  0.0  0.0  0.0  0.0  0.0  0.0  0.0  0.0   \n",
            "8       0.000000  0.000000 ...   0.0  0.0  0.0  0.0  0.0  0.0  0.0  0.0  0.0   \n",
            "9       0.000000  0.000000 ...   0.0  0.0  0.0  0.0  0.0  0.0  0.0  0.0  0.0   \n",
            "10      0.000000  0.000000 ...   0.0  0.0  0.0  0.0  0.0  0.0  0.0  0.0  0.0   \n",
            "11      0.000000  0.000000 ...   0.0  0.0  0.0  0.0  0.0  0.0  0.0  0.0  0.0   \n",
            "12      0.000000  0.000000 ...   0.0  0.0  0.0  0.0  0.0  0.0  0.0  0.0  0.0   \n",
            "13      0.000000  0.000000 ...   0.0  0.0  0.0  0.0  0.0  0.0  0.0  0.0  0.0   \n",
            "14      0.000000  0.000000 ...   0.0  0.0  0.0  0.0  0.0  0.0  0.0  0.0  0.0   \n",
            "15      0.000000  0.000000 ...   0.0  0.0  0.0  0.0  0.0  0.0  0.0  0.0  0.0   \n",
            "16      0.000000  0.000000 ...   0.0  0.0  0.0  0.0  0.0  0.0  0.0  0.0  0.0   \n",
            "17      0.000000  0.000000 ...   0.0  0.0  0.0  0.0  0.0  0.0  0.0  0.0  0.0   \n",
            "18      0.000000  0.000000 ...   0.0  0.0  0.0  0.0  0.0  0.0  0.0  0.0  0.0   \n",
            "19      0.000000  0.000000 ...   0.0  0.0  0.0  0.0  0.0  0.0  0.0  0.0  0.0   \n",
            "20      0.082110  0.000000 ...   0.0  0.0  0.0  0.0  0.0  0.0  0.0  0.0  0.0   \n",
            "21      0.000000  0.000000 ...   0.0  0.0  0.0  0.0  0.0  0.0  0.0  0.0  0.0   \n",
            "22      0.000000  0.000000 ...   0.0  0.0  0.0  0.0  0.0  0.0  0.0  0.0  0.0   \n",
            "23      0.000000  0.000000 ...   0.0  0.0  0.0  0.0  0.0  0.0  0.0  0.0  0.0   \n",
            "24      0.000000  0.000000 ...   0.0  0.0  0.0  0.0  0.0  0.0  0.0  0.0  0.0   \n",
            "25      0.000000  0.000000 ...   0.0  0.0  0.0  0.0  0.0  0.0  0.0  0.0  0.0   \n",
            "26      0.000000  0.000000 ...   0.0  0.0  0.0  0.0  0.0  0.0  0.0  0.0  0.0   \n",
            "27      0.000000  0.000000 ...   0.0  0.0  0.0  0.0  0.0  0.0  0.0  0.0  0.0   \n",
            "28      0.381144  0.618050 ...   0.0  0.0  0.0  0.0  0.0  0.0  0.0  0.0  0.0   \n",
            "29      0.000000  0.000000 ...   0.0  0.0  0.0  0.0  0.0  0.0  0.0  0.0  0.0   \n",
            "...          ...       ... ...   ...  ...  ...  ...  ...  ...  ...  ...  ...   \n",
            "178730  0.000000  0.000000 ...   0.0  0.0  0.0  0.0  0.0  0.0  0.0  0.0  0.0   \n",
            "178731  0.000000  0.000000 ...   0.0  0.0  0.0  0.0  0.0  0.0  0.0  0.0  0.0   \n",
            "178732  0.000000  0.000000 ...   0.0  0.0  0.0  0.0  0.0  0.0  0.0  0.0  0.0   \n",
            "178733  0.000000  0.000000 ...   0.0  0.0  0.0  0.0  0.0  0.0  0.0  0.0  0.0   \n",
            "178734  0.000000  0.000000 ...   0.0  0.0  0.0  0.0  0.0  0.0  0.0  0.0  0.0   \n",
            "178735  0.000000  0.000000 ...   0.0  0.0  0.0  0.0  0.0  0.0  0.0  0.0  0.0   \n",
            "178736  0.000000  0.000000 ...   0.0  0.0  0.0  0.0  0.0  0.0  0.0  0.0  0.0   \n",
            "178737  0.000000  0.000000 ...   0.0  0.0  0.0  0.0  0.0  0.0  0.0  0.0  0.0   \n",
            "178738  0.000000  0.000000 ...   0.0  0.0  0.0  0.0  0.0  0.0  0.0  0.0  0.0   \n",
            "178739  0.000000  0.000000 ...   0.0  0.0  0.0  0.0  0.0  0.0  0.0  0.0  0.0   \n",
            "178740  0.142552  0.011950 ...   0.0  0.0  0.0  0.0  0.0  0.0  0.0  0.0  0.0   \n",
            "178741  0.000000  0.000000 ...   0.0  0.0  0.0  0.0  0.0  0.0  0.0  0.0  0.0   \n",
            "178742  0.000000  0.000000 ...   0.0  0.0  0.0  0.0  0.0  0.0  0.0  0.0  0.0   \n",
            "178743  0.000000  0.000000 ...   0.0  0.0  0.0  0.0  0.0  0.0  0.0  0.0  0.0   \n",
            "178744  0.000000  0.000000 ...   0.0  0.0  0.0  0.0  0.0  0.0  0.0  0.0  0.0   \n",
            "178745  0.000000  0.000000 ...   0.0  0.0  0.0  0.0  0.0  0.0  0.0  0.0  0.0   \n",
            "178746  0.000000  0.000000 ...   0.0  0.0  0.0  0.0  0.0  0.0  0.0  0.0  0.0   \n",
            "178747  0.000000  0.000000 ...   0.0  0.0  0.0  0.0  0.0  0.0  0.0  0.0  0.0   \n",
            "178748  0.000000  0.000000 ...   0.0  0.0  0.0  0.0  0.0  0.0  0.0  0.0  0.0   \n",
            "178749  0.000000  0.000000 ...   0.0  0.0  0.0  0.0  0.0  0.0  0.0  0.0  0.0   \n",
            "178750  0.000000  0.000000 ...   0.0  0.0  0.0  0.0  0.0  0.0  0.0  0.0  0.0   \n",
            "178751  0.000000  0.000000 ...   0.0  0.0  0.0  0.0  0.0  0.0  0.0  0.0  0.0   \n",
            "178752  0.000000  0.000000 ...   0.0  0.0  0.0  0.0  0.0  0.0  0.0  0.0  0.0   \n",
            "178753  0.620403  0.283511 ...   0.0  0.0  0.0  0.0  0.0  0.0  0.0  0.0  0.0   \n",
            "178754  0.000000  0.000000 ...   0.0  0.0  0.0  0.0  0.0  0.0  0.0  0.0  0.0   \n",
            "178755  0.000000  0.000000 ...   0.0  0.0  0.0  0.0  0.0  0.0  0.0  0.0  0.0   \n",
            "178756  0.000000  0.000000 ...   0.0  0.0  0.0  0.0  0.0  0.0  0.0  0.0  0.0   \n",
            "178757  0.000000  0.000000 ...   0.0  0.0  0.0  0.0  0.0  0.0  0.0  0.0  0.0   \n",
            "178758  0.000000  0.000000 ...   0.0  0.0  0.0  0.0  0.0  0.0  0.0  0.0  0.0   \n",
            "178759  0.000000  0.000000 ...   0.0  0.0  0.0  0.0  0.0  0.0  0.0  0.0  0.0   \n",
            "\n",
            "        B64  \n",
            "0       0.0  \n",
            "1       0.0  \n",
            "2       0.0  \n",
            "3       0.0  \n",
            "4       0.0  \n",
            "5       0.0  \n",
            "6       0.0  \n",
            "7       0.0  \n",
            "8       0.0  \n",
            "9       0.0  \n",
            "10      0.0  \n",
            "11      0.0  \n",
            "12      0.0  \n",
            "13      0.0  \n",
            "14      0.0  \n",
            "15      0.0  \n",
            "16      0.0  \n",
            "17      0.0  \n",
            "18      0.0  \n",
            "19      0.0  \n",
            "20      0.0  \n",
            "21      0.0  \n",
            "22      0.0  \n",
            "23      0.0  \n",
            "24      0.0  \n",
            "25      0.0  \n",
            "26      0.0  \n",
            "27      0.0  \n",
            "28      0.0  \n",
            "29      0.0  \n",
            "...     ...  \n",
            "178730  0.0  \n",
            "178731  0.0  \n",
            "178732  0.0  \n",
            "178733  0.0  \n",
            "178734  0.0  \n",
            "178735  0.0  \n",
            "178736  0.0  \n",
            "178737  0.0  \n",
            "178738  0.0  \n",
            "178739  0.0  \n",
            "178740  0.0  \n",
            "178741  0.0  \n",
            "178742  0.0  \n",
            "178743  0.0  \n",
            "178744  0.0  \n",
            "178745  0.0  \n",
            "178746  0.0  \n",
            "178747  0.0  \n",
            "178748  0.0  \n",
            "178749  0.0  \n",
            "178750  0.0  \n",
            "178751  0.0  \n",
            "178752  0.0  \n",
            "178753  0.0  \n",
            "178754  0.0  \n",
            "178755  0.0  \n",
            "178756  0.0  \n",
            "178757  0.0  \n",
            "178758  0.0  \n",
            "178759  0.0  \n",
            "\n",
            "[178760 rows x 64 columns]\n",
            "centroids\n",
            "[[ 9.50982622e-01  0.00000000e+00  0.00000000e+00  0.00000000e+00\n",
            "   4.07884935e-03  3.11077007e-02  1.00162045e-02  1.71738851e-03\n",
            "   4.71161042e-04  1.82647365e-04  1.08716628e-04  4.81296518e-05\n",
            "   3.20762866e-05  1.71977265e-05  8.96509829e-06  1.08142006e-05\n",
            "   3.73230416e-06  4.89702679e-06  3.16597334e-06  5.16921709e-06\n",
            "   2.46242677e-06  1.99789306e-06  1.02663298e-06  3.88664676e-07\n",
            "   1.59331971e-06  2.41777084e-16  2.60039351e-07  3.03892259e-07\n",
            "   1.85850665e-08  2.09280629e-07  4.98670777e-07  1.54276700e-07\n",
            "   2.65603761e-07 -9.06935117e-16  6.05270298e-07  9.96245924e-08\n",
            "   1.75467526e-07  6.65808554e-16  4.52112306e-16  3.72423446e-17\n",
            "  -4.11021044e-16  5.11960266e-16  6.97046477e-08  3.79746856e-08\n",
            "  -2.38632898e-16  6.33003271e-09 -4.08690009e-16  6.11110555e-16\n",
            "   3.40656323e-16 -5.84222341e-16 -2.14238349e-16 -5.13966040e-16\n",
            "   2.21936185e-16 -9.10729825e-18  9.43797991e-17 -5.45191062e-16\n",
            "  -4.13460498e-16 -3.06937635e-16  5.34674301e-16  3.58708289e-16\n",
            "  -3.13768109e-16 -7.84962373e-17  3.47703637e-16 -4.63496429e-16]\n",
            " [ 2.11232411e-02  0.00000000e+00  0.00000000e+00  0.00000000e+00\n",
            "   3.25976371e-03  4.51843714e-02  2.78419124e-01  1.84599908e-01\n",
            "   1.10936128e-01  7.27331477e-02  4.92558508e-02  3.59357861e-02\n",
            "   2.70286160e-02  2.11284358e-02  1.67707149e-02  1.37404237e-02\n",
            "   1.13756764e-02  9.54258940e-03  8.05879214e-03  6.91761007e-03\n",
            "   5.95191313e-03  5.71761265e-03  4.74244893e-03  4.09016406e-03\n",
            "   4.00059643e-03  3.48070249e-03  3.11447105e-03  2.89021454e-03\n",
            "   2.59376400e-03  2.53231338e-03  2.27373168e-03  2.28932446e-03\n",
            "   1.86410903e-03  1.87293731e-03  1.58736892e-03  1.74032585e-03\n",
            "   1.36945647e-03  1.33740044e-03  1.45492262e-03  1.13270876e-03\n",
            "   1.39691473e-03  1.07751325e-03  1.01573051e-03  1.14605364e-03\n",
            "   1.04037205e-03  9.91263516e-04  8.47750004e-04  8.83506745e-04\n",
            "   7.44267966e-04  8.19656017e-04  8.58435830e-04  8.06171384e-04\n",
            "   7.52749831e-04  6.96507386e-04  6.03809713e-04  7.49093644e-04\n",
            "   7.62600002e-04  7.32855493e-04  8.07125592e-04  7.46075433e-04\n",
            "   7.54208942e-04  8.57821358e-04  1.18477295e-03  9.52908557e-04]\n",
            " [ 1.23674811e-01  0.00000000e+00  0.00000000e+00  0.00000000e+00\n",
            "   2.70725996e-02  6.94049710e-01  1.41801560e-01  9.60939242e-03\n",
            "   1.86040993e-03  6.03710999e-04  3.20171429e-04  1.07601778e-04\n",
            "   9.61777095e-05  5.59747404e-05  3.64370208e-05  2.32682634e-05\n",
            "   1.27920036e-05  1.45736479e-05  5.93794851e-06  5.66765301e-06\n",
            "   8.34772319e-07  6.58396594e-07  3.98469317e-08  4.20953657e-06\n",
            "   1.79570073e-06  4.04292456e-06  3.85080821e-07  1.37655538e-07\n",
            "   1.37911081e-06 -2.94902991e-16  7.47123717e-16 -2.58907479e-16\n",
            "  -3.12250226e-16  1.42247325e-16 -2.27357196e-16  3.18972279e-16\n",
            "   7.77523476e-07  3.33834539e-08  2.61292724e-16  1.55257751e-16\n",
            "  -2.12828886e-16  2.07949977e-16 -2.53215417e-16 -3.54425690e-16\n",
            "  -1.71954465e-16  2.11311003e-16 -1.38777878e-17 -1.19966970e-16\n",
            "   1.32381085e-16 -1.60895602e-16 -1.36717894e-16 -8.89045781e-17\n",
            "  -1.24845880e-16  8.72782749e-18  6.73831650e-17  2.11961525e-17\n",
            "   8.91214186e-17  5.65411433e-17  1.08962318e-16  2.42156555e-16\n",
            "   3.94649591e-17 -7.33462770e-17  1.26309553e-16  8.23993651e-17]]\n",
            "centroids\n",
            "Counter({1: 76311, 0: 73476, 2: 28973})\n"
          ],
          "name": "stdout"
        }
      ]
    },
    {
      "metadata": {
        "id": "MT5GnhIKdpWp",
        "colab_type": "code",
        "colab": {
          "autoexec": {
            "startup": false,
            "wait_interval": 0
          },
          "base_uri": "https://localhost:8080/",
          "height": 529
        },
        "outputId": "fe2ca26c-9be2-43c7-8b1f-77308071d7e0",
        "executionInfo": {
          "status": "ok",
          "timestamp": 1525964916076,
          "user_tz": -330,
          "elapsed": 296729,
          "user": {
            "displayName": "ayush gupta",
            "photoUrl": "//lh3.googleusercontent.com/-H_gav6iJTDo/AAAAAAAAAAI/AAAAAAAA9Yk/99uj7UZOMbk/s50-c-k-no/photo.jpg",
            "userId": "116069087946857344241"
          }
        }
      },
      "cell_type": "code",
      "source": [
        "# clustering dataset non-Normalized DN0 to DN63\n",
        "# determine k using elbow method\n",
        "listNL=[\"B\"+str(x) for x in range(1,65)]\n",
        "nlValues = df[listNL]\n",
        "\n",
        "from sklearn.cluster import KMeans\n",
        "from sklearn import metrics\n",
        "from scipy.spatial.distance import cdist\n",
        "import numpy as np\n",
        "import matplotlib.pyplot as plt\n",
        "\n",
        "# create new plot and data\n",
        "plt.plot()\n",
        "# X = np.array(list(zip(x1, x2))).reshape(len(x1), 2)\n",
        "X=nlValues.values\n",
        "colors = ['b', 'g', 'r']\n",
        "markers = ['o', 'v', 's']\n",
        "\n",
        "# k means determine k\n",
        "distortions = []\n",
        "K = range(1,10)\n",
        "for k in K:\n",
        "    print(k)\n",
        "    kmeanModel = KMeans(n_clusters=k).fit(X)\n",
        "    kmeanModel.fit(X)\n",
        "    distortions.append(sum(np.min(cdist(X, kmeanModel.cluster_centers_, 'euclidean'), axis=1)) / X.shape[0])\n",
        "\n",
        "# Plot the elbow\n",
        "plt.plot(K, distortions, 'bx-')\n",
        "plt.xlabel('k')\n",
        "plt.ylabel('Distortion')\n",
        "plt.title('The Elbow Method showing the optimal k')\n",
        "plt.show()"
      ],
      "execution_count": 6,
      "outputs": [
        {
          "output_type": "stream",
          "text": [
            "1\n",
            "2\n",
            "3\n",
            "4\n",
            "5\n",
            "6\n",
            "7\n",
            "8\n",
            "9\n"
          ],
          "name": "stdout"
        },
        {
          "output_type": "display_data",
          "data": {
            "image/png": "[encoded data removed]",
            "text/plain": [
              "<matplotlib.figure.Figure at 0x7f4ffd421850>"
            ]
          },
          "metadata": {
            "tags": []
          }
        }
      ]
    },
    {
      "metadata": {
        "id": "Spkn_EcLcDHu",
        "colab_type": "code",
        "colab": {
          "autoexec": {
            "startup": false,
            "wait_interval": 0
          },
          "base_uri": "https://localhost:8080/",
          "height": 580
        },
        "outputId": "d4a6380f-0fe7-44c0-f86f-39ef73204cfd",
        "executionInfo": {
          "status": "ok",
          "timestamp": 1525965562035,
          "user_tz": -330,
          "elapsed": 221086,
          "user": {
            "displayName": "ayush gupta",
            "photoUrl": "//lh3.googleusercontent.com/-H_gav6iJTDo/AAAAAAAAAAI/AAAAAAAA9Yk/99uj7UZOMbk/s50-c-k-no/photo.jpg",
            "userId": "116069087946857344241"
          }
        }
      },
      "cell_type": "code",
      "source": [
        "# clustering dataset Normalized DN0 to DN63\n",
        "# determine k using elbow method\n",
        "listNL=[\"B\"+str(x) for x in range(1,65)]\n",
        "nlValues = df[listNL]\n",
        "nlValues[\"sum\"] = nlValues.sum(axis=1)\n",
        "nlValues[\"sum\"]+=1;\n",
        "nlValues_new = nlValues.loc[:,\"B1\":\"B64\"].div(nlValues[\"sum\"], axis=0)\n",
        "\n",
        "from sklearn.cluster import KMeans\n",
        "from sklearn import metrics\n",
        "from scipy.spatial.distance import cdist\n",
        "import numpy as np\n",
        "import matplotlib.pyplot as plt\n",
        "\n",
        "# create new plot and data\n",
        "plt.plot()\n",
        "# X = np.array(list(zip(x1, x2))).reshape(len(x1), 2)\n",
        "X=nlValues_new.values\n",
        "colors = ['b', 'g', 'r']\n",
        "markers = ['o', 'v', 's']\n",
        "\n",
        "# k means determine k\n",
        "distortions = []\n",
        "K = range(1,10)\n",
        "for k in K:\n",
        "    kmeanModel = KMeans(n_clusters=k).fit(X)\n",
        "    kmeanModel.fit(X)\n",
        "    distortions.append(sum(np.min(cdist(X, kmeanModel.cluster_centers_, 'euclidean'), axis=1)) / X.shape[0])\n",
        "\n",
        "# Plot the elbow\n",
        "plt.plot(K, distortions, 'bx-')\n",
        "plt.xlabel('k')\n",
        "plt.ylabel('Distortion')\n",
        "plt.title('The Elbow Method showing the optimal k')\n",
        "plt.show()"
      ],
      "execution_count": 7,
      "outputs": [
        {
          "output_type": "stream",
          "text": [
            "/usr/local/lib/python2.7/dist-packages/ipykernel_launcher.py:3: SettingWithCopyWarning: \n",
            "A value is trying to be set on a copy of a slice from a DataFrame.\n",
            "Try using .loc[row_indexer,col_indexer] = value instead\n",
            "\n",
            "See the caveats in the documentation: http://pandas.pydata.org/pandas-docs/stable/indexing.html#indexing-view-versus-copy\n",
            "  This is separate from the ipykernel package so we can avoid doing imports until\n",
            "/usr/local/lib/python2.7/dist-packages/ipykernel_launcher.py:4: SettingWithCopyWarning: \n",
            "A value is trying to be set on a copy of a slice from a DataFrame.\n",
            "Try using .loc[row_indexer,col_indexer] = value instead\n",
            "\n",
            "See the caveats in the documentation: http://pandas.pydata.org/pandas-docs/stable/indexing.html#indexing-view-versus-copy\n",
            "  after removing the cwd from sys.path.\n"
          ],
          "name": "stderr"
        },
        {
          "output_type": "display_data",
          "data": {
            "image/png": "[encoded data removed]",
            "text/plain": [
              "<matplotlib.figure.Figure at 0x7f4ffd40ca50>"
            ]
          },
          "metadata": {
            "tags": []
          }
        }
      ]
    },
    {
      "metadata": {
        "id": "PyzHjmBMY1Hh",
        "colab_type": "code",
        "colab": {
          "autoexec": {
            "startup": false,
            "wait_interval": 0
          },
          "base_uri": "https://localhost:8080/",
          "height": 4920
        },
        "outputId": "edbc7651-6194-4a8b-db9c-7a854508ed92",
        "executionInfo": {
          "status": "ok",
          "timestamp": 1525981037738,
          "user_tz": -330,
          "elapsed": 12740,
          "user": {
            "displayName": "ayush gupta",
            "photoUrl": "//lh3.googleusercontent.com/-H_gav6iJTDo/AAAAAAAAAAI/AAAAAAAA9Yk/99uj7UZOMbk/s50-c-k-no/photo.jpg",
            "userId": "116069087946857344241"
          }
        }
      },
      "cell_type": "code",
      "source": [
        "########### Taking a 63 length vector from DN1 to DN63 and normalizing it\n",
        "listNL=[\"B\"+str(x) for x in range(1,65)]\n",
        "nlValues = df[listNL]\n",
        "nlValues[\"sum\"] = nlValues.sum(axis=1)\n",
        "nlValues[\"sum\"]+=1;\n",
        "nlValues_new = nlValues.loc[:,\"B1\":\"B64\"].div(nlValues[\"sum\"], axis=0)\n",
        "# nlValues_new.drop('sum', axis = 1, inplace = True)\n",
        "print(nlValues_new)\n",
        "from sklearn.cluster import KMeans\n",
        "kmeans = KMeans(n_clusters=4)\n",
        "kmeans.fit(nlValues_new)\n",
        "labelsUnordered = kmeans.predict(nlValues_new)\n",
        "centroids = kmeans.cluster_centers_\n",
        "print(\"centroids\")\n",
        "print(centroids)\n",
        "t = [x for x in range(64)]\n",
        "plt.plot(t, centroids[0], 'r')\n",
        "plt.plot(t, centroids[1], 'g')\n",
        "plt.plot(t, centroids[2], 'b')\n",
        "plt.plot(t, centroids[3], 'y')\n",
        "plt.show()\n",
        "print(\"centroids\")\n",
        "from collections import Counter\n",
        "temp=Counter(labelsUnordered)\n",
        "print(temp)"
      ],
      "execution_count": 93,
      "outputs": [
        {
          "output_type": "stream",
          "text": [
            "/usr/local/lib/python2.7/dist-packages/ipykernel_launcher.py:3: SettingWithCopyWarning: \n",
            "A value is trying to be set on a copy of a slice from a DataFrame.\n",
            "Try using .loc[row_indexer,col_indexer] = value instead\n",
            "\n",
            "See the caveats in the documentation: http://pandas.pydata.org/pandas-docs/stable/indexing.html#indexing-view-versus-copy\n",
            "  This is separate from the ipykernel package so we can avoid doing imports until\n",
            "/usr/local/lib/python2.7/dist-packages/ipykernel_launcher.py:4: SettingWithCopyWarning: \n",
            "A value is trying to be set on a copy of a slice from a DataFrame.\n",
            "Try using .loc[row_indexer,col_indexer] = value instead\n",
            "\n",
            "See the caveats in the documentation: http://pandas.pydata.org/pandas-docs/stable/indexing.html#indexing-view-versus-copy\n",
            "  after removing the cwd from sys.path.\n"
          ],
          "name": "stderr"
        },
        {
          "output_type": "stream",
          "text": [
            "              B1   B2   B3   B4        B5        B6        B7        B8  \\\n",
            "0       0.000000  0.0  0.0  0.0  0.000000  0.000000  0.000000  0.280435   \n",
            "1       0.998285  0.0  0.0  0.0  0.000000  0.000000  0.000000  0.000000   \n",
            "2       0.000000  0.0  0.0  0.0  0.000000  0.000000  0.302250  0.697424   \n",
            "3       0.999772  0.0  0.0  0.0  0.000000  0.000000  0.000000  0.000000   \n",
            "4       0.997222  0.0  0.0  0.0  0.000000  0.000000  0.000000  0.000000   \n",
            "5       0.605938  0.0  0.0  0.0  0.000000  0.393773  0.000000  0.000000   \n",
            "6       0.998675  0.0  0.0  0.0  0.000000  0.000000  0.000000  0.000000   \n",
            "7       0.000000  0.0  0.0  0.0  0.000000  0.000000  0.874567  0.111804   \n",
            "8       0.999611  0.0  0.0  0.0  0.000000  0.000000  0.000000  0.000000   \n",
            "9       0.999850  0.0  0.0  0.0  0.000000  0.000000  0.000000  0.000000   \n",
            "10      0.686772  0.0  0.0  0.0  0.000000  0.291295  0.021247  0.000000   \n",
            "11      0.001082  0.0  0.0  0.0  0.000000  0.000000  0.997835  0.000000   \n",
            "12      0.999670  0.0  0.0  0.0  0.000000  0.000000  0.000000  0.000000   \n",
            "13      0.000000  0.0  0.0  0.0  0.000000  0.000000  0.997462  0.000000   \n",
            "14      0.999770  0.0  0.0  0.0  0.000000  0.000000  0.000000  0.000000   \n",
            "15      0.167939  0.0  0.0  0.0  0.000000  0.826718  0.004580  0.000000   \n",
            "16      0.253540  0.0  0.0  0.0  0.000000  0.240238  0.432710  0.073462   \n",
            "17      0.422485  0.0  0.0  0.0  0.000000  0.515385  0.061538  0.000000   \n",
            "18      0.999153  0.0  0.0  0.0  0.000000  0.000000  0.000000  0.000000   \n",
            "19      0.573164  0.0  0.0  0.0  0.000000  0.313406  0.113312  0.000000   \n",
            "20      0.493374  0.0  0.0  0.0  0.000000  0.087866  0.153207  0.183407   \n",
            "21      0.999576  0.0  0.0  0.0  0.000000  0.000000  0.000000  0.000000   \n",
            "22      0.999481  0.0  0.0  0.0  0.000000  0.000000  0.000000  0.000000   \n",
            "23      0.000000  0.0  0.0  0.0  0.000000  0.205008  0.793427  0.000000   \n",
            "24      0.000000  0.0  0.0  0.0  0.000000  0.000000  0.989362  0.000000   \n",
            "25      0.000000  0.0  0.0  0.0  0.000000  0.548798  0.378004  0.072833   \n",
            "26      0.000000  0.0  0.0  0.0  0.000000  0.000000  0.000000  0.000000   \n",
            "27      0.995283  0.0  0.0  0.0  0.000000  0.000000  0.000000  0.000000   \n",
            "28      0.000000  0.0  0.0  0.0  0.000000  0.000000  0.000000  0.000000   \n",
            "29      0.999641  0.0  0.0  0.0  0.000000  0.000000  0.000000  0.000000   \n",
            "...          ...  ...  ...  ...       ...       ...       ...       ...   \n",
            "178730  0.999530  0.0  0.0  0.0  0.000000  0.000000  0.000000  0.000000   \n",
            "178731  0.999491  0.0  0.0  0.0  0.000000  0.000000  0.000000  0.000000   \n",
            "178732  0.000000  0.0  0.0  0.0  0.000000  0.000000  0.997727  0.000000   \n",
            "178733  0.066038  0.0  0.0  0.0  0.000000  0.932914  0.000000  0.000000   \n",
            "178734  0.976190  0.0  0.0  0.0  0.000000  0.000000  0.000000  0.000000   \n",
            "178735  0.999945  0.0  0.0  0.0  0.000000  0.000000  0.000000  0.000000   \n",
            "178736  0.999789  0.0  0.0  0.0  0.000000  0.000000  0.000000  0.000000   \n",
            "178737  0.000000  0.0  0.0  0.0  0.000000  0.000000  0.000000  0.000000   \n",
            "178738  0.999851  0.0  0.0  0.0  0.000000  0.000000  0.000000  0.000000   \n",
            "178739  0.999847  0.0  0.0  0.0  0.000000  0.000000  0.000000  0.000000   \n",
            "178740  0.000000  0.0  0.0  0.0  0.000000  0.139138  0.285105  0.420828   \n",
            "178741  0.999038  0.0  0.0  0.0  0.000000  0.000000  0.000000  0.000000   \n",
            "178742  0.567625  0.0  0.0  0.0  0.000000  0.432164  0.000000  0.000000   \n",
            "178743  0.995633  0.0  0.0  0.0  0.000000  0.000000  0.000000  0.000000   \n",
            "178744  0.999537  0.0  0.0  0.0  0.000000  0.000000  0.000000  0.000000   \n",
            "178745  0.181734  0.0  0.0  0.0  0.000000  0.811486  0.006647  0.000000   \n",
            "178746  0.999528  0.0  0.0  0.0  0.000000  0.000000  0.000000  0.000000   \n",
            "178747  0.945402  0.0  0.0  0.0  0.054405  0.000000  0.000000  0.000000   \n",
            "178748  0.119608  0.0  0.0  0.0  0.000000  0.847059  0.032353  0.000000   \n",
            "178749  0.999184  0.0  0.0  0.0  0.000000  0.000000  0.000000  0.000000   \n",
            "178750  0.999905  0.0  0.0  0.0  0.000000  0.000000  0.000000  0.000000   \n",
            "178751  0.524590  0.0  0.0  0.0  0.000000  0.474824  0.000000  0.000000   \n",
            "178752  0.240184  0.0  0.0  0.0  0.000000  0.681795  0.077511  0.000000   \n",
            "178753  0.000000  0.0  0.0  0.0  0.000000  0.000000  0.000000  0.095492   \n",
            "178754  0.999322  0.0  0.0  0.0  0.000000  0.000000  0.000000  0.000000   \n",
            "178755  0.998901  0.0  0.0  0.0  0.000000  0.000000  0.000000  0.000000   \n",
            "178756  0.999505  0.0  0.0  0.0  0.000000  0.000000  0.000000  0.000000   \n",
            "178757  0.998211  0.0  0.0  0.0  0.000000  0.000000  0.000000  0.000000   \n",
            "178758  0.999552  0.0  0.0  0.0  0.000000  0.000000  0.000000  0.000000   \n",
            "178759  0.000000  0.0  0.0  0.0  0.000000  0.000000  0.000000  0.000000   \n",
            "\n",
            "              B9       B10 ...   B55  B56  B57  B58  B59  B60  B61  B62  B63  \\\n",
            "0       0.019565  0.482609 ...   0.0  0.0  0.0  0.0  0.0  0.0  0.0  0.0  0.0   \n",
            "1       0.000000  0.000000 ...   0.0  0.0  0.0  0.0  0.0  0.0  0.0  0.0  0.0   \n",
            "2       0.000000  0.000000 ...   0.0  0.0  0.0  0.0  0.0  0.0  0.0  0.0  0.0   \n",
            "3       0.000000  0.000000 ...   0.0  0.0  0.0  0.0  0.0  0.0  0.0  0.0  0.0   \n",
            "4       0.000000  0.000000 ...   0.0  0.0  0.0  0.0  0.0  0.0  0.0  0.0  0.0   \n",
            "5       0.000000  0.000000 ...   0.0  0.0  0.0  0.0  0.0  0.0  0.0  0.0  0.0   \n",
            "6       0.000000  0.000000 ...   0.0  0.0  0.0  0.0  0.0  0.0  0.0  0.0  0.0   \n",
            "7       0.013398  0.000000 ...   0.0  0.0  0.0  0.0  0.0  0.0  0.0  0.0  0.0   \n",
            "8       0.000000  0.000000 ...   0.0  0.0  0.0  0.0  0.0  0.0  0.0  0.0  0.0   \n",
            "9       0.000000  0.000000 ...   0.0  0.0  0.0  0.0  0.0  0.0  0.0  0.0  0.0   \n",
            "10      0.000000  0.000000 ...   0.0  0.0  0.0  0.0  0.0  0.0  0.0  0.0  0.0   \n",
            "11      0.000000  0.000000 ...   0.0  0.0  0.0  0.0  0.0  0.0  0.0  0.0  0.0   \n",
            "12      0.000000  0.000000 ...   0.0  0.0  0.0  0.0  0.0  0.0  0.0  0.0  0.0   \n",
            "13      0.000000  0.000000 ...   0.0  0.0  0.0  0.0  0.0  0.0  0.0  0.0  0.0   \n",
            "14      0.000000  0.000000 ...   0.0  0.0  0.0  0.0  0.0  0.0  0.0  0.0  0.0   \n",
            "15      0.000000  0.000000 ...   0.0  0.0  0.0  0.0  0.0  0.0  0.0  0.0  0.0   \n",
            "16      0.000000  0.000000 ...   0.0  0.0  0.0  0.0  0.0  0.0  0.0  0.0  0.0   \n",
            "17      0.000000  0.000000 ...   0.0  0.0  0.0  0.0  0.0  0.0  0.0  0.0  0.0   \n",
            "18      0.000000  0.000000 ...   0.0  0.0  0.0  0.0  0.0  0.0  0.0  0.0  0.0   \n",
            "19      0.000000  0.000000 ...   0.0  0.0  0.0  0.0  0.0  0.0  0.0  0.0  0.0   \n",
            "20      0.082110  0.000000 ...   0.0  0.0  0.0  0.0  0.0  0.0  0.0  0.0  0.0   \n",
            "21      0.000000  0.000000 ...   0.0  0.0  0.0  0.0  0.0  0.0  0.0  0.0  0.0   \n",
            "22      0.000000  0.000000 ...   0.0  0.0  0.0  0.0  0.0  0.0  0.0  0.0  0.0   \n",
            "23      0.000000  0.000000 ...   0.0  0.0  0.0  0.0  0.0  0.0  0.0  0.0  0.0   \n",
            "24      0.000000  0.000000 ...   0.0  0.0  0.0  0.0  0.0  0.0  0.0  0.0  0.0   \n",
            "25      0.000000  0.000000 ...   0.0  0.0  0.0  0.0  0.0  0.0  0.0  0.0  0.0   \n",
            "26      0.000000  0.000000 ...   0.0  0.0  0.0  0.0  0.0  0.0  0.0  0.0  0.0   \n",
            "27      0.000000  0.000000 ...   0.0  0.0  0.0  0.0  0.0  0.0  0.0  0.0  0.0   \n",
            "28      0.381144  0.618050 ...   0.0  0.0  0.0  0.0  0.0  0.0  0.0  0.0  0.0   \n",
            "29      0.000000  0.000000 ...   0.0  0.0  0.0  0.0  0.0  0.0  0.0  0.0  0.0   \n",
            "...          ...       ... ...   ...  ...  ...  ...  ...  ...  ...  ...  ...   \n",
            "178730  0.000000  0.000000 ...   0.0  0.0  0.0  0.0  0.0  0.0  0.0  0.0  0.0   \n",
            "178731  0.000000  0.000000 ...   0.0  0.0  0.0  0.0  0.0  0.0  0.0  0.0  0.0   \n",
            "178732  0.000000  0.000000 ...   0.0  0.0  0.0  0.0  0.0  0.0  0.0  0.0  0.0   \n",
            "178733  0.000000  0.000000 ...   0.0  0.0  0.0  0.0  0.0  0.0  0.0  0.0  0.0   \n",
            "178734  0.000000  0.000000 ...   0.0  0.0  0.0  0.0  0.0  0.0  0.0  0.0  0.0   \n",
            "178735  0.000000  0.000000 ...   0.0  0.0  0.0  0.0  0.0  0.0  0.0  0.0  0.0   \n",
            "178736  0.000000  0.000000 ...   0.0  0.0  0.0  0.0  0.0  0.0  0.0  0.0  0.0   \n",
            "178737  0.000000  0.000000 ...   0.0  0.0  0.0  0.0  0.0  0.0  0.0  0.0  0.0   \n",
            "178738  0.000000  0.000000 ...   0.0  0.0  0.0  0.0  0.0  0.0  0.0  0.0  0.0   \n",
            "178739  0.000000  0.000000 ...   0.0  0.0  0.0  0.0  0.0  0.0  0.0  0.0  0.0   \n",
            "178740  0.142552  0.011950 ...   0.0  0.0  0.0  0.0  0.0  0.0  0.0  0.0  0.0   \n",
            "178741  0.000000  0.000000 ...   0.0  0.0  0.0  0.0  0.0  0.0  0.0  0.0  0.0   \n",
            "178742  0.000000  0.000000 ...   0.0  0.0  0.0  0.0  0.0  0.0  0.0  0.0  0.0   \n",
            "178743  0.000000  0.000000 ...   0.0  0.0  0.0  0.0  0.0  0.0  0.0  0.0  0.0   \n",
            "178744  0.000000  0.000000 ...   0.0  0.0  0.0  0.0  0.0  0.0  0.0  0.0  0.0   \n",
            "178745  0.000000  0.000000 ...   0.0  0.0  0.0  0.0  0.0  0.0  0.0  0.0  0.0   \n",
            "178746  0.000000  0.000000 ...   0.0  0.0  0.0  0.0  0.0  0.0  0.0  0.0  0.0   \n",
            "178747  0.000000  0.000000 ...   0.0  0.0  0.0  0.0  0.0  0.0  0.0  0.0  0.0   \n",
            "178748  0.000000  0.000000 ...   0.0  0.0  0.0  0.0  0.0  0.0  0.0  0.0  0.0   \n",
            "178749  0.000000  0.000000 ...   0.0  0.0  0.0  0.0  0.0  0.0  0.0  0.0  0.0   \n",
            "178750  0.000000  0.000000 ...   0.0  0.0  0.0  0.0  0.0  0.0  0.0  0.0  0.0   \n",
            "178751  0.000000  0.000000 ...   0.0  0.0  0.0  0.0  0.0  0.0  0.0  0.0  0.0   \n",
            "178752  0.000000  0.000000 ...   0.0  0.0  0.0  0.0  0.0  0.0  0.0  0.0  0.0   \n",
            "178753  0.620403  0.283511 ...   0.0  0.0  0.0  0.0  0.0  0.0  0.0  0.0  0.0   \n",
            "178754  0.000000  0.000000 ...   0.0  0.0  0.0  0.0  0.0  0.0  0.0  0.0  0.0   \n",
            "178755  0.000000  0.000000 ...   0.0  0.0  0.0  0.0  0.0  0.0  0.0  0.0  0.0   \n",
            "178756  0.000000  0.000000 ...   0.0  0.0  0.0  0.0  0.0  0.0  0.0  0.0  0.0   \n",
            "178757  0.000000  0.000000 ...   0.0  0.0  0.0  0.0  0.0  0.0  0.0  0.0  0.0   \n",
            "178758  0.000000  0.000000 ...   0.0  0.0  0.0  0.0  0.0  0.0  0.0  0.0  0.0   \n",
            "178759  0.000000  0.000000 ...   0.0  0.0  0.0  0.0  0.0  0.0  0.0  0.0  0.0   \n",
            "\n",
            "        B64  \n",
            "0       0.0  \n",
            "1       0.0  \n",
            "2       0.0  \n",
            "3       0.0  \n",
            "4       0.0  \n",
            "5       0.0  \n",
            "6       0.0  \n",
            "7       0.0  \n",
            "8       0.0  \n",
            "9       0.0  \n",
            "10      0.0  \n",
            "11      0.0  \n",
            "12      0.0  \n",
            "13      0.0  \n",
            "14      0.0  \n",
            "15      0.0  \n",
            "16      0.0  \n",
            "17      0.0  \n",
            "18      0.0  \n",
            "19      0.0  \n",
            "20      0.0  \n",
            "21      0.0  \n",
            "22      0.0  \n",
            "23      0.0  \n",
            "24      0.0  \n",
            "25      0.0  \n",
            "26      0.0  \n",
            "27      0.0  \n",
            "28      0.0  \n",
            "29      0.0  \n",
            "...     ...  \n",
            "178730  0.0  \n",
            "178731  0.0  \n",
            "178732  0.0  \n",
            "178733  0.0  \n",
            "178734  0.0  \n",
            "178735  0.0  \n",
            "178736  0.0  \n",
            "178737  0.0  \n",
            "178738  0.0  \n",
            "178739  0.0  \n",
            "178740  0.0  \n",
            "178741  0.0  \n",
            "178742  0.0  \n",
            "178743  0.0  \n",
            "178744  0.0  \n",
            "178745  0.0  \n",
            "178746  0.0  \n",
            "178747  0.0  \n",
            "178748  0.0  \n",
            "178749  0.0  \n",
            "178750  0.0  \n",
            "178751  0.0  \n",
            "178752  0.0  \n",
            "178753  0.0  \n",
            "178754  0.0  \n",
            "178755  0.0  \n",
            "178756  0.0  \n",
            "178757  0.0  \n",
            "178758  0.0  \n",
            "178759  0.0  \n",
            "\n",
            "[178760 rows x 64 columns]\n",
            "centroids\n",
            "[[ 9.50244879e-01  0.00000000e+00  0.00000000e+00  0.00000000e+00\n",
            "   4.01240896e-03  3.11493661e-02  1.06724427e-02  1.80837670e-03\n",
            "   4.81462805e-04  1.87624879e-04  1.12060956e-04  4.48342876e-05\n",
            "   3.01796119e-05  1.72859216e-05  9.20701884e-06  1.19621898e-05\n",
            "   4.38738840e-06  6.05119746e-06  3.16111181e-06  5.16127947e-06\n",
            "   2.69661719e-06  1.99482518e-06  1.02505653e-06  3.88067860e-07\n",
            "   1.59087308e-06  2.41777084e-16  2.59640046e-07  3.03425616e-07\n",
            "   1.85565281e-08  2.08959267e-07  4.97905041e-07  1.59316784e-07\n",
            "   2.65195911e-07 -9.09320362e-16  6.04340872e-07  9.94716133e-08\n",
            "   1.75198086e-07  6.66025395e-16  4.52329146e-16  3.25802753e-17\n",
            "  -4.14273650e-16  5.12285526e-16  6.95976124e-08  3.79163733e-08\n",
            "  -2.38687108e-16  6.32031259e-09 -4.09991052e-16  6.12682648e-16\n",
            "   3.42174206e-16 -5.84656022e-16 -2.14292559e-16 -5.14399721e-16\n",
            "   2.22315655e-16 -7.64362532e-18  9.44340092e-17 -5.47034206e-16\n",
            "  -4.15195222e-16 -3.07262896e-16  5.35107982e-16  3.58816709e-16\n",
            "  -3.14093369e-16 -7.84962373e-17  3.47920477e-16 -4.64689051e-16]\n",
            " [ 3.46341300e-02  0.00000000e+00  0.00000000e+00  0.00000000e+00\n",
            "   7.91435196e-04  1.21872509e-01  7.11198237e-01  1.12114161e-01\n",
            "   1.32325724e-02  2.98819401e-03  1.17041595e-03  5.17465011e-04\n",
            "   2.36275881e-04  1.27556164e-04  8.49981233e-05  5.01842071e-05\n",
            "   3.09119527e-05  2.84455295e-05  1.73294032e-05  1.46920056e-05\n",
            "   1.25106053e-05  3.94917096e-06  5.37493171e-06  6.86543153e-06\n",
            "   1.28220133e-06  8.22961107e-07  6.53610836e-07  8.81308446e-09\n",
            "   1.40083164e-07  6.74799339e-07  2.89638335e-06  9.47947308e-07\n",
            "  -3.05636592e-16  5.74627151e-17 -2.20851983e-16  2.95119831e-16\n",
            "   1.74323163e-06  3.67978217e-16  2.32778206e-16  1.20183811e-16\n",
            "   6.01696077e-07  1.19964327e-07 -2.02745806e-16 -3.09214460e-16\n",
            "  -1.62034015e-16  2.00685822e-16 -6.04984812e-17 -1.17039625e-16\n",
            "   1.84693840e-16 -9.77408258e-17 -1.25171141e-16  4.77982865e-07\n",
            "  -1.76562324e-16  1.12466557e-08  6.33716170e-17  2.11419424e-17\n",
            "   7.63820431e-17  1.10751252e-16  4.54822811e-17  2.24809320e-16\n",
            "   9.21029746e-17 -7.25873354e-17  9.33498071e-17  4.07117916e-17]\n",
            " [ 1.31221920e-01  0.00000000e+00  0.00000000e+00  0.00000000e+00\n",
            "   2.80389087e-02  7.01257953e-01  1.23658560e-01  1.12744297e-02\n",
            "   2.31154278e-03  7.49532506e-04  4.04798823e-04  1.38536286e-04\n",
            "   1.10505697e-04  6.43421382e-05  4.29953588e-05  3.13892372e-05\n",
            "   1.52207393e-05  1.66391284e-05  6.24548078e-06  6.96795931e-06\n",
            "   8.65301476e-07  1.41591583e-06  4.13042073e-08  4.36348705e-06\n",
            "   1.86137280e-06  4.19078174e-06  3.99163934e-07  1.42689854e-07\n",
            "   1.42954743e-06 -2.88831459e-16  7.10152423e-16 -2.30935063e-16\n",
            "  -3.09648140e-16  1.07878116e-16 -2.24755110e-16  3.09322880e-16\n",
            "   8.05958938e-07  3.46043481e-08  2.49800181e-16  1.41054703e-16\n",
            "  -2.58799059e-16  1.89626960e-16 -2.32778206e-16 -3.36102673e-16\n",
            "  -1.67942917e-16  2.07028405e-16 -3.27429056e-17 -1.18774348e-16\n",
            "   1.53577238e-16 -1.35308431e-16 -1.32055825e-16 -6.32631968e-17\n",
            "  -1.45770982e-16  3.84891771e-17  6.57568618e-17  2.11961525e-17\n",
            "   8.39714583e-17  7.84962373e-17  8.32667268e-17  2.35163451e-16\n",
            "   6.07695318e-17 -7.30210163e-17  1.12973866e-16  6.55400213e-17]\n",
            " [ 1.09409565e-02  0.00000000e+00  0.00000000e+00  0.00000000e+00\n",
            "   4.59626897e-03  1.40518345e-02  5.83551267e-02  2.18440471e-01\n",
            "   1.59956687e-01  1.07928371e-01  7.35440542e-02  5.38551188e-02\n",
            "   4.05910025e-02  3.17591148e-02  2.52169931e-02  2.06677157e-02\n",
            "   1.71190278e-02  1.43583128e-02  1.21313078e-02  1.04129647e-02\n",
            "   8.95955848e-03  8.61101938e-03  7.14160720e-03  6.15816847e-03\n",
            "   6.02616423e-03  5.24319289e-03  4.69155970e-03  4.35405889e-03\n",
            "   3.90739188e-03  3.81453705e-03  3.42382266e-03  3.44832710e-03\n",
            "   2.80825142e-03  2.82155110e-03  2.39134673e-03  2.62177398e-03\n",
            "   2.06215079e-03  2.01477308e-03  2.19181842e-03  1.70640823e-03\n",
            "   2.10411489e-03  1.62319413e-03  1.53018230e-03  1.72651208e-03\n",
            "   1.56730440e-03  1.49332316e-03  1.27712227e-03  1.33098925e-03\n",
            "   1.12122818e-03  1.23479911e-03  1.29322030e-03  1.21423405e-03\n",
            "   1.13400598e-03  1.04927171e-03  9.09629995e-04  1.12849799e-03\n",
            "   1.14884511e-03  1.10403547e-03  1.21592222e-03  1.12395110e-03\n",
            "   1.13620411e-03  1.29229461e-03  1.78484213e-03  1.43554200e-03]]\n"
          ],
          "name": "stdout"
        },
        {
          "output_type": "display_data",
          "data": {
            "image/png": "[encoded data removed]",
            "text/plain": [
              "<matplotlib.figure.Figure at 0x7f4ff4d23790>"
            ]
          },
          "metadata": {
            "tags": []
          }
        },
        {
          "output_type": "stream",
          "text": [
            "centroids\n",
            "Counter({0: 73590, 3: 50660, 2: 27949, 1: 26561})\n"
          ],
          "name": "stdout"
        }
      ]
    },
    {
      "metadata": {
        "id": "Sl-nfYlF1GWR",
        "colab_type": "code",
        "colab": {
          "autoexec": {
            "startup": false,
            "wait_interval": 0
          },
          "base_uri": "https://localhost:8080/",
          "height": 865
        },
        "outputId": "2677c36c-d661-44d6-a275-b563bf5c8025",
        "executionInfo": {
          "status": "ok",
          "timestamp": 1525981151426,
          "user_tz": -330,
          "elapsed": 2106,
          "user": {
            "displayName": "ayush gupta",
            "photoUrl": "//lh3.googleusercontent.com/-H_gav6iJTDo/AAAAAAAAAAI/AAAAAAAA9Yk/99uj7UZOMbk/s50-c-k-no/photo.jpg",
            "userId": "116069087946857344241"
          }
        }
      },
      "cell_type": "code",
      "source": [
        "# using rgby\n",
        "dic = {0:0,1:2,2:1, 3:3}\n",
        "\n",
        "labels=[dic.get(n) for n in labelsUnordered]\n",
        "\n",
        "original_df= df.copy()\n",
        "print original_df.shape\n",
        "\n",
        "original_df[\"nlLabels\"] = labels\n",
        "\n",
        "print original_df.columns\n",
        "\n",
        "original_df = original_df.rename(columns={'village_2011': 'Town/Village'})\n",
        "\n",
        "print original_df.shape\n",
        "\n",
        "print len(labels)\n",
        "\n",
        "print df.shape\n",
        "\n",
        "print Counter(labels)\n",
        "\n",
        "print censusLabels.shape\n",
        "\n",
        "mergeDataFrame=pd.merge(original_df, censusLabels, on='Town/Village')\n",
        "\n",
        "print mergeDataFrame.shape\n",
        "\n",
        "print mergeDataFrame.columns\n",
        "\n",
        "\n",
        "\n",
        "mergeDataFrame.head()\n",
        "# print censusLabels.head()\n",
        "\n",
        "\n"
      ],
      "execution_count": 94,
      "outputs": [
        {
          "output_type": "stream",
          "text": [
            "(178760, 71)\n",
            "Index([u'tifImage', u'village_2001', u'village_id', u'village_2011', u'rowH',\n",
            "       u'colH', u'B0', u'B1', u'B2', u'B3', u'B4', u'B5', u'B6', u'B7', u'B8',\n",
            "       u'B9', u'B10', u'B11', u'B12', u'B13', u'B14', u'B15', u'B16', u'B17',\n",
            "       u'B18', u'B19', u'B20', u'B21', u'B22', u'B23', u'B24', u'B25', u'B26',\n",
            "       u'B27', u'B28', u'B29', u'B30', u'B31', u'B32', u'B33', u'B34', u'B35',\n",
            "       u'B36', u'B37', u'B38', u'B39', u'B40', u'B41', u'B42', u'B43', u'B44',\n",
            "       u'B45', u'B46', u'B47', u'B48', u'B49', u'B50', u'B51', u'B52', u'B53',\n",
            "       u'B54', u'B55', u'B56', u'B57', u'B58', u'B59', u'B60', u'B61', u'B62',\n",
            "       u'B63', u'B64', u'nlLabels'],\n",
            "      dtype='object')\n",
            "(178760, 72)\n",
            "178760\n",
            "(178760, 71)\n",
            "Counter({0: 73590, 3: 50660, 1: 27949, 2: 26561})\n",
            "(690391, 43)\n",
            "(166788, 114)\n",
            "Index([u'tifImage', u'village_2001', u'village_id', u'Town/Village', u'rowH',\n",
            "       u'colH', u'B0', u'B1', u'B2', u'B3',\n",
            "       ...\n",
            "       u'Village_HHD_Cluster_MSW', u'District_HHD_Cluster_MSW',\n",
            "       u'Village_HHD_Cluster_CHH', u'District_HHD_Cluster_CHH',\n",
            "       u'Village_HHD_Cluster_FC', u'District_HHD_Cluster_FC',\n",
            "       u'Village_HHD_Cluster_BF', u'District_HHD_Cluster_BF',\n",
            "       u'Village_HHD_Cluster_EMP', u'District_HHD_Cluster_EMP'],\n",
            "      dtype='object', length=114)\n"
          ],
          "name": "stdout"
        },
        {
          "output_type": "execute_result",
          "data": {
            "text/html": [
              "<div>\n",
              "<style scoped>\n",
              "    .dataframe tbody tr th:only-of-type {\n",
              "        vertical-align: middle;\n",
              "    }\n",
              "\n",
              "    .dataframe tbody tr th {\n",
              "        vertical-align: top;\n",
              "    }\n",
              "\n",
              "    .dataframe thead th {\n",
              "        text-align: right;\n",
              "    }\n",
              "</style>\n",
              "<table border=\"1\" class=\"dataframe\">\n",
              "  <thead>\n",
              "    <tr style=\"text-align: right;\">\n",
              "      <th></th>\n",
              "      <th>tifImage</th>\n",
              "      <th>village_2001</th>\n",
              "      <th>village_id</th>\n",
              "      <th>Town/Village</th>\n",
              "      <th>rowH</th>\n",
              "      <th>colH</th>\n",
              "      <th>B0</th>\n",
              "      <th>B1</th>\n",
              "      <th>B2</th>\n",
              "      <th>B3</th>\n",
              "      <th>...</th>\n",
              "      <th>Village_HHD_Cluster_MSW</th>\n",
              "      <th>District_HHD_Cluster_MSW</th>\n",
              "      <th>Village_HHD_Cluster_CHH</th>\n",
              "      <th>District_HHD_Cluster_CHH</th>\n",
              "      <th>Village_HHD_Cluster_FC</th>\n",
              "      <th>District_HHD_Cluster_FC</th>\n",
              "      <th>Village_HHD_Cluster_BF</th>\n",
              "      <th>District_HHD_Cluster_BF</th>\n",
              "      <th>Village_HHD_Cluster_EMP</th>\n",
              "      <th>District_HHD_Cluster_EMP</th>\n",
              "    </tr>\n",
              "  </thead>\n",
              "  <tbody>\n",
              "    <tr>\n",
              "      <th>0</th>\n",
              "      <td>bihar-0000000000-0000000000</td>\n",
              "      <td>1960500.0</td>\n",
              "      <td>BR-19290</td>\n",
              "      <td>235545</td>\n",
              "      <td>73</td>\n",
              "      <td>118</td>\n",
              "      <td>5548</td>\n",
              "      <td>0</td>\n",
              "      <td>0</td>\n",
              "      <td>0</td>\n",
              "      <td>...</td>\n",
              "      <td>2. Moderately-Developed</td>\n",
              "      <td>2. Moderately-Developed</td>\n",
              "      <td>4. Developed</td>\n",
              "      <td>3. Developed</td>\n",
              "      <td>1. Under-Developed</td>\n",
              "      <td>2. Moderately-Developed</td>\n",
              "      <td>1. Under-Developed</td>\n",
              "      <td>1. Under-Developed</td>\n",
              "      <td>1. High Unemployement</td>\n",
              "      <td>1. High Unemployement</td>\n",
              "    </tr>\n",
              "    <tr>\n",
              "      <th>1</th>\n",
              "      <td>bihar-0000000000-0000000000</td>\n",
              "      <td>8100.0</td>\n",
              "      <td>BR-153</td>\n",
              "      <td>216069</td>\n",
              "      <td>85</td>\n",
              "      <td>86</td>\n",
              "      <td>2920</td>\n",
              "      <td>4390</td>\n",
              "      <td>0</td>\n",
              "      <td>0</td>\n",
              "      <td>...</td>\n",
              "      <td>2. Moderately-Developed</td>\n",
              "      <td>2. Moderately-Developed</td>\n",
              "      <td>3. Developed-</td>\n",
              "      <td>3. Developed</td>\n",
              "      <td>1. Under-Developed</td>\n",
              "      <td>2. Moderately-Developed</td>\n",
              "      <td>1. Under-Developed</td>\n",
              "      <td>1. Under-Developed</td>\n",
              "      <td>2. High AL</td>\n",
              "      <td>1. High Unemployement</td>\n",
              "    </tr>\n",
              "    <tr>\n",
              "      <th>2</th>\n",
              "      <td>bihar-0000000000-0000009216</td>\n",
              "      <td>1151100.0</td>\n",
              "      <td>BR-11853</td>\n",
              "      <td>227454</td>\n",
              "      <td>19</td>\n",
              "      <td>28</td>\n",
              "      <td>173</td>\n",
              "      <td>359</td>\n",
              "      <td>0</td>\n",
              "      <td>0</td>\n",
              "      <td>...</td>\n",
              "      <td>2. Moderately-Developed</td>\n",
              "      <td>2. Moderately-Developed</td>\n",
              "      <td>1. Under-Developed</td>\n",
              "      <td>3. Developed</td>\n",
              "      <td>2. Moderately-Developed</td>\n",
              "      <td>2. Moderately-Developed</td>\n",
              "      <td>1. Under-Developed</td>\n",
              "      <td>1. Under-Developed</td>\n",
              "      <td>2. High AL</td>\n",
              "      <td>1. High Unemployement</td>\n",
              "    </tr>\n",
              "    <tr>\n",
              "      <th>3</th>\n",
              "      <td>bihar-0000000000-0000000000</td>\n",
              "      <td>3250900.0</td>\n",
              "      <td>BR-24116</td>\n",
              "      <td>248357</td>\n",
              "      <td>76</td>\n",
              "      <td>105</td>\n",
              "      <td>4512</td>\n",
              "      <td>2102</td>\n",
              "      <td>0</td>\n",
              "      <td>0</td>\n",
              "      <td>...</td>\n",
              "      <td>2. Moderately-Developed</td>\n",
              "      <td>2. Moderately-Developed</td>\n",
              "      <td>2. Under-Developed+</td>\n",
              "      <td>3. Developed</td>\n",
              "      <td>2. Moderately-Developed</td>\n",
              "      <td>2. Moderately-Developed</td>\n",
              "      <td>1. Under-Developed</td>\n",
              "      <td>1. Under-Developed</td>\n",
              "      <td>1. High Unemployement</td>\n",
              "      <td>1. High Unemployement</td>\n",
              "    </tr>\n",
              "    <tr>\n",
              "      <th>4</th>\n",
              "      <td>bihar-0000000000-0000000000</td>\n",
              "      <td>1944200.0</td>\n",
              "      <td>BR-18134</td>\n",
              "      <td>235382</td>\n",
              "      <td>55</td>\n",
              "      <td>34</td>\n",
              "      <td>1116</td>\n",
              "      <td>754</td>\n",
              "      <td>0</td>\n",
              "      <td>0</td>\n",
              "      <td>...</td>\n",
              "      <td>2. Moderately-Developed</td>\n",
              "      <td>2. Moderately-Developed</td>\n",
              "      <td>4. Developed</td>\n",
              "      <td>3. Developed</td>\n",
              "      <td>2. Moderately-Developed</td>\n",
              "      <td>2. Moderately-Developed</td>\n",
              "      <td>3. Developed</td>\n",
              "      <td>1. Under-Developed</td>\n",
              "      <td>1. High Unemployement</td>\n",
              "      <td>1. High Unemployement</td>\n",
              "    </tr>\n",
              "  </tbody>\n",
              "</table>\n",
              "<p>5 rows × 114 columns</p>\n",
              "</div>"
            ],
            "text/plain": [
              "                      tifImage  village_2001 village_id  Town/Village  rowH  \\\n",
              "0  bihar-0000000000-0000000000     1960500.0   BR-19290        235545    73   \n",
              "1  bihar-0000000000-0000000000        8100.0     BR-153        216069    85   \n",
              "2  bihar-0000000000-0000009216     1151100.0   BR-11853        227454    19   \n",
              "3  bihar-0000000000-0000000000     3250900.0   BR-24116        248357    76   \n",
              "4  bihar-0000000000-0000000000     1944200.0   BR-18134        235382    55   \n",
              "\n",
              "   colH    B0    B1  B2  B3            ...             \\\n",
              "0   118  5548     0   0   0            ...              \n",
              "1    86  2920  4390   0   0            ...              \n",
              "2    28   173   359   0   0            ...              \n",
              "3   105  4512  2102   0   0            ...              \n",
              "4    34  1116   754   0   0            ...              \n",
              "\n",
              "   Village_HHD_Cluster_MSW  District_HHD_Cluster_MSW  Village_HHD_Cluster_CHH  \\\n",
              "0  2. Moderately-Developed   2. Moderately-Developed             4. Developed   \n",
              "1  2. Moderately-Developed   2. Moderately-Developed            3. Developed-   \n",
              "2  2. Moderately-Developed   2. Moderately-Developed       1. Under-Developed   \n",
              "3  2. Moderately-Developed   2. Moderately-Developed      2. Under-Developed+   \n",
              "4  2. Moderately-Developed   2. Moderately-Developed             4. Developed   \n",
              "\n",
              "   District_HHD_Cluster_CHH   Village_HHD_Cluster_FC  District_HHD_Cluster_FC  \\\n",
              "0              3. Developed       1. Under-Developed  2. Moderately-Developed   \n",
              "1              3. Developed       1. Under-Developed  2. Moderately-Developed   \n",
              "2              3. Developed  2. Moderately-Developed  2. Moderately-Developed   \n",
              "3              3. Developed  2. Moderately-Developed  2. Moderately-Developed   \n",
              "4              3. Developed  2. Moderately-Developed  2. Moderately-Developed   \n",
              "\n",
              "   Village_HHD_Cluster_BF  District_HHD_Cluster_BF  Village_HHD_Cluster_EMP  \\\n",
              "0      1. Under-Developed       1. Under-Developed    1. High Unemployement   \n",
              "1      1. Under-Developed       1. Under-Developed               2. High AL   \n",
              "2      1. Under-Developed       1. Under-Developed               2. High AL   \n",
              "3      1. Under-Developed       1. Under-Developed    1. High Unemployement   \n",
              "4            3. Developed       1. Under-Developed    1. High Unemployement   \n",
              "\n",
              "   District_HHD_Cluster_EMP  \n",
              "0     1. High Unemployement  \n",
              "1     1. High Unemployement  \n",
              "2     1. High Unemployement  \n",
              "3     1. High Unemployement  \n",
              "4     1. High Unemployement  \n",
              "\n",
              "[5 rows x 114 columns]"
            ]
          },
          "metadata": {
            "tags": []
          },
          "execution_count": 94
        }
      ]
    },
    {
      "metadata": {
        "id": "YmVu6uWA96-x",
        "colab_type": "code",
        "colab": {
          "autoexec": {
            "startup": false,
            "wait_interval": 0
          },
          "base_uri": "https://localhost:8080/",
          "height": 1619
        },
        "outputId": "784dc603-5970-4821-feda-a23cf97bf8a3",
        "executionInfo": {
          "status": "ok",
          "timestamp": 1525981189052,
          "user_tz": -330,
          "elapsed": 3463,
          "user": {
            "displayName": "ayush gupta",
            "photoUrl": "//lh3.googleusercontent.com/-H_gav6iJTDo/AAAAAAAAAAI/AAAAAAAA9Yk/99uj7UZOMbk/s50-c-k-no/photo.jpg",
            "userId": "116069087946857344241"
          }
        }
      },
      "cell_type": "code",
      "source": [
        "msw=mergeDataFrame[\"Village_HHD_Cluster_MSW\"].tolist()\n",
        "mswDict={'1. Under-Developed':0,'2. Moderately-Developed':1,'3. Developed':2}\n",
        "mswList = [ mswDict.get(item) for item in msw ]\n",
        "\n",
        "\n",
        "msl=mergeDataFrame[\"Village_HHD_Cluster_MSL\"].tolist()\n",
        "mslDict={'1. Under-Developed':0,'2. Moderately-Developed':1,'3. Developed':2}\n",
        "mslList = [ mslDict.get(item) for item in msl ]\n",
        "\n",
        "emp=mergeDataFrame[\"Village_HHD_Cluster_EMP\"].tolist()\n",
        "empDict={'1. High Unemployement':0,'2. High AL':1,'3. High Non-AL':2}\n",
        "empList = [ empDict.get(item) for item in emp ]\n",
        "\n",
        "\n",
        "bf=mergeDataFrame[\"Village_HHD_Cluster_BF\"].tolist()\n",
        "fc=mergeDataFrame[\"Village_HHD_Cluster_FC\"].tolist()\n",
        "chh=mergeDataFrame[\"Village_HHD_Cluster_CHH\"].tolist()\n",
        "nightPredictions=mergeDataFrame[\"nlLabels\"].tolist()\n",
        "print \"msw\",Counter(msw)\n",
        "print \"msl\",Counter(msl)\n",
        "print \"emp\",Counter(emp)\n",
        "print \"bf\",Counter(bf)\n",
        "print \"fc\",Counter(fc)\n",
        "print \"chh\",Counter(chh)\n",
        "print Counter(nightPredictions)\n",
        "\n",
        "#plot MSL Labels \n",
        "cnf_matrix = confusion_matrix(mswList, nightPredictions)\n",
        "class_names=['1. Under-Developed','2. Moderately-Developed','3. Developed']\n",
        "# plt.figure()\n",
        "# plot_confusion_matrix(cnf_matrix, classes=class_names,title='Main Source of Water')\n",
        "# Plot normalized confusion matrix\n",
        "plt.figure()\n",
        "plot_confusion_matrix(cnf_matrix, classes=class_names, normalize=True,title='Main Source of Water')\n",
        "\n",
        "\n",
        "#plot MSL Labels \n",
        "cnf_matrix = confusion_matrix(mslList, nightPredictions)\n",
        "class_names=['1. Under-Developed','2. Moderately-Developed','3. Developed']\n",
        "# plt.figure()\n",
        "# plot_confusion_matrix(cnf_matrix, classes=class_names,title='Main Source of Lighting')\n",
        "# Plot normalized confusion matrix\n",
        "plt.figure()\n",
        "plot_confusion_matrix(cnf_matrix, classes=class_names, normalize=True,title='Main Source of Lighting')\n",
        "\n",
        "\n",
        "#plot Emp Labels \n",
        "cnf_matrix = confusion_matrix(empList, nightPredictions)\n",
        "class_names=['1. High Unemployement','2. High AL','3. High Non-AL']\n",
        "# plt.figure()\n",
        "# plot_confusion_matrix(cnf_matrix, classes=class_names,title='Employment Clusters')\n",
        "# Plot normalized confusion matrix\n",
        "plt.figure()\n",
        "plot_confusion_matrix(cnf_matrix, classes=class_names, normalize=True,title='Employment Clusters')\n",
        "\n",
        "\n"
      ],
      "execution_count": 95,
      "outputs": [
        {
          "output_type": "stream",
          "text": [
            "msw Counter({'2. Moderately-Developed': 87468, '3. Developed': 44420, '1. Under-Developed': 34900})\n",
            "msl Counter({'3. Developed': 69663, '1. Under-Developed': 60808, '2. Moderately-Developed': 36317})\n",
            "emp Counter({'1. High Unemployement': 75960, '2. High AL': 74926, '3. High Non-AL': 15902})\n",
            "bf Counter({'1. Under-Developed': 135201, '3. Developed': 17479, '2. Moderately-Developed': 14108})\n",
            "fc Counter({'1. Under-Developed': 114623, '2. Moderately-Developed': 42871, '3. Developed': 9294})\n",
            "chh Counter({'2. Under-Developed+': 56796, '3. Developed-': 55686, '1. Under-Developed': 41620, '4. Developed': 12686})\n",
            "Counter({0: 66796, 3: 48591, 1: 26354, 2: 25047})\n",
            "Normalized confusion matrix\n",
            "[[0.49117479 0.16363897 0.10467049 0.24051576]\n",
            " [0.49017927 0.13125943 0.14938034 0.22918096]\n",
            " [0.15261144 0.20625844 0.18748312 0.45364701]\n",
            " [       nan        nan        nan        nan]]\n"
          ],
          "name": "stdout"
        },
        {
          "output_type": "stream",
          "text": [
            "/usr/local/lib/python2.7/dist-packages/ipykernel_launcher.py:12: RuntimeWarning: invalid value encountered in divide\n",
            "  if sys.path[0] == '':\n"
          ],
          "name": "stderr"
        },
        {
          "output_type": "stream",
          "text": [
            "Normalized confusion matrix\n",
            "[[0.71442902 0.08535061 0.09546441 0.10475595]\n",
            " [0.32819341 0.21039733 0.17121458 0.29019467]\n",
            " [0.16413304 0.19412026 0.18695721 0.45478949]\n",
            " [       nan        nan        nan        nan]]\n",
            "Normalized confusion matrix\n",
            "[[0.44877567 0.13279358 0.14963138 0.26879937]\n",
            " [0.39441582 0.19762165 0.16546993 0.24249259]\n",
            " [0.19840272 0.09181235 0.08068168 0.62910326]\n",
            " [       nan        nan        nan        nan]]\n"
          ],
          "name": "stdout"
        },
        {
          "output_type": "display_data",
          "data": {
            "image/png": "[encoded data removed]",
            "text/plain": [
              "<matplotlib.figure.Figure at 0x7f4ff5a2fed0>"
            ]
          },
          "metadata": {
            "tags": []
          }
        },
        {
          "output_type": "display_data",
          "data": {
            "image/png": "[encoded data removed]",
            "text/plain": [
              "<matplotlib.figure.Figure at 0x7f4ff4432cd0>"
            ]
          },
          "metadata": {
            "tags": []
          }
        },
        {
          "output_type": "display_data",
          "data": {
            "image/png": "[encoded data removed]",
            "text/plain": [
              "<matplotlib.figure.Figure at 0x7f4ff5a25890>"
            ]
          },
          "metadata": {
            "tags": []
          }
        }
      ]
    },
    {
      "metadata": {
        "id": "aOkL40PNLnfe",
        "colab_type": "code",
        "colab": {
          "autoexec": {
            "startup": false,
            "wait_interval": 0
          },
          "base_uri": "https://localhost:8080/",
          "height": 306
        },
        "outputId": "5dcfe8ff-1629-4103-ae3a-ebb682fbba6c",
        "executionInfo": {
          "status": "ok",
          "timestamp": 1525975717495,
          "user_tz": -330,
          "elapsed": 1716,
          "user": {
            "displayName": "ayush gupta",
            "photoUrl": "//lh3.googleusercontent.com/-H_gav6iJTDo/AAAAAAAAAAI/AAAAAAAA9Yk/99uj7UZOMbk/s50-c-k-no/photo.jpg",
            "userId": "116069087946857344241"
          }
        }
      },
      "cell_type": "code",
      "source": [
        "##########Using Random Forest to classify Emp Labels\n",
        "listNL=[\"B\"+str(x) for x in range(1,65)]\n",
        "nlValues = mergeDataFrame[listNL]\n",
        "nlValues[\"sum\"] = nlValues.sum(axis=1)\n",
        "nlValues[\"sum\"]+=1;\n",
        "nlValues_new = nlValues.loc[:,\"B2\":\"B64\"].div(nlValues[\"sum\"], axis=0)\n",
        "trainDataRandomForest = nlValues_new.as_matrix()\n",
        "\n",
        "nlValues = mergeDataFrame[\"nlLabels\"]\n",
        "\n",
        "emp=mergeDataFrame[\"Village_HHD_Cluster_EMP\"].tolist()\n",
        "empDict={'1. High Unemployement':0,'2. High AL':1,'3. High Non-AL':2}\n",
        "empList = [ empDict.get(item) for item in emp ]\n",
        "\n",
        "labelArray=np.asarray(empList)\n",
        "\n",
        "from sklearn.model_selection import train_test_split\n",
        "X_train, X_test, y_train, y_test = train_test_split(trainDataRandomForest, labelArray, test_size=0.2, random_state=42)\n",
        "\n",
        "print X_train.shape\n",
        "print X_test.shape\n",
        "print y_train.shape\n",
        "print y_test.shape\n",
        "print len(empList)\n"
      ],
      "execution_count": 88,
      "outputs": [
        {
          "output_type": "stream",
          "text": [
            "/usr/local/lib/python2.7/dist-packages/ipykernel_launcher.py:3: SettingWithCopyWarning: \n",
            "A value is trying to be set on a copy of a slice from a DataFrame.\n",
            "Try using .loc[row_indexer,col_indexer] = value instead\n",
            "\n",
            "See the caveats in the documentation: http://pandas.pydata.org/pandas-docs/stable/indexing.html#indexing-view-versus-copy\n",
            "  This is separate from the ipykernel package so we can avoid doing imports until\n",
            "/usr/local/lib/python2.7/dist-packages/ipykernel_launcher.py:4: SettingWithCopyWarning: \n",
            "A value is trying to be set on a copy of a slice from a DataFrame.\n",
            "Try using .loc[row_indexer,col_indexer] = value instead\n",
            "\n",
            "See the caveats in the documentation: http://pandas.pydata.org/pandas-docs/stable/indexing.html#indexing-view-versus-copy\n",
            "  after removing the cwd from sys.path.\n"
          ],
          "name": "stderr"
        },
        {
          "output_type": "stream",
          "text": [
            "(133430, 63)\n",
            "(33358, 63)\n",
            "(133430,)\n",
            "(33358,)\n",
            "166788\n"
          ],
          "name": "stdout"
        }
      ]
    },
    {
      "metadata": {
        "id": "WUomeOoNN94s",
        "colab_type": "code",
        "colab": {
          "autoexec": {
            "startup": false,
            "wait_interval": 0
          },
          "base_uri": "https://localhost:8080/",
          "height": 34
        },
        "outputId": "8e6495cb-7f52-4faf-c6dd-426468e41a07",
        "executionInfo": {
          "status": "ok",
          "timestamp": 1525975776392,
          "user_tz": -330,
          "elapsed": 55195,
          "user": {
            "displayName": "ayush gupta",
            "photoUrl": "//lh3.googleusercontent.com/-H_gav6iJTDo/AAAAAAAAAAI/AAAAAAAA9Yk/99uj7UZOMbk/s50-c-k-no/photo.jpg",
            "userId": "116069087946857344241"
          }
        }
      },
      "cell_type": "code",
      "source": [
        "from sklearn.ensemble import RandomForestClassifier\n",
        "rf = RandomForestClassifier(n_estimators=100)\n",
        "rf.fit(X_train, y_train)\n",
        "results = rf.predict(X_test)\n",
        "from sklearn.metrics import accuracy_score\n",
        "print(\"Accuracy\",accuracy_score(y_test, results))"
      ],
      "execution_count": 89,
      "outputs": [
        {
          "output_type": "stream",
          "text": [
            "('Accuracy', 0.5043168055638827)\n"
          ],
          "name": "stdout"
        }
      ]
    },
    {
      "metadata": {
        "id": "nzP7wkyLOPpT",
        "colab_type": "code",
        "colab": {
          "autoexec": {
            "startup": false,
            "wait_interval": 0
          },
          "base_uri": "https://localhost:8080/",
          "height": 966
        },
        "outputId": "dcd5925c-c118-434a-82a4-f8c76328236b",
        "executionInfo": {
          "status": "ok",
          "timestamp": 1525975784308,
          "user_tz": -330,
          "elapsed": 2064,
          "user": {
            "displayName": "ayush gupta",
            "photoUrl": "//lh3.googleusercontent.com/-H_gav6iJTDo/AAAAAAAAAAI/AAAAAAAA9Yk/99uj7UZOMbk/s50-c-k-no/photo.jpg",
            "userId": "116069087946857344241"
          }
        }
      },
      "cell_type": "code",
      "source": [
        "from sklearn.metrics import accuracy_score\n",
        "print(\"Accuracy\",accuracy_score(y_test, results))\n",
        "cnf_matrix = confusion_matrix(y_test, results)\n",
        "class_names=['1. High Unemployement','2. High AL','3. High Non-AL']\n",
        "plt.figure()\n",
        "plot_confusion_matrix(cnf_matrix, classes=class_names,title='Employment Prediction using Random Forest')\n",
        "# Plot normalized confusion matrix\n",
        "plt.figure()\n",
        "plot_confusion_matrix(cnf_matrix, classes=class_names, normalize=True,title='Employment Prediction using Random Forest')"
      ],
      "execution_count": 90,
      "outputs": [
        {
          "output_type": "stream",
          "text": [
            "('Accuracy', 0.5043168055638827)\n",
            "Confusion matrix, without normalization\n",
            "[[9934 4679  636]\n",
            " [8495 6057  469]\n",
            " [1407  849  832]]\n",
            "Normalized confusion matrix\n",
            "[[0.65145255 0.30683979 0.04170765]\n",
            " [0.56554158 0.40323547 0.03122295]\n",
            " [0.45563472 0.27493523 0.26943005]]\n"
          ],
          "name": "stdout"
        },
        {
          "output_type": "display_data",
          "data": {
            "image/png": "[encoded data removed]",
            "text/plain": [
              "<matplotlib.figure.Figure at 0x7f4ff95219d0>"
            ]
          },
          "metadata": {
            "tags": []
          }
        },
        {
          "output_type": "display_data",
          "data": {
            "image/png": "[encoded data removed]",
            "text/plain": [
              "<matplotlib.figure.Figure at 0x7f4ff4cd0210>"
            ]
          },
          "metadata": {
            "tags": []
          }
        }
      ]
    },
    {
      "metadata": {
        "id": "hOAoZ9lua_Q1",
        "colab_type": "code",
        "colab": {
          "autoexec": {
            "startup": false,
            "wait_interval": 0
          },
          "base_uri": "https://localhost:8080/",
          "height": 4318
        },
        "outputId": "b98fac7c-1052-4aef-fe77-86c397f13e5f",
        "executionInfo": {
          "status": "ok",
          "timestamp": 1525965855809,
          "user_tz": -330,
          "elapsed": 10179,
          "user": {
            "displayName": "ayush gupta",
            "photoUrl": "//lh3.googleusercontent.com/-H_gav6iJTDo/AAAAAAAAAAI/AAAAAAAA9Yk/99uj7UZOMbk/s50-c-k-no/photo.jpg",
            "userId": "116069087946857344241"
          }
        }
      },
      "cell_type": "code",
      "source": [
        "########### Taking a 63 length vector from DN1 to DN63 and normalizing it\n",
        "listNL=[\"B\"+str(x) for x in range(2,65)]\n",
        "nlValues = df[listNL]\n",
        "nlValues[\"sum\"] = nlValues.sum(axis=1)\n",
        "nlValues[\"sum\"]+=1;\n",
        "nlValues_new = nlValues.loc[:,\"B2\":\"B64\"].div(nlValues[\"sum\"], axis=0)\n",
        "# nlValues_new.drop('sum', axis = 1, inplace = True)\n",
        "print(nlValues_new)\n",
        "from sklearn.cluster import KMeans\n",
        "kmeans = KMeans(n_clusters=3)\n",
        "kmeans.fit(nlValues_new)\n",
        "labels = kmeans.predict(nlValues_new)\n",
        "centroids = kmeans.cluster_centers_\n",
        "print(\"centroids\")\n",
        "print(centroids)\n",
        "print(\"centroids\")\n",
        "from collections import Counter\n",
        "temp=Counter(labels)\n",
        "print(temp)"
      ],
      "execution_count": 9,
      "outputs": [
        {
          "output_type": "stream",
          "text": [
            "/usr/local/lib/python2.7/dist-packages/ipykernel_launcher.py:3: SettingWithCopyWarning: \n",
            "A value is trying to be set on a copy of a slice from a DataFrame.\n",
            "Try using .loc[row_indexer,col_indexer] = value instead\n",
            "\n",
            "See the caveats in the documentation: http://pandas.pydata.org/pandas-docs/stable/indexing.html#indexing-view-versus-copy\n",
            "  This is separate from the ipykernel package so we can avoid doing imports until\n",
            "/usr/local/lib/python2.7/dist-packages/ipykernel_launcher.py:4: SettingWithCopyWarning: \n",
            "A value is trying to be set on a copy of a slice from a DataFrame.\n",
            "Try using .loc[row_indexer,col_indexer] = value instead\n",
            "\n",
            "See the caveats in the documentation: http://pandas.pydata.org/pandas-docs/stable/indexing.html#indexing-view-versus-copy\n",
            "  after removing the cwd from sys.path.\n"
          ],
          "name": "stderr"
        },
        {
          "output_type": "stream",
          "text": [
            "         B2   B3   B4        B5        B6        B7        B8        B9  \\\n",
            "0       0.0  0.0  0.0  0.000000  0.000000  0.000000  0.280435  0.019565   \n",
            "1       0.0  0.0  0.0  0.000000  0.000000  0.000000  0.000000  0.000000   \n",
            "2       0.0  0.0  0.0  0.000000  0.000000  0.302250  0.697424  0.000000   \n",
            "3       0.0  0.0  0.0  0.000000  0.000000  0.000000  0.000000  0.000000   \n",
            "4       0.0  0.0  0.0  0.000000  0.000000  0.000000  0.000000  0.000000   \n",
            "5       0.0  0.0  0.0  0.000000  0.999268  0.000000  0.000000  0.000000   \n",
            "6       0.0  0.0  0.0  0.000000  0.000000  0.000000  0.000000  0.000000   \n",
            "7       0.0  0.0  0.0  0.000000  0.000000  0.874567  0.111804  0.013398   \n",
            "8       0.0  0.0  0.0  0.000000  0.000000  0.000000  0.000000  0.000000   \n",
            "9       0.0  0.0  0.0  0.000000  0.000000  0.000000  0.000000  0.000000   \n",
            "10      0.0  0.0  0.0  0.000000  0.929978  0.067834  0.000000  0.000000   \n",
            "11      0.0  0.0  0.0  0.000000  0.000000  0.998917  0.000000  0.000000   \n",
            "12      0.0  0.0  0.0  0.000000  0.000000  0.000000  0.000000  0.000000   \n",
            "13      0.0  0.0  0.0  0.000000  0.000000  0.997462  0.000000  0.000000   \n",
            "14      0.0  0.0  0.0  0.000000  0.000000  0.000000  0.000000  0.000000   \n",
            "15      0.0  0.0  0.0  0.000000  0.993578  0.005505  0.000000  0.000000   \n",
            "16      0.0  0.0  0.0  0.000000  0.321836  0.579683  0.098414  0.000000   \n",
            "17      0.0  0.0  0.0  0.000000  0.892418  0.106557  0.000000  0.000000   \n",
            "18      0.0  0.0  0.0  0.000000  0.000000  0.000000  0.000000  0.000000   \n",
            "19      0.0  0.0  0.0  0.000000  0.734254  0.265470  0.000000  0.000000   \n",
            "20      0.0  0.0  0.0  0.000000  0.173434  0.302405  0.362017  0.162073   \n",
            "21      0.0  0.0  0.0  0.000000  0.000000  0.000000  0.000000  0.000000   \n",
            "22      0.0  0.0  0.0  0.000000  0.000000  0.000000  0.000000  0.000000   \n",
            "23      0.0  0.0  0.0  0.000000  0.205008  0.793427  0.000000  0.000000   \n",
            "24      0.0  0.0  0.0  0.000000  0.000000  0.989362  0.000000  0.000000   \n",
            "25      0.0  0.0  0.0  0.000000  0.548798  0.378004  0.072833  0.000000   \n",
            "26      0.0  0.0  0.0  0.000000  0.000000  0.000000  0.000000  0.000000   \n",
            "27      0.0  0.0  0.0  0.000000  0.000000  0.000000  0.000000  0.000000   \n",
            "28      0.0  0.0  0.0  0.000000  0.000000  0.000000  0.000000  0.381144   \n",
            "29      0.0  0.0  0.0  0.000000  0.000000  0.000000  0.000000  0.000000   \n",
            "...     ...  ...  ...       ...       ...       ...       ...       ...   \n",
            "178730  0.0  0.0  0.0  0.000000  0.000000  0.000000  0.000000  0.000000   \n",
            "178731  0.0  0.0  0.0  0.000000  0.000000  0.000000  0.000000  0.000000   \n",
            "178732  0.0  0.0  0.0  0.000000  0.000000  0.997727  0.000000  0.000000   \n",
            "178733  0.0  0.0  0.0  0.000000  0.998878  0.000000  0.000000  0.000000   \n",
            "178734  0.0  0.0  0.0  0.000000  0.000000  0.000000  0.000000  0.000000   \n",
            "178735  0.0  0.0  0.0  0.000000  0.000000  0.000000  0.000000  0.000000   \n",
            "178736  0.0  0.0  0.0  0.000000  0.000000  0.000000  0.000000  0.000000   \n",
            "178737  0.0  0.0  0.0  0.000000  0.000000  0.000000  0.000000  0.000000   \n",
            "178738  0.0  0.0  0.0  0.000000  0.000000  0.000000  0.000000  0.000000   \n",
            "178739  0.0  0.0  0.0  0.000000  0.000000  0.000000  0.000000  0.000000   \n",
            "178740  0.0  0.0  0.0  0.000000  0.139138  0.285105  0.420828  0.142552   \n",
            "178741  0.0  0.0  0.0  0.000000  0.000000  0.000000  0.000000  0.000000   \n",
            "178742  0.0  0.0  0.0  0.000000  0.999511  0.000000  0.000000  0.000000   \n",
            "178743  0.0  0.0  0.0  0.000000  0.000000  0.000000  0.000000  0.000000   \n",
            "178744  0.0  0.0  0.0  0.000000  0.000000  0.000000  0.000000  0.000000   \n",
            "178745  0.0  0.0  0.0  0.000000  0.991714  0.008123  0.000000  0.000000   \n",
            "178746  0.0  0.0  0.0  0.000000  0.000000  0.000000  0.000000  0.000000   \n",
            "178747  0.0  0.0  0.0  0.996454  0.000000  0.000000  0.000000  0.000000   \n",
            "178748  0.0  0.0  0.0  0.000000  0.962138  0.036748  0.000000  0.000000   \n",
            "178749  0.0  0.0  0.0  0.000000  0.000000  0.000000  0.000000  0.000000   \n",
            "178750  0.0  0.0  0.0  0.000000  0.000000  0.000000  0.000000  0.000000   \n",
            "178751  0.0  0.0  0.0  0.000000  0.998768  0.000000  0.000000  0.000000   \n",
            "178752  0.0  0.0  0.0  0.000000  0.897315  0.102013  0.000000  0.000000   \n",
            "178753  0.0  0.0  0.0  0.000000  0.000000  0.000000  0.095492  0.620403   \n",
            "178754  0.0  0.0  0.0  0.000000  0.000000  0.000000  0.000000  0.000000   \n",
            "178755  0.0  0.0  0.0  0.000000  0.000000  0.000000  0.000000  0.000000   \n",
            "178756  0.0  0.0  0.0  0.000000  0.000000  0.000000  0.000000  0.000000   \n",
            "178757  0.0  0.0  0.0  0.000000  0.000000  0.000000  0.000000  0.000000   \n",
            "178758  0.0  0.0  0.0  0.000000  0.000000  0.000000  0.000000  0.000000   \n",
            "178759  0.0  0.0  0.0  0.000000  0.000000  0.000000  0.000000  0.000000   \n",
            "\n",
            "             B10       B11 ...   B55  B56  B57  B58  B59  B60  B61  B62  B63  \\\n",
            "0       0.482609  0.216304 ...   0.0  0.0  0.0  0.0  0.0  0.0  0.0  0.0  0.0   \n",
            "1       0.000000  0.000000 ...   0.0  0.0  0.0  0.0  0.0  0.0  0.0  0.0  0.0   \n",
            "2       0.000000  0.000000 ...   0.0  0.0  0.0  0.0  0.0  0.0  0.0  0.0  0.0   \n",
            "3       0.000000  0.000000 ...   0.0  0.0  0.0  0.0  0.0  0.0  0.0  0.0  0.0   \n",
            "4       0.000000  0.000000 ...   0.0  0.0  0.0  0.0  0.0  0.0  0.0  0.0  0.0   \n",
            "5       0.000000  0.000000 ...   0.0  0.0  0.0  0.0  0.0  0.0  0.0  0.0  0.0   \n",
            "6       0.000000  0.000000 ...   0.0  0.0  0.0  0.0  0.0  0.0  0.0  0.0  0.0   \n",
            "7       0.000000  0.000000 ...   0.0  0.0  0.0  0.0  0.0  0.0  0.0  0.0  0.0   \n",
            "8       0.000000  0.000000 ...   0.0  0.0  0.0  0.0  0.0  0.0  0.0  0.0  0.0   \n",
            "9       0.000000  0.000000 ...   0.0  0.0  0.0  0.0  0.0  0.0  0.0  0.0  0.0   \n",
            "10      0.000000  0.000000 ...   0.0  0.0  0.0  0.0  0.0  0.0  0.0  0.0  0.0   \n",
            "11      0.000000  0.000000 ...   0.0  0.0  0.0  0.0  0.0  0.0  0.0  0.0  0.0   \n",
            "12      0.000000  0.000000 ...   0.0  0.0  0.0  0.0  0.0  0.0  0.0  0.0  0.0   \n",
            "13      0.000000  0.000000 ...   0.0  0.0  0.0  0.0  0.0  0.0  0.0  0.0  0.0   \n",
            "14      0.000000  0.000000 ...   0.0  0.0  0.0  0.0  0.0  0.0  0.0  0.0  0.0   \n",
            "15      0.000000  0.000000 ...   0.0  0.0  0.0  0.0  0.0  0.0  0.0  0.0  0.0   \n",
            "16      0.000000  0.000000 ...   0.0  0.0  0.0  0.0  0.0  0.0  0.0  0.0  0.0   \n",
            "17      0.000000  0.000000 ...   0.0  0.0  0.0  0.0  0.0  0.0  0.0  0.0  0.0   \n",
            "18      0.000000  0.000000 ...   0.0  0.0  0.0  0.0  0.0  0.0  0.0  0.0  0.0   \n",
            "19      0.000000  0.000000 ...   0.0  0.0  0.0  0.0  0.0  0.0  0.0  0.0  0.0   \n",
            "20      0.000000  0.000000 ...   0.0  0.0  0.0  0.0  0.0  0.0  0.0  0.0  0.0   \n",
            "21      0.000000  0.000000 ...   0.0  0.0  0.0  0.0  0.0  0.0  0.0  0.0  0.0   \n",
            "22      0.000000  0.000000 ...   0.0  0.0  0.0  0.0  0.0  0.0  0.0  0.0  0.0   \n",
            "23      0.000000  0.000000 ...   0.0  0.0  0.0  0.0  0.0  0.0  0.0  0.0  0.0   \n",
            "24      0.000000  0.000000 ...   0.0  0.0  0.0  0.0  0.0  0.0  0.0  0.0  0.0   \n",
            "25      0.000000  0.000000 ...   0.0  0.0  0.0  0.0  0.0  0.0  0.0  0.0  0.0   \n",
            "26      0.000000  0.000000 ...   0.0  0.0  0.0  0.0  0.0  0.0  0.0  0.0  0.0   \n",
            "27      0.000000  0.000000 ...   0.0  0.0  0.0  0.0  0.0  0.0  0.0  0.0  0.0   \n",
            "28      0.618050  0.000000 ...   0.0  0.0  0.0  0.0  0.0  0.0  0.0  0.0  0.0   \n",
            "29      0.000000  0.000000 ...   0.0  0.0  0.0  0.0  0.0  0.0  0.0  0.0  0.0   \n",
            "...          ...       ... ...   ...  ...  ...  ...  ...  ...  ...  ...  ...   \n",
            "178730  0.000000  0.000000 ...   0.0  0.0  0.0  0.0  0.0  0.0  0.0  0.0  0.0   \n",
            "178731  0.000000  0.000000 ...   0.0  0.0  0.0  0.0  0.0  0.0  0.0  0.0  0.0   \n",
            "178732  0.000000  0.000000 ...   0.0  0.0  0.0  0.0  0.0  0.0  0.0  0.0  0.0   \n",
            "178733  0.000000  0.000000 ...   0.0  0.0  0.0  0.0  0.0  0.0  0.0  0.0  0.0   \n",
            "178734  0.000000  0.000000 ...   0.0  0.0  0.0  0.0  0.0  0.0  0.0  0.0  0.0   \n",
            "178735  0.000000  0.000000 ...   0.0  0.0  0.0  0.0  0.0  0.0  0.0  0.0  0.0   \n",
            "178736  0.000000  0.000000 ...   0.0  0.0  0.0  0.0  0.0  0.0  0.0  0.0  0.0   \n",
            "178737  0.000000  0.000000 ...   0.0  0.0  0.0  0.0  0.0  0.0  0.0  0.0  0.0   \n",
            "178738  0.000000  0.000000 ...   0.0  0.0  0.0  0.0  0.0  0.0  0.0  0.0  0.0   \n",
            "178739  0.000000  0.000000 ...   0.0  0.0  0.0  0.0  0.0  0.0  0.0  0.0  0.0   \n",
            "178740  0.011950  0.000000 ...   0.0  0.0  0.0  0.0  0.0  0.0  0.0  0.0  0.0   \n",
            "178741  0.000000  0.000000 ...   0.0  0.0  0.0  0.0  0.0  0.0  0.0  0.0  0.0   \n",
            "178742  0.000000  0.000000 ...   0.0  0.0  0.0  0.0  0.0  0.0  0.0  0.0  0.0   \n",
            "178743  0.000000  0.000000 ...   0.0  0.0  0.0  0.0  0.0  0.0  0.0  0.0  0.0   \n",
            "178744  0.000000  0.000000 ...   0.0  0.0  0.0  0.0  0.0  0.0  0.0  0.0  0.0   \n",
            "178745  0.000000  0.000000 ...   0.0  0.0  0.0  0.0  0.0  0.0  0.0  0.0  0.0   \n",
            "178746  0.000000  0.000000 ...   0.0  0.0  0.0  0.0  0.0  0.0  0.0  0.0  0.0   \n",
            "178747  0.000000  0.000000 ...   0.0  0.0  0.0  0.0  0.0  0.0  0.0  0.0  0.0   \n",
            "178748  0.000000  0.000000 ...   0.0  0.0  0.0  0.0  0.0  0.0  0.0  0.0  0.0   \n",
            "178749  0.000000  0.000000 ...   0.0  0.0  0.0  0.0  0.0  0.0  0.0  0.0  0.0   \n",
            "178750  0.000000  0.000000 ...   0.0  0.0  0.0  0.0  0.0  0.0  0.0  0.0  0.0   \n",
            "178751  0.000000  0.000000 ...   0.0  0.0  0.0  0.0  0.0  0.0  0.0  0.0  0.0   \n",
            "178752  0.000000  0.000000 ...   0.0  0.0  0.0  0.0  0.0  0.0  0.0  0.0  0.0   \n",
            "178753  0.283511  0.000000 ...   0.0  0.0  0.0  0.0  0.0  0.0  0.0  0.0  0.0   \n",
            "178754  0.000000  0.000000 ...   0.0  0.0  0.0  0.0  0.0  0.0  0.0  0.0  0.0   \n",
            "178755  0.000000  0.000000 ...   0.0  0.0  0.0  0.0  0.0  0.0  0.0  0.0  0.0   \n",
            "178756  0.000000  0.000000 ...   0.0  0.0  0.0  0.0  0.0  0.0  0.0  0.0  0.0   \n",
            "178757  0.000000  0.000000 ...   0.0  0.0  0.0  0.0  0.0  0.0  0.0  0.0  0.0   \n",
            "178758  0.000000  0.000000 ...   0.0  0.0  0.0  0.0  0.0  0.0  0.0  0.0  0.0   \n",
            "178759  0.000000  0.000000 ...   0.0  0.0  0.0  0.0  0.0  0.0  0.0  0.0  0.0   \n",
            "\n",
            "        B64  \n",
            "0       0.0  \n",
            "1       0.0  \n",
            "2       0.0  \n",
            "3       0.0  \n",
            "4       0.0  \n",
            "5       0.0  \n",
            "6       0.0  \n",
            "7       0.0  \n",
            "8       0.0  \n",
            "9       0.0  \n",
            "10      0.0  \n",
            "11      0.0  \n",
            "12      0.0  \n",
            "13      0.0  \n",
            "14      0.0  \n",
            "15      0.0  \n",
            "16      0.0  \n",
            "17      0.0  \n",
            "18      0.0  \n",
            "19      0.0  \n",
            "20      0.0  \n",
            "21      0.0  \n",
            "22      0.0  \n",
            "23      0.0  \n",
            "24      0.0  \n",
            "25      0.0  \n",
            "26      0.0  \n",
            "27      0.0  \n",
            "28      0.0  \n",
            "29      0.0  \n",
            "...     ...  \n",
            "178730  0.0  \n",
            "178731  0.0  \n",
            "178732  0.0  \n",
            "178733  0.0  \n",
            "178734  0.0  \n",
            "178735  0.0  \n",
            "178736  0.0  \n",
            "178737  0.0  \n",
            "178738  0.0  \n",
            "178739  0.0  \n",
            "178740  0.0  \n",
            "178741  0.0  \n",
            "178742  0.0  \n",
            "178743  0.0  \n",
            "178744  0.0  \n",
            "178745  0.0  \n",
            "178746  0.0  \n",
            "178747  0.0  \n",
            "178748  0.0  \n",
            "178749  0.0  \n",
            "178750  0.0  \n",
            "178751  0.0  \n",
            "178752  0.0  \n",
            "178753  0.0  \n",
            "178754  0.0  \n",
            "178755  0.0  \n",
            "178756  0.0  \n",
            "178757  0.0  \n",
            "178758  0.0  \n",
            "178759  0.0  \n",
            "\n",
            "[178760 rows x 63 columns]\n",
            "centroids\n",
            "[[ 0.00000000e+00  0.00000000e+00  0.00000000e+00  1.34514281e-02\n",
            "   9.23600232e-03  2.39818274e-02  1.02493361e-01  7.64054584e-02\n",
            "   5.15843189e-02  3.51201181e-02  2.56565617e-02  1.93342089e-02\n",
            "   1.51059873e-02  1.19906214e-02  9.83967222e-03  8.13047746e-03\n",
            "   6.82013015e-03  5.75655806e-03  4.94643985e-03  4.25327221e-03\n",
            "   4.08566632e-03  3.38916126e-03  2.92083273e-03  2.85855445e-03\n",
            "   2.48646097e-03  2.22454593e-03  2.06468503e-03  1.85240689e-03\n",
            "   1.80833906e-03  1.62334845e-03  1.63505975e-03  1.33119172e-03\n",
            "   1.33689125e-03  1.13522521e-03  1.24295561e-03  9.77404238e-04\n",
            "   9.54831103e-04  1.03858086e-03  8.08446622e-04  9.96911565e-04\n",
            "   7.68972455e-04  7.25220702e-04  8.17986652e-04  7.42484996e-04\n",
            "   7.07392727e-04  6.05004849e-04  6.30730179e-04  5.31160254e-04\n",
            "   5.84909140e-04  6.12568553e-04  5.75176029e-04  5.37152262e-04\n",
            "   4.97123477e-04  4.30873587e-04  5.34612743e-04  5.44187173e-04\n",
            "   5.22967101e-04  5.75954252e-04  5.32413564e-04  5.38233302e-04\n",
            "   6.12134022e-04  8.45443242e-04  6.79994826e-04]\n",
            " [ 0.00000000e+00  0.00000000e+00  0.00000000e+00  1.42748472e-03\n",
            "   1.45037986e-01  7.12861163e-01  1.17528041e-01  1.50499276e-02\n",
            "   3.45944645e-03  1.27054191e-03  5.30448851e-04  2.45681828e-04\n",
            "   1.34336527e-04  7.77955219e-05  5.54302483e-05  3.08012750e-05\n",
            "   3.19798838e-05  1.50254429e-05  1.36839137e-05  1.21852848e-05\n",
            "   5.39258665e-06  4.30004271e-06  6.19171231e-06  1.92374484e-06\n",
            "   7.53607016e-07  5.27768340e-07  7.03368300e-09  1.11799730e-07\n",
            "   5.44081502e-07  2.31159026e-06  7.78091470e-07 -1.77267055e-16\n",
            "  -2.42427606e-16 -2.51101223e-16  5.04045590e-16  1.40554388e-06\n",
            "  -1.89518540e-16  3.05853433e-16  4.34494021e-16  4.85139339e-07\n",
            "   9.67256005e-08 -3.05094491e-16  1.93638508e-16 -1.93367457e-16\n",
            "  -3.33446378e-16  1.44144679e-16 -1.17635936e-16 -3.91396984e-17\n",
            "   8.35377774e-17  1.43710998e-16  3.85391064e-07 -6.64073831e-17\n",
            "   9.06802511e-09 -2.36952385e-16 -1.18178037e-17 -4.85722573e-17\n",
            "  -2.48987029e-16  1.66153983e-16  1.19858550e-16  4.64580631e-17\n",
            "  -8.83624771e-18  9.60603125e-17 -1.91090633e-16]\n",
            " [ 0.00000000e+00  0.00000000e+00  0.00000000e+00  2.84737915e-02\n",
            "   8.62669856e-01  9.38939812e-02  7.43703369e-03  1.38774549e-03\n",
            "   3.99356273e-04  2.01605701e-04  8.16065538e-05  4.91621880e-05\n",
            "   3.08411077e-05  1.58398750e-05  1.46798252e-05  3.92625311e-06\n",
            "   4.98374988e-06  4.03437636e-06  3.76731542e-06  8.03174793e-07\n",
            "   1.21998717e-06  2.99634419e-08 -1.36913050e-15  7.63242179e-07\n",
            "   2.58109358e-06  2.59859250e-07  1.70635392e-07  1.01893249e-06\n",
            "   9.95948116e-16 -3.88903319e-16  1.87344919e-09 -2.87096735e-16\n",
            "  -3.53449908e-16 -2.83302028e-16  6.58219139e-16  1.64690310e-16\n",
            "   4.69448749e-08  3.17020715e-16  2.54624880e-16 -2.60208521e-18\n",
            "   2.91379334e-16 -2.45788633e-16  2.05022631e-16 -9.09103522e-17\n",
            "  -3.68628739e-16  1.59377719e-16 -1.78893358e-16  2.93818789e-17\n",
            "   1.49674110e-16  2.07733136e-16  1.56829844e-16 -1.38669458e-16\n",
            "   1.61491914e-16 -2.65033221e-16 -1.18178037e-17 -1.19641710e-16\n",
            "  -2.72080535e-16  1.82959117e-16  1.93855348e-16 -2.10877323e-17\n",
            "  -6.82505268e-17 -8.96635197e-17 -2.57985907e-16]]\n",
            "centroids\n",
            "Counter({0: 106947, 2: 38523, 1: 33290})\n"
          ],
          "name": "stdout"
        }
      ]
    },
    {
      "metadata": {
        "id": "OzACQz_Nr-Ok",
        "colab_type": "code",
        "colab": {
          "autoexec": {
            "startup": false,
            "wait_interval": 0
          },
          "base_uri": "https://localhost:8080/",
          "height": 707
        },
        "outputId": "47e5a1d2-6f08-48e4-8a59-8436cbdda42b",
        "executionInfo": {
          "status": "ok",
          "timestamp": 1524583411289,
          "user_tz": -330,
          "elapsed": 1584,
          "user": {
            "displayName": "ayush gupta",
            "photoUrl": "//lh3.googleusercontent.com/-H_gav6iJTDo/AAAAAAAAAAI/AAAAAAAA9Yk/99uj7UZOMbk/s50-c-k-no/photo.jpg",
            "userId": "116069087946857344241"
          }
        }
      },
      "cell_type": "code",
      "source": [
        "listNL=[\"B\"+str(x) for x in range(2,65)]\n",
        "nlValues = df[listNL]\n",
        "sumNL=nlValues.sum().values.astype(float)\n",
        "totalPixels=sumNL.sum()\n",
        "# print(sumNL)\n",
        "print(type(sumNL))\n",
        "print(sumNL.sum())\n",
        "percentageNL=sumNL*(100.0/totalPixels)\n",
        "print(percentageNL)\n",
        "cumPercentSum=np.cumsum(percentageNL, dtype=float)\n",
        "print(cumPercentSum)\n",
        "xList = [t for t in range(2,65)]\n",
        "import matplotlib.pyplot as plt\n",
        "plt.plot(xList,cumPercentSum, 'ro')\n",
        "# plt.axis([0, 6, 0, 20])\n",
        "plt.show()"
      ],
      "execution_count": 0,
      "outputs": [
        {
          "output_type": "stream",
          "text": [
            "<type 'numpy.ndarray'>\n",
            "609062039.0\n",
            "[ 0.          0.          0.          1.96947572 27.28482377 24.51016685\n",
            " 13.6201951   8.05815777  5.1623682   3.58504464  2.70170327  2.07217577\n",
            "  1.62080829  1.23685528  1.00302475  0.80818631  0.66822881  0.55297355\n",
            "  0.48153929  0.40851602  0.35277342  0.30934107  0.26190107  0.23400096\n",
            "  0.21088853  0.19013859  0.17688559  0.15512196  0.15251566  0.126351\n",
            "  0.13169282  0.10453073  0.10556215  0.09403558  0.10148917  0.08373909\n",
            "  0.07892267  0.08254446  0.06863931  0.07386965  0.06289885  0.05935307\n",
            "  0.06323444  0.05609511  0.05843723  0.05230337  0.05017157  0.04592422\n",
            "  0.04775638  0.0487768   0.04540999  0.04232508  0.0449327   0.0346078\n",
            "  0.03999363  0.04118644  0.04040869  0.04458249  0.03794211  0.04851033\n",
            "  0.0463557   0.06765748  0.08194962]\n",
            "[  0.           0.           0.           1.96947572  29.2542995\n",
            "  53.76446635  67.38466145  75.44281922  80.60518741  84.19023206\n",
            "  86.89193532  88.96411109  90.58491938  91.82177466  92.82479941\n",
            "  93.63298572  94.30121453  94.85418808  95.33572737  95.74424339\n",
            "  96.09701681  96.40635788  96.66825895  96.9022599   97.11314844\n",
            "  97.30328703  97.48017262  97.63529459  97.78781025  97.91416125\n",
            "  98.04585408  98.15038481  98.25594696  98.34998254  98.45147171\n",
            "  98.53521079  98.61413346  98.69667793  98.76531724  98.83918689\n",
            "  98.90208574  98.9614388   99.02467325  99.08076836  99.13920559\n",
            "  99.19150896  99.24168053  99.28760476  99.33536114  99.38413794\n",
            "  99.42954793  99.47187301  99.51680571  99.55141351  99.59140714\n",
            "  99.63259359  99.67300228  99.71758476  99.75552687  99.8040372\n",
            "  99.85039291  99.91805038 100.        ]\n"
          ],
          "name": "stdout"
        },
        {
          "output_type": "display_data",
          "data": {
            "image/png": "[encoded data removed]",
            "text/plain": [
              "<matplotlib.figure.Figure at 0x7f33ab003210>"
            ]
          },
          "metadata": {
            "tags": []
          }
        }
      ]
    },
    {
      "metadata": {
        "id": "VEGYUZTovx9E",
        "colab_type": "text"
      },
      "cell_type": "markdown",
      "source": [
        "Below is the Chart for Plot of Height and Width of All Villages!"
      ]
    },
    {
      "metadata": {
        "id": "qymQ82S9aHEH",
        "colab_type": "code",
        "colab": {
          "autoexec": {
            "startup": false,
            "wait_interval": 0
          },
          "base_uri": "https://localhost:8080/",
          "height": 267
        },
        "outputId": "bde76ce0-26cc-4d35-9777-db137aadbd63",
        "executionInfo": {
          "status": "ok",
          "timestamp": 1524581778061,
          "user_tz": -330,
          "elapsed": 1381,
          "user": {
            "displayName": "ayush gupta",
            "photoUrl": "//lh3.googleusercontent.com/-H_gav6iJTDo/AAAAAAAAAAI/AAAAAAAA9Yk/99uj7UZOMbk/s50-c-k-no/photo.jpg",
            "userId": "116069087946857344241"
          }
        }
      },
      "cell_type": "code",
      "source": [
        "dfrowH=df[['rowH']].values\n",
        "rowHValues= [x[0] for x in dfrowH]\n",
        "%matplotlib inline\n",
        "plt.hist(rowHValues, normed=False, bins=100)\n",
        "plt.ylabel('NumberOfVillages');"
      ],
      "execution_count": 0,
      "outputs": [
        {
          "output_type": "display_data",
          "data": {
            "image/png": "[encoded data removed]",
            "text/plain": [
              "<matplotlib.figure.Figure at 0x7f33adb3e550>"
            ]
          },
          "metadata": {
            "tags": []
          }
        }
      ]
    },
    {
      "metadata": {
        "id": "Bte3tisNa5XY",
        "colab_type": "code",
        "colab": {
          "autoexec": {
            "startup": false,
            "wait_interval": 0
          },
          "base_uri": "https://localhost:8080/",
          "height": 268
        },
        "outputId": "cf8e15d1-14f5-4e7d-81db-7a79afd5afdb",
        "executionInfo": {
          "status": "ok",
          "timestamp": 1524581782357,
          "user_tz": -330,
          "elapsed": 1253,
          "user": {
            "displayName": "ayush gupta",
            "photoUrl": "//lh3.googleusercontent.com/-H_gav6iJTDo/AAAAAAAAAAI/AAAAAAAA9Yk/99uj7UZOMbk/s50-c-k-no/photo.jpg",
            "userId": "116069087946857344241"
          }
        }
      },
      "cell_type": "code",
      "source": [
        "dfcolH=df[['colH']].values\n",
        "colHValues= [x[0] for x in dfcolH]\n",
        "%matplotlib inline\n",
        "plt.hist(colHValues, normed=False, bins=100)\n",
        "plt.ylabel('NumberOfVillages');"
      ],
      "execution_count": 0,
      "outputs": [
        {
          "output_type": "display_data",
          "data": {
            "image/png": "[encoded data removed]",
            "text/plain": [
              "<matplotlib.figure.Figure at 0x7f33ab63ff90>"
            ]
          },
          "metadata": {
            "tags": []
          }
        }
      ]
    },
    {
      "metadata": {
        "id": "-mZA0g7fr-Ds",
        "colab_type": "code",
        "colab": {
          "autoexec": {
            "startup": false,
            "wait_interval": 0
          },
          "base_uri": "https://localhost:8080/",
          "height": 51
        },
        "outputId": "8c6cb50d-c7b5-4763-d780-49db50be521c",
        "executionInfo": {
          "status": "ok",
          "timestamp": 1524651353129,
          "user_tz": -330,
          "elapsed": 1972,
          "user": {
            "displayName": "ayush gupta",
            "photoUrl": "//lh3.googleusercontent.com/-H_gav6iJTDo/AAAAAAAAAAI/AAAAAAAA9Yk/99uj7UZOMbk/s50-c-k-no/photo.jpg",
            "userId": "116069087946857344241"
          }
        }
      },
      "cell_type": "code",
      "source": [
        "threshold=250\n",
        "dfDimension = df[['rowH','colH']]\n",
        "# dfDimension.head()\n",
        "print(dfDimension.shape[0])\n",
        "print(dfDimension.shape[0])\n",
        "x=[]\n",
        "y=[]\n",
        "for threshold in range(300):\n",
        "  dfDimension1 = dfDimension[ (dfDimension.rowH<=threshold) & (dfDimension.colH<=threshold) ]\n",
        "  x.append(threshold)\n",
        "  y.append(dfDimension1.shape[0])"
      ],
      "execution_count": 3,
      "outputs": [
        {
          "output_type": "stream",
          "text": [
            "178760\n",
            "178760\n"
          ],
          "name": "stdout"
        }
      ]
    },
    {
      "metadata": {
        "id": "pmxKp8T8sGmQ",
        "colab_type": "code",
        "colab": {
          "autoexec": {
            "startup": false,
            "wait_interval": 0
          },
          "base_uri": "https://localhost:8080/",
          "height": 265
        },
        "outputId": "2b77d40b-95ca-49d3-f098-7d0693610a52",
        "executionInfo": {
          "status": "ok",
          "timestamp": 1524524339551,
          "user_tz": -330,
          "elapsed": 1282,
          "user": {
            "displayName": "ayush gupta",
            "photoUrl": "//lh3.googleusercontent.com/-H_gav6iJTDo/AAAAAAAAAAI/AAAAAAAA9Yk/99uj7UZOMbk/s50-c-k-no/photo.jpg",
            "userId": "116069087946857344241"
          }
        }
      },
      "cell_type": "code",
      "source": [
        "import matplotlib.pyplot as plt\n",
        "plt.plot(x, y, 'ro')\n",
        "# plt.axis([0, 6, 0, 20])\n",
        "plt.show()"
      ],
      "execution_count": 0,
      "outputs": [
        {
          "output_type": "display_data",
          "data": {
            "image/png": "[encoded data removed]",
            "text/plain": [
              "<matplotlib.figure.Figure at 0x7f18f11d7350>"
            ]
          },
          "metadata": {
            "tags": []
          }
        }
      ]
    },
    {
      "metadata": {
        "id": "Sxq6vwE6TfZG",
        "colab_type": "code",
        "colab": {
          "autoexec": {
            "startup": false,
            "wait_interval": 0
          },
          "base_uri": "https://localhost:8080/",
          "height": 85
        },
        "outputId": "6305eebe-ac70-4fe8-95c4-0532e49ec89e",
        "executionInfo": {
          "status": "ok",
          "timestamp": 1524651445374,
          "user_tz": -330,
          "elapsed": 1063,
          "user": {
            "displayName": "ayush gupta",
            "photoUrl": "//lh3.googleusercontent.com/-H_gav6iJTDo/AAAAAAAAAAI/AAAAAAAA9Yk/99uj7UZOMbk/s50-c-k-no/photo.jpg",
            "userId": "116069087946857344241"
          }
        }
      },
      "cell_type": "code",
      "source": [
        "dfDimension1 = dfDimension[ (dfDimension.rowH<=100) & (dfDimension.colH<=100) ]\n",
        "print(dfDimension1.shape[0])\n",
        "dfDimension1 = dfDimension[ (dfDimension.rowH<=150) & (dfDimension.colH<=150) ]\n",
        "print(dfDimension1.shape[0])\n",
        "dfDimension1 = dfDimension[ (dfDimension.rowH<=200) & (dfDimension.colH<=200) ]\n",
        "print(dfDimension1.shape[0])\n",
        "dfDimension1 = dfDimension[ (dfDimension.rowH<=250) & (dfDimension.colH<=250) ]\n",
        "print(dfDimension1.shape[0])"
      ],
      "execution_count": 4,
      "outputs": [
        {
          "output_type": "stream",
          "text": [
            "107710\n",
            "150393\n",
            "168040\n",
            "174639\n"
          ],
          "name": "stdout"
        }
      ]
    }
  ]
}